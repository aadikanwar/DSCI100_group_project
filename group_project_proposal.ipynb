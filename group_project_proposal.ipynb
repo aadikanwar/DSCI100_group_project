{
 "cells": [
  {
   "cell_type": "markdown",
   "id": "b0ba0226-9ef8-4ecd-9e27-f716273b435f",
   "metadata": {},
   "source": [
    "# DSCI 100 Group Project -- Aadi Kanwar"
   ]
  },
  {
   "cell_type": "markdown",
   "id": "2137bda7-1d1b-4556-8abc-c4eb5d2e1322",
   "metadata": {},
   "source": [
    "## Introduction"
   ]
  },
  {
   "cell_type": "markdown",
   "id": "31700eba-d963-4df4-8a68-df5b1cee9021",
   "metadata": {},
   "source": [
    "Our group has decided to analyze a dataset containing various categorical and numerical facts about individuals (education, income, and credit score being pertinent to this project), classifying the credit score categorically as either \"Low\" \"Average\" or \"High\". An individual's credit score describes their \"creditworthiness\", i.e their ability and trustworthiness to repay their debts. Therefore one can reason that a high credit score demonstrates a high \"creditworthiness\". Credit scores can be numerically represented, (and often are), but for the simplicity of this project, we have decided to classify credit scores between three categorical variables, (low, average, and high). If one wishes to consider these categories numerically, we consider a low credit score to be approximately 300, a high credit score to be around 800, and an average credit score to be around 550 (Investopedia, 2023). Given this information, we formulate the question: \"What is a credit score of an individual classified as, when considering their income and education?\". The specific data set that will be used to answer this question is titled \"Credit Score Classification Dataset\" and is provided by Sujith K. Mandala on Kaggle ([here is a direct link](https://www.kaggle.com/datasets/sujithmandala/credit-score-classification-dataset/data)). "
   ]
  },
  {
   "cell_type": "markdown",
   "id": "53c85ddd-dfde-450d-a4f0-e09f52b17b0f",
   "metadata": {},
   "source": [
    "## Preliminary Exploratory Data Analysis "
   ]
  },
  {
   "cell_type": "markdown",
   "id": "3e246058-4f06-4ac9-b3ca-a9072c39e278",
   "metadata": {},
   "source": [
    "### Reading the dataset into R from the web"
   ]
  },
  {
   "cell_type": "code",
   "execution_count": 1,
   "id": "3ab871b7-9715-47af-9cb2-652055e361d3",
   "metadata": {
    "tags": []
   },
   "outputs": [
    {
     "name": "stderr",
     "output_type": "stream",
     "text": [
      "Updating HTML index of packages in '.Library'\n",
      "\n",
      "Making 'packages.html' ...\n",
      " done\n",
      "\n"
     ]
    }
   ],
   "source": [
    "install.packages(\"janitor\")"
   ]
  },
  {
   "cell_type": "code",
   "execution_count": 11,
   "id": "30481a7c-0328-4429-82a0-32f3a15bd582",
   "metadata": {
    "tags": []
   },
   "outputs": [
    {
     "name": "stderr",
     "output_type": "stream",
     "text": [
      "\u001b[1mRows: \u001b[22m\u001b[34m164\u001b[39m \u001b[1mColumns: \u001b[22m\u001b[34m8\u001b[39m\n",
      "\u001b[36m──\u001b[39m \u001b[1mColumn specification\u001b[22m \u001b[36m────────────────────────────────────────────────────────\u001b[39m\n",
      "\u001b[1mDelimiter:\u001b[22m \",\"\n",
      "\u001b[31mchr\u001b[39m (5): Gender, Education, Marital Status, Home Ownership, Credit Score\n",
      "\u001b[32mdbl\u001b[39m (3): Age, Income, Number of Children\n",
      "\n",
      "\u001b[36mℹ\u001b[39m Use `spec()` to retrieve the full column specification for this data.\n",
      "\u001b[36mℹ\u001b[39m Specify the column types or set `show_col_types = FALSE` to quiet this message.\n"
     ]
    },
    {
     "data": {
      "text/html": [
       "<table class=\"dataframe\">\n",
       "<caption>A tibble: 6 × 8</caption>\n",
       "<thead>\n",
       "\t<tr><th scope=col>Age</th><th scope=col>Gender</th><th scope=col>Income</th><th scope=col>Education</th><th scope=col>Marital Status</th><th scope=col>Number of Children</th><th scope=col>Home Ownership</th><th scope=col>Credit Score</th></tr>\n",
       "\t<tr><th scope=col>&lt;dbl&gt;</th><th scope=col>&lt;chr&gt;</th><th scope=col>&lt;dbl&gt;</th><th scope=col>&lt;chr&gt;</th><th scope=col>&lt;chr&gt;</th><th scope=col>&lt;dbl&gt;</th><th scope=col>&lt;chr&gt;</th><th scope=col>&lt;chr&gt;</th></tr>\n",
       "</thead>\n",
       "<tbody>\n",
       "\t<tr><td>25</td><td>Female</td><td> 50000</td><td>Bachelor's Degree  </td><td>Single </td><td>0</td><td>Rented</td><td>High</td></tr>\n",
       "\t<tr><td>30</td><td>Male  </td><td>100000</td><td>Master's Degree    </td><td>Married</td><td>2</td><td>Owned </td><td>High</td></tr>\n",
       "\t<tr><td>35</td><td>Female</td><td> 75000</td><td>Doctorate          </td><td>Married</td><td>1</td><td>Owned </td><td>High</td></tr>\n",
       "\t<tr><td>40</td><td>Male  </td><td>125000</td><td>High School Diploma</td><td>Single </td><td>0</td><td>Owned </td><td>High</td></tr>\n",
       "\t<tr><td>45</td><td>Female</td><td>100000</td><td>Bachelor's Degree  </td><td>Married</td><td>3</td><td>Owned </td><td>High</td></tr>\n",
       "\t<tr><td>50</td><td>Male  </td><td>150000</td><td>Master's Degree    </td><td>Married</td><td>0</td><td>Owned </td><td>High</td></tr>\n",
       "</tbody>\n",
       "</table>\n"
      ],
      "text/latex": [
       "A tibble: 6 × 8\n",
       "\\begin{tabular}{llllllll}\n",
       " Age & Gender & Income & Education & Marital Status & Number of Children & Home Ownership & Credit Score\\\\\n",
       " <dbl> & <chr> & <dbl> & <chr> & <chr> & <dbl> & <chr> & <chr>\\\\\n",
       "\\hline\n",
       "\t 25 & Female &  50000 & Bachelor's Degree   & Single  & 0 & Rented & High\\\\\n",
       "\t 30 & Male   & 100000 & Master's Degree     & Married & 2 & Owned  & High\\\\\n",
       "\t 35 & Female &  75000 & Doctorate           & Married & 1 & Owned  & High\\\\\n",
       "\t 40 & Male   & 125000 & High School Diploma & Single  & 0 & Owned  & High\\\\\n",
       "\t 45 & Female & 100000 & Bachelor's Degree   & Married & 3 & Owned  & High\\\\\n",
       "\t 50 & Male   & 150000 & Master's Degree     & Married & 0 & Owned  & High\\\\\n",
       "\\end{tabular}\n"
      ],
      "text/markdown": [
       "\n",
       "A tibble: 6 × 8\n",
       "\n",
       "| Age &lt;dbl&gt; | Gender &lt;chr&gt; | Income &lt;dbl&gt; | Education &lt;chr&gt; | Marital Status &lt;chr&gt; | Number of Children &lt;dbl&gt; | Home Ownership &lt;chr&gt; | Credit Score &lt;chr&gt; |\n",
       "|---|---|---|---|---|---|---|---|\n",
       "| 25 | Female |  50000 | Bachelor's Degree   | Single  | 0 | Rented | High |\n",
       "| 30 | Male   | 100000 | Master's Degree     | Married | 2 | Owned  | High |\n",
       "| 35 | Female |  75000 | Doctorate           | Married | 1 | Owned  | High |\n",
       "| 40 | Male   | 125000 | High School Diploma | Single  | 0 | Owned  | High |\n",
       "| 45 | Female | 100000 | Bachelor's Degree   | Married | 3 | Owned  | High |\n",
       "| 50 | Male   | 150000 | Master's Degree     | Married | 0 | Owned  | High |\n",
       "\n"
      ],
      "text/plain": [
       "  Age Gender Income Education           Marital Status Number of Children\n",
       "1 25  Female  50000 Bachelor's Degree   Single         0                 \n",
       "2 30  Male   100000 Master's Degree     Married        2                 \n",
       "3 35  Female  75000 Doctorate           Married        1                 \n",
       "4 40  Male   125000 High School Diploma Single         0                 \n",
       "5 45  Female 100000 Bachelor's Degree   Married        3                 \n",
       "6 50  Male   150000 Master's Degree     Married        0                 \n",
       "  Home Ownership Credit Score\n",
       "1 Rented         High        \n",
       "2 Owned          High        \n",
       "3 Owned          High        \n",
       "4 Owned          High        \n",
       "5 Owned          High        \n",
       "6 Owned          High        "
      ]
     },
     "metadata": {},
     "output_type": "display_data"
    }
   ],
   "source": [
    "library(tidyverse)\n",
    "library(janitor)\n",
    "\n",
    "url1 <- \"https://raw.githubusercontent.com/aadikanwar/DSCI100_group_project/main/Credit%20Score%20Classification%20Dataset.csv\"  # URL for the raw dataset, taken from the uploaded data set from our GitHub repo\n",
    "download.file(url1, \"data/credit_score_data.csv\")  # downloading the file as a data file into the working directory \n",
    "data <- read_csv(\"data/credit_score_data.csv\")  #reading the file into the notebook, \n",
    "head(data)"
   ]
  },
  {
   "cell_type": "markdown",
   "id": "dc3e9142-39c0-44b8-a432-24caec8b443f",
   "metadata": {},
   "source": [
    "### Cleaning and Wrangling the Data "
   ]
  },
  {
   "cell_type": "code",
   "execution_count": 18,
   "id": "c464ed5d-3cbf-451a-a131-0312eadee804",
   "metadata": {
    "tags": []
   },
   "outputs": [
    {
     "data": {
      "text/html": [
       "<table class=\"dataframe\">\n",
       "<caption>A tibble: 6 × 8</caption>\n",
       "<thead>\n",
       "\t<tr><th scope=col>age</th><th scope=col>gender</th><th scope=col>income</th><th scope=col>education</th><th scope=col>marital_status</th><th scope=col>number_of_children</th><th scope=col>home_ownership</th><th scope=col>credit_score</th></tr>\n",
       "\t<tr><th scope=col>&lt;dbl&gt;</th><th scope=col>&lt;chr&gt;</th><th scope=col>&lt;dbl&gt;</th><th scope=col>&lt;chr&gt;</th><th scope=col>&lt;chr&gt;</th><th scope=col>&lt;dbl&gt;</th><th scope=col>&lt;chr&gt;</th><th scope=col>&lt;fct&gt;</th></tr>\n",
       "</thead>\n",
       "<tbody>\n",
       "\t<tr><td>25</td><td>Female</td><td> 50000</td><td>Bachelor's Degree  </td><td>Single </td><td>0</td><td>Rented</td><td>High</td></tr>\n",
       "\t<tr><td>30</td><td>Male  </td><td>100000</td><td>Master's Degree    </td><td>Married</td><td>2</td><td>Owned </td><td>High</td></tr>\n",
       "\t<tr><td>35</td><td>Female</td><td> 75000</td><td>Doctorate          </td><td>Married</td><td>1</td><td>Owned </td><td>High</td></tr>\n",
       "\t<tr><td>40</td><td>Male  </td><td>125000</td><td>High School Diploma</td><td>Single </td><td>0</td><td>Owned </td><td>High</td></tr>\n",
       "\t<tr><td>45</td><td>Female</td><td>100000</td><td>Bachelor's Degree  </td><td>Married</td><td>3</td><td>Owned </td><td>High</td></tr>\n",
       "\t<tr><td>50</td><td>Male  </td><td>150000</td><td>Master's Degree    </td><td>Married</td><td>0</td><td>Owned </td><td>High</td></tr>\n",
       "</tbody>\n",
       "</table>\n"
      ],
      "text/latex": [
       "A tibble: 6 × 8\n",
       "\\begin{tabular}{llllllll}\n",
       " age & gender & income & education & marital\\_status & number\\_of\\_children & home\\_ownership & credit\\_score\\\\\n",
       " <dbl> & <chr> & <dbl> & <chr> & <chr> & <dbl> & <chr> & <fct>\\\\\n",
       "\\hline\n",
       "\t 25 & Female &  50000 & Bachelor's Degree   & Single  & 0 & Rented & High\\\\\n",
       "\t 30 & Male   & 100000 & Master's Degree     & Married & 2 & Owned  & High\\\\\n",
       "\t 35 & Female &  75000 & Doctorate           & Married & 1 & Owned  & High\\\\\n",
       "\t 40 & Male   & 125000 & High School Diploma & Single  & 0 & Owned  & High\\\\\n",
       "\t 45 & Female & 100000 & Bachelor's Degree   & Married & 3 & Owned  & High\\\\\n",
       "\t 50 & Male   & 150000 & Master's Degree     & Married & 0 & Owned  & High\\\\\n",
       "\\end{tabular}\n"
      ],
      "text/markdown": [
       "\n",
       "A tibble: 6 × 8\n",
       "\n",
       "| age &lt;dbl&gt; | gender &lt;chr&gt; | income &lt;dbl&gt; | education &lt;chr&gt; | marital_status &lt;chr&gt; | number_of_children &lt;dbl&gt; | home_ownership &lt;chr&gt; | credit_score &lt;fct&gt; |\n",
       "|---|---|---|---|---|---|---|---|\n",
       "| 25 | Female |  50000 | Bachelor's Degree   | Single  | 0 | Rented | High |\n",
       "| 30 | Male   | 100000 | Master's Degree     | Married | 2 | Owned  | High |\n",
       "| 35 | Female |  75000 | Doctorate           | Married | 1 | Owned  | High |\n",
       "| 40 | Male   | 125000 | High School Diploma | Single  | 0 | Owned  | High |\n",
       "| 45 | Female | 100000 | Bachelor's Degree   | Married | 3 | Owned  | High |\n",
       "| 50 | Male   | 150000 | Master's Degree     | Married | 0 | Owned  | High |\n",
       "\n"
      ],
      "text/plain": [
       "  age gender income education           marital_status number_of_children\n",
       "1 25  Female  50000 Bachelor's Degree   Single         0                 \n",
       "2 30  Male   100000 Master's Degree     Married        2                 \n",
       "3 35  Female  75000 Doctorate           Married        1                 \n",
       "4 40  Male   125000 High School Diploma Single         0                 \n",
       "5 45  Female 100000 Bachelor's Degree   Married        3                 \n",
       "6 50  Male   150000 Master's Degree     Married        0                 \n",
       "  home_ownership credit_score\n",
       "1 Rented         High        \n",
       "2 Owned          High        \n",
       "3 Owned          High        \n",
       "4 Owned          High        \n",
       "5 Owned          High        \n",
       "6 Owned          High        "
      ]
     },
     "metadata": {},
     "output_type": "display_data"
    }
   ],
   "source": [
    "clean_cs_data <- data |>\n",
    "    clean_names()  # this is done to clean the column names and follow the proper tidy convention of column names being lowercase and seperated via underscores \n",
    "\n",
    "clean_cs_data <- clean_cs_data |>\n",
    "    mutate(credit_score = as_factor(credit_score))  #converting the variable we wish to predict into a factor, which will prove to be helpful for analysis\n",
    "\n",
    "head(clean_cs_data) "
   ]
  },
  {
   "cell_type": "markdown",
   "id": "aafa10ea-c7cb-41e9-bedb-dc4e88a45fbb",
   "metadata": {},
   "source": [
    "The data presented is sensibly clean and wrangled appropriately, as for now since we have not identified which variables we will use to answer our question. Each row is a singular observation, each column is a singular variable, and each cell contains a singular value, and so this data can be considered tidy. The names were cleaned to contain no spaces and be lowercase, and the credit_score column was wrangled such that it is represented as a factor, as that is what we wish to predict/classify. "
   ]
  },
  {
   "cell_type": "code",
   "execution_count": null,
   "id": "356853ba-9c0a-4d7b-8436-674ff7d69f95",
   "metadata": {},
   "outputs": [],
   "source": []
  }
 ],
 "metadata": {
  "kernelspec": {
   "display_name": "R",
   "language": "R",
   "name": "ir"
  },
  "language_info": {
   "codemirror_mode": "r",
   "file_extension": ".r",
   "mimetype": "text/x-r-source",
   "name": "R",
   "pygments_lexer": "r",
   "version": "4.2.2"
  }
 },
 "nbformat": 4,
 "nbformat_minor": 5
}

{
 "cells": [
  {
   "cell_type": "markdown",
   "id": "b0ba0226-9ef8-4ecd-9e27-f716273b435f",
   "metadata": {},
   "source": [
    "# DSCI 100 Group Project -- Aadi Kanwar"
   ]
  },
  {
   "cell_type": "markdown",
   "id": "2137bda7-1d1b-4556-8abc-c4eb5d2e1322",
   "metadata": {},
   "source": [
    "## Introduction"
   ]
  },
  {
   "cell_type": "markdown",
   "id": "31700eba-d963-4df4-8a68-df5b1cee9021",
   "metadata": {},
   "source": [
    "Our group has decided to analyze a dataset containing various categorical and numerical facts about individuals (education, income, and credit score being pertinent to this project), classifying the credit score categorically as either \"Low\" \"Average\" or \"High\". An individual's credit score describes their \"creditworthiness\", i.e their ability and trustworthiness to repay their debts. Therefore one can reason that a high credit score demonstrates a high \"creditworthiness\". Credit scores can be numerically represented, (and often are), but for the simplicity of this project, we have decided to classify credit scores between three categorical variables, (low, average, and high). If one wishes to consider these categories numerically, we consider a low credit score to be approximately 300, a high credit score to be around 800, and an average credit score to be around 550 (Investopedia, 2023). Given this information, we formulate the question: \"What is a credit score of an individual classified as, when considering their income and education?\". The specific data set that will be used to answer this question is titled \"Credit Score Classification Dataset\" and is provided by Sujith K. Mandala on Kaggle ([here is a direct link](https://www.kaggle.com/datasets/sujithmandala/credit-score-classification-dataset/data)). "
   ]
  },
  {
   "cell_type": "markdown",
   "id": "53c85ddd-dfde-450d-a4f0-e09f52b17b0f",
   "metadata": {},
   "source": [
    "## Preliminary Exploratory Data Analysis "
   ]
  },
  {
   "cell_type": "markdown",
   "id": "3e246058-4f06-4ac9-b3ca-a9072c39e278",
   "metadata": {},
   "source": [
    "### Reading the dataset into R from the web"
   ]
  },
  {
   "cell_type": "code",
   "execution_count": 1,
   "id": "3ab871b7-9715-47af-9cb2-652055e361d3",
   "metadata": {
    "tags": []
   },
   "outputs": [
    {
     "name": "stderr",
     "output_type": "stream",
     "text": [
      "Updating HTML index of packages in '.Library'\n",
      "\n",
      "Making 'packages.html' ...\n",
      " done\n",
      "\n"
     ]
    }
   ],
   "source": [
    "install.packages(\"janitor\")"
   ]
  },
  {
   "cell_type": "code",
   "execution_count": 11,
   "id": "30481a7c-0328-4429-82a0-32f3a15bd582",
   "metadata": {
    "tags": []
   },
   "outputs": [
    {
     "name": "stderr",
     "output_type": "stream",
     "text": [
      "\u001b[1mRows: \u001b[22m\u001b[34m164\u001b[39m \u001b[1mColumns: \u001b[22m\u001b[34m8\u001b[39m\n",
      "\u001b[36m──\u001b[39m \u001b[1mColumn specification\u001b[22m \u001b[36m────────────────────────────────────────────────────────\u001b[39m\n",
      "\u001b[1mDelimiter:\u001b[22m \",\"\n",
      "\u001b[31mchr\u001b[39m (5): Gender, Education, Marital Status, Home Ownership, Credit Score\n",
      "\u001b[32mdbl\u001b[39m (3): Age, Income, Number of Children\n",
      "\n",
      "\u001b[36mℹ\u001b[39m Use `spec()` to retrieve the full column specification for this data.\n",
      "\u001b[36mℹ\u001b[39m Specify the column types or set `show_col_types = FALSE` to quiet this message.\n"
     ]
    },
    {
     "data": {
      "text/html": [
       "<table class=\"dataframe\">\n",
       "<caption>A tibble: 6 × 8</caption>\n",
       "<thead>\n",
       "\t<tr><th scope=col>Age</th><th scope=col>Gender</th><th scope=col>Income</th><th scope=col>Education</th><th scope=col>Marital Status</th><th scope=col>Number of Children</th><th scope=col>Home Ownership</th><th scope=col>Credit Score</th></tr>\n",
       "\t<tr><th scope=col>&lt;dbl&gt;</th><th scope=col>&lt;chr&gt;</th><th scope=col>&lt;dbl&gt;</th><th scope=col>&lt;chr&gt;</th><th scope=col>&lt;chr&gt;</th><th scope=col>&lt;dbl&gt;</th><th scope=col>&lt;chr&gt;</th><th scope=col>&lt;chr&gt;</th></tr>\n",
       "</thead>\n",
       "<tbody>\n",
       "\t<tr><td>25</td><td>Female</td><td> 50000</td><td>Bachelor's Degree  </td><td>Single </td><td>0</td><td>Rented</td><td>High</td></tr>\n",
       "\t<tr><td>30</td><td>Male  </td><td>100000</td><td>Master's Degree    </td><td>Married</td><td>2</td><td>Owned </td><td>High</td></tr>\n",
       "\t<tr><td>35</td><td>Female</td><td> 75000</td><td>Doctorate          </td><td>Married</td><td>1</td><td>Owned </td><td>High</td></tr>\n",
       "\t<tr><td>40</td><td>Male  </td><td>125000</td><td>High School Diploma</td><td>Single </td><td>0</td><td>Owned </td><td>High</td></tr>\n",
       "\t<tr><td>45</td><td>Female</td><td>100000</td><td>Bachelor's Degree  </td><td>Married</td><td>3</td><td>Owned </td><td>High</td></tr>\n",
       "\t<tr><td>50</td><td>Male  </td><td>150000</td><td>Master's Degree    </td><td>Married</td><td>0</td><td>Owned </td><td>High</td></tr>\n",
       "</tbody>\n",
       "</table>\n"
      ],
      "text/latex": [
       "A tibble: 6 × 8\n",
       "\\begin{tabular}{llllllll}\n",
       " Age & Gender & Income & Education & Marital Status & Number of Children & Home Ownership & Credit Score\\\\\n",
       " <dbl> & <chr> & <dbl> & <chr> & <chr> & <dbl> & <chr> & <chr>\\\\\n",
       "\\hline\n",
       "\t 25 & Female &  50000 & Bachelor's Degree   & Single  & 0 & Rented & High\\\\\n",
       "\t 30 & Male   & 100000 & Master's Degree     & Married & 2 & Owned  & High\\\\\n",
       "\t 35 & Female &  75000 & Doctorate           & Married & 1 & Owned  & High\\\\\n",
       "\t 40 & Male   & 125000 & High School Diploma & Single  & 0 & Owned  & High\\\\\n",
       "\t 45 & Female & 100000 & Bachelor's Degree   & Married & 3 & Owned  & High\\\\\n",
       "\t 50 & Male   & 150000 & Master's Degree     & Married & 0 & Owned  & High\\\\\n",
       "\\end{tabular}\n"
      ],
      "text/markdown": [
       "\n",
       "A tibble: 6 × 8\n",
       "\n",
       "| Age &lt;dbl&gt; | Gender &lt;chr&gt; | Income &lt;dbl&gt; | Education &lt;chr&gt; | Marital Status &lt;chr&gt; | Number of Children &lt;dbl&gt; | Home Ownership &lt;chr&gt; | Credit Score &lt;chr&gt; |\n",
       "|---|---|---|---|---|---|---|---|\n",
       "| 25 | Female |  50000 | Bachelor's Degree   | Single  | 0 | Rented | High |\n",
       "| 30 | Male   | 100000 | Master's Degree     | Married | 2 | Owned  | High |\n",
       "| 35 | Female |  75000 | Doctorate           | Married | 1 | Owned  | High |\n",
       "| 40 | Male   | 125000 | High School Diploma | Single  | 0 | Owned  | High |\n",
       "| 45 | Female | 100000 | Bachelor's Degree   | Married | 3 | Owned  | High |\n",
       "| 50 | Male   | 150000 | Master's Degree     | Married | 0 | Owned  | High |\n",
       "\n"
      ],
      "text/plain": [
       "  Age Gender Income Education           Marital Status Number of Children\n",
       "1 25  Female  50000 Bachelor's Degree   Single         0                 \n",
       "2 30  Male   100000 Master's Degree     Married        2                 \n",
       "3 35  Female  75000 Doctorate           Married        1                 \n",
       "4 40  Male   125000 High School Diploma Single         0                 \n",
       "5 45  Female 100000 Bachelor's Degree   Married        3                 \n",
       "6 50  Male   150000 Master's Degree     Married        0                 \n",
       "  Home Ownership Credit Score\n",
       "1 Rented         High        \n",
       "2 Owned          High        \n",
       "3 Owned          High        \n",
       "4 Owned          High        \n",
       "5 Owned          High        \n",
       "6 Owned          High        "
      ]
     },
     "metadata": {},
     "output_type": "display_data"
    }
   ],
   "source": [
    "library(tidyverse)\n",
    "library(janitor)\n",
    "\n",
    "url1 <- \"https://raw.githubusercontent.com/aadikanwar/DSCI100_group_project/main/Credit%20Score%20Classification%20Dataset.csv\"  # URL for the raw dataset, taken from the uploaded data set from our GitHub repo\n",
    "download.file(url1, \"data/credit_score_data.csv\")  # downloading the file as a data file into the working directory \n",
    "data <- read_csv(\"data/credit_score_data.csv\")  #reading the file into the notebook, \n",
    "head(data)"
   ]
  },
  {
   "cell_type": "markdown",
   "id": "dc3e9142-39c0-44b8-a432-24caec8b443f",
   "metadata": {},
   "source": [
    "### Cleaning and Wrangling the Data "
   ]
  },
  {
   "cell_type": "code",
   "execution_count": 19,
   "id": "c464ed5d-3cbf-451a-a131-0312eadee804",
   "metadata": {
    "tags": []
   },
   "outputs": [
    {
     "data": {
      "text/html": [
       "<table class=\"dataframe\">\n",
       "<caption>A tibble: 6 × 3</caption>\n",
       "<thead>\n",
       "\t<tr><th scope=col>income</th><th scope=col>education</th><th scope=col>credit_score</th></tr>\n",
       "\t<tr><th scope=col>&lt;dbl&gt;</th><th scope=col>&lt;chr&gt;</th><th scope=col>&lt;fct&gt;</th></tr>\n",
       "</thead>\n",
       "<tbody>\n",
       "\t<tr><td> 50000</td><td>Bachelor's Degree  </td><td>High</td></tr>\n",
       "\t<tr><td>100000</td><td>Master's Degree    </td><td>High</td></tr>\n",
       "\t<tr><td> 75000</td><td>Doctorate          </td><td>High</td></tr>\n",
       "\t<tr><td>125000</td><td>High School Diploma</td><td>High</td></tr>\n",
       "\t<tr><td>100000</td><td>Bachelor's Degree  </td><td>High</td></tr>\n",
       "\t<tr><td>150000</td><td>Master's Degree    </td><td>High</td></tr>\n",
       "</tbody>\n",
       "</table>\n"
      ],
      "text/latex": [
       "A tibble: 6 × 3\n",
       "\\begin{tabular}{lll}\n",
       " income & education & credit\\_score\\\\\n",
       " <dbl> & <chr> & <fct>\\\\\n",
       "\\hline\n",
       "\t  50000 & Bachelor's Degree   & High\\\\\n",
       "\t 100000 & Master's Degree     & High\\\\\n",
       "\t  75000 & Doctorate           & High\\\\\n",
       "\t 125000 & High School Diploma & High\\\\\n",
       "\t 100000 & Bachelor's Degree   & High\\\\\n",
       "\t 150000 & Master's Degree     & High\\\\\n",
       "\\end{tabular}\n"
      ],
      "text/markdown": [
       "\n",
       "A tibble: 6 × 3\n",
       "\n",
       "| income &lt;dbl&gt; | education &lt;chr&gt; | credit_score &lt;fct&gt; |\n",
       "|---|---|---|\n",
       "|  50000 | Bachelor's Degree   | High |\n",
       "| 100000 | Master's Degree     | High |\n",
       "|  75000 | Doctorate           | High |\n",
       "| 125000 | High School Diploma | High |\n",
       "| 100000 | Bachelor's Degree   | High |\n",
       "| 150000 | Master's Degree     | High |\n",
       "\n"
      ],
      "text/plain": [
       "  income education           credit_score\n",
       "1  50000 Bachelor's Degree   High        \n",
       "2 100000 Master's Degree     High        \n",
       "3  75000 Doctorate           High        \n",
       "4 125000 High School Diploma High        \n",
       "5 100000 Bachelor's Degree   High        \n",
       "6 150000 Master's Degree     High        "
      ]
     },
     "metadata": {},
     "output_type": "display_data"
    }
   ],
   "source": [
    "clean_cs_data <- data |>\n",
    "    clean_names()  # this is done to clean the column names and follow the proper tidy convention of column names being lowercase and seperated via underscores \n",
    "\n",
    "clean_cs_data <- clean_cs_data |>\n",
    "    mutate(credit_score = as_factor(credit_score))  #converting the variable we wish to predict into a factor, which will prove to be helpful for analysis\n",
    "\n",
    "clean_cs_data <- clean_cs_data |>\n",
    "    select(income, education, credit_score)\n",
    "\n",
    "head(clean_cs_data) "
   ]
  },
  {
   "cell_type": "markdown",
   "id": "aafa10ea-c7cb-41e9-bedb-dc4e88a45fbb",
   "metadata": {},
   "source": [
    "The data presented is sensibly clean and wrangled appropriately. Each row is a singular observation, each column is a singular variable, and each cell contains a singular value, and so this data can be considered tidy. The names were cleaned to contain no spaces and be lowercase, and the credit_score column was wrangled such that it is represented as a factor, as that is what we wish to predict/classify. Only pertinent columns are selected (predictors: income and education, and the factor credit_score). "
   ]
  },
  {
   "cell_type": "markdown",
   "id": "817de8cc-f030-4f38-a3d5-819149c18fe7",
   "metadata": {},
   "source": [
    "### Creating a Summary Table using Training Data"
   ]
  },
  {
   "cell_type": "code",
   "execution_count": 47,
   "id": "cc28cff9-4b8e-4cf7-97a2-5306a6773b2e",
   "metadata": {
    "tags": []
   },
   "outputs": [
    {
     "data": {
      "text/html": [
       "<table class=\"dataframe\">\n",
       "<caption>A tibble: 3 × 2</caption>\n",
       "<thead>\n",
       "\t<tr><th scope=col>credit_score</th><th scope=col>n</th></tr>\n",
       "\t<tr><th scope=col>&lt;fct&gt;</th><th scope=col>&lt;int&gt;</th></tr>\n",
       "</thead>\n",
       "<tbody>\n",
       "\t<tr><td>High   </td><td>85</td></tr>\n",
       "\t<tr><td>Average</td><td>26</td></tr>\n",
       "\t<tr><td>Low    </td><td>11</td></tr>\n",
       "</tbody>\n",
       "</table>\n"
      ],
      "text/latex": [
       "A tibble: 3 × 2\n",
       "\\begin{tabular}{ll}\n",
       " credit\\_score & n\\\\\n",
       " <fct> & <int>\\\\\n",
       "\\hline\n",
       "\t High    & 85\\\\\n",
       "\t Average & 26\\\\\n",
       "\t Low     & 11\\\\\n",
       "\\end{tabular}\n"
      ],
      "text/markdown": [
       "\n",
       "A tibble: 3 × 2\n",
       "\n",
       "| credit_score &lt;fct&gt; | n &lt;int&gt; |\n",
       "|---|---|\n",
       "| High    | 85 |\n",
       "| Average | 26 |\n",
       "| Low     | 11 |\n",
       "\n"
      ],
      "text/plain": [
       "  credit_score n \n",
       "1 High         85\n",
       "2 Average      26\n",
       "3 Low          11"
      ]
     },
     "metadata": {},
     "output_type": "display_data"
    },
    {
     "data": {
      "text/html": [
       "<table class=\"dataframe\">\n",
       "<caption>A tibble: 5 × 2</caption>\n",
       "<thead>\n",
       "\t<tr><th scope=col>education</th><th scope=col>n</th></tr>\n",
       "\t<tr><th scope=col>&lt;chr&gt;</th><th scope=col>&lt;int&gt;</th></tr>\n",
       "</thead>\n",
       "<tbody>\n",
       "\t<tr><td>Associate's Degree </td><td>18</td></tr>\n",
       "\t<tr><td>Bachelor's Degree  </td><td>32</td></tr>\n",
       "\t<tr><td>Doctorate          </td><td>22</td></tr>\n",
       "\t<tr><td>High School Diploma</td><td>23</td></tr>\n",
       "\t<tr><td>Master's Degree    </td><td>27</td></tr>\n",
       "</tbody>\n",
       "</table>\n"
      ],
      "text/latex": [
       "A tibble: 5 × 2\n",
       "\\begin{tabular}{ll}\n",
       " education & n\\\\\n",
       " <chr> & <int>\\\\\n",
       "\\hline\n",
       "\t Associate's Degree  & 18\\\\\n",
       "\t Bachelor's Degree   & 32\\\\\n",
       "\t Doctorate           & 22\\\\\n",
       "\t High School Diploma & 23\\\\\n",
       "\t Master's Degree     & 27\\\\\n",
       "\\end{tabular}\n"
      ],
      "text/markdown": [
       "\n",
       "A tibble: 5 × 2\n",
       "\n",
       "| education &lt;chr&gt; | n &lt;int&gt; |\n",
       "|---|---|\n",
       "| Associate's Degree  | 18 |\n",
       "| Bachelor's Degree   | 32 |\n",
       "| Doctorate           | 22 |\n",
       "| High School Diploma | 23 |\n",
       "| Master's Degree     | 27 |\n",
       "\n"
      ],
      "text/plain": [
       "  education           n \n",
       "1 Associate's Degree  18\n",
       "2 Bachelor's Degree   32\n",
       "3 Doctorate           22\n",
       "4 High School Diploma 23\n",
       "5 Master's Degree     27"
      ]
     },
     "metadata": {},
     "output_type": "display_data"
    },
    {
     "data": {
      "text/html": [
       "<table class=\"dataframe\">\n",
       "<caption>A tibble: 46 × 2</caption>\n",
       "<thead>\n",
       "\t<tr><th scope=col>income</th><th scope=col>n</th></tr>\n",
       "\t<tr><th scope=col>&lt;dbl&gt;</th><th scope=col>&lt;int&gt;</th></tr>\n",
       "</thead>\n",
       "<tbody>\n",
       "\t<tr><td> 27500</td><td>3</td></tr>\n",
       "\t<tr><td> 32500</td><td>4</td></tr>\n",
       "\t<tr><td> 37500</td><td>4</td></tr>\n",
       "\t<tr><td> 40000</td><td>1</td></tr>\n",
       "\t<tr><td> 45000</td><td>1</td></tr>\n",
       "\t<tr><td> 47500</td><td>3</td></tr>\n",
       "\t<tr><td> 50000</td><td>2</td></tr>\n",
       "\t<tr><td> 52500</td><td>4</td></tr>\n",
       "\t<tr><td> 55000</td><td>2</td></tr>\n",
       "\t<tr><td> 57500</td><td>6</td></tr>\n",
       "\t<tr><td> 60000</td><td>3</td></tr>\n",
       "\t<tr><td> 62500</td><td>5</td></tr>\n",
       "\t<tr><td> 65000</td><td>3</td></tr>\n",
       "\t<tr><td> 67500</td><td>4</td></tr>\n",
       "\t<tr><td> 68000</td><td>1</td></tr>\n",
       "\t<tr><td> 70000</td><td>2</td></tr>\n",
       "\t<tr><td> 72500</td><td>2</td></tr>\n",
       "\t<tr><td> 75000</td><td>3</td></tr>\n",
       "\t<tr><td> 77500</td><td>4</td></tr>\n",
       "\t<tr><td> 80000</td><td>3</td></tr>\n",
       "\t<tr><td> 82500</td><td>1</td></tr>\n",
       "\t<tr><td> 85000</td><td>5</td></tr>\n",
       "\t<tr><td> 87500</td><td>4</td></tr>\n",
       "\t<tr><td> 90000</td><td>4</td></tr>\n",
       "\t<tr><td> 92500</td><td>3</td></tr>\n",
       "\t<tr><td> 95000</td><td>4</td></tr>\n",
       "\t<tr><td> 97500</td><td>2</td></tr>\n",
       "\t<tr><td>100000</td><td>4</td></tr>\n",
       "\t<tr><td>105000</td><td>5</td></tr>\n",
       "\t<tr><td>110000</td><td>4</td></tr>\n",
       "\t<tr><td>112500</td><td>2</td></tr>\n",
       "\t<tr><td>115000</td><td>1</td></tr>\n",
       "\t<tr><td>117500</td><td>2</td></tr>\n",
       "\t<tr><td>120000</td><td>1</td></tr>\n",
       "\t<tr><td>122500</td><td>2</td></tr>\n",
       "\t<tr><td>125000</td><td>3</td></tr>\n",
       "\t<tr><td>130000</td><td>4</td></tr>\n",
       "\t<tr><td>135000</td><td>1</td></tr>\n",
       "\t<tr><td>137500</td><td>1</td></tr>\n",
       "\t<tr><td>140000</td><td>1</td></tr>\n",
       "\t<tr><td>142500</td><td>1</td></tr>\n",
       "\t<tr><td>145000</td><td>1</td></tr>\n",
       "\t<tr><td>150000</td><td>2</td></tr>\n",
       "\t<tr><td>155000</td><td>2</td></tr>\n",
       "\t<tr><td>160000</td><td>1</td></tr>\n",
       "\t<tr><td>162500</td><td>1</td></tr>\n",
       "</tbody>\n",
       "</table>\n"
      ],
      "text/latex": [
       "A tibble: 46 × 2\n",
       "\\begin{tabular}{ll}\n",
       " income & n\\\\\n",
       " <dbl> & <int>\\\\\n",
       "\\hline\n",
       "\t  27500 & 3\\\\\n",
       "\t  32500 & 4\\\\\n",
       "\t  37500 & 4\\\\\n",
       "\t  40000 & 1\\\\\n",
       "\t  45000 & 1\\\\\n",
       "\t  47500 & 3\\\\\n",
       "\t  50000 & 2\\\\\n",
       "\t  52500 & 4\\\\\n",
       "\t  55000 & 2\\\\\n",
       "\t  57500 & 6\\\\\n",
       "\t  60000 & 3\\\\\n",
       "\t  62500 & 5\\\\\n",
       "\t  65000 & 3\\\\\n",
       "\t  67500 & 4\\\\\n",
       "\t  68000 & 1\\\\\n",
       "\t  70000 & 2\\\\\n",
       "\t  72500 & 2\\\\\n",
       "\t  75000 & 3\\\\\n",
       "\t  77500 & 4\\\\\n",
       "\t  80000 & 3\\\\\n",
       "\t  82500 & 1\\\\\n",
       "\t  85000 & 5\\\\\n",
       "\t  87500 & 4\\\\\n",
       "\t  90000 & 4\\\\\n",
       "\t  92500 & 3\\\\\n",
       "\t  95000 & 4\\\\\n",
       "\t  97500 & 2\\\\\n",
       "\t 100000 & 4\\\\\n",
       "\t 105000 & 5\\\\\n",
       "\t 110000 & 4\\\\\n",
       "\t 112500 & 2\\\\\n",
       "\t 115000 & 1\\\\\n",
       "\t 117500 & 2\\\\\n",
       "\t 120000 & 1\\\\\n",
       "\t 122500 & 2\\\\\n",
       "\t 125000 & 3\\\\\n",
       "\t 130000 & 4\\\\\n",
       "\t 135000 & 1\\\\\n",
       "\t 137500 & 1\\\\\n",
       "\t 140000 & 1\\\\\n",
       "\t 142500 & 1\\\\\n",
       "\t 145000 & 1\\\\\n",
       "\t 150000 & 2\\\\\n",
       "\t 155000 & 2\\\\\n",
       "\t 160000 & 1\\\\\n",
       "\t 162500 & 1\\\\\n",
       "\\end{tabular}\n"
      ],
      "text/markdown": [
       "\n",
       "A tibble: 46 × 2\n",
       "\n",
       "| income &lt;dbl&gt; | n &lt;int&gt; |\n",
       "|---|---|\n",
       "|  27500 | 3 |\n",
       "|  32500 | 4 |\n",
       "|  37500 | 4 |\n",
       "|  40000 | 1 |\n",
       "|  45000 | 1 |\n",
       "|  47500 | 3 |\n",
       "|  50000 | 2 |\n",
       "|  52500 | 4 |\n",
       "|  55000 | 2 |\n",
       "|  57500 | 6 |\n",
       "|  60000 | 3 |\n",
       "|  62500 | 5 |\n",
       "|  65000 | 3 |\n",
       "|  67500 | 4 |\n",
       "|  68000 | 1 |\n",
       "|  70000 | 2 |\n",
       "|  72500 | 2 |\n",
       "|  75000 | 3 |\n",
       "|  77500 | 4 |\n",
       "|  80000 | 3 |\n",
       "|  82500 | 1 |\n",
       "|  85000 | 5 |\n",
       "|  87500 | 4 |\n",
       "|  90000 | 4 |\n",
       "|  92500 | 3 |\n",
       "|  95000 | 4 |\n",
       "|  97500 | 2 |\n",
       "| 100000 | 4 |\n",
       "| 105000 | 5 |\n",
       "| 110000 | 4 |\n",
       "| 112500 | 2 |\n",
       "| 115000 | 1 |\n",
       "| 117500 | 2 |\n",
       "| 120000 | 1 |\n",
       "| 122500 | 2 |\n",
       "| 125000 | 3 |\n",
       "| 130000 | 4 |\n",
       "| 135000 | 1 |\n",
       "| 137500 | 1 |\n",
       "| 140000 | 1 |\n",
       "| 142500 | 1 |\n",
       "| 145000 | 1 |\n",
       "| 150000 | 2 |\n",
       "| 155000 | 2 |\n",
       "| 160000 | 1 |\n",
       "| 162500 | 1 |\n",
       "\n"
      ],
      "text/plain": [
       "   income n\n",
       "1   27500 3\n",
       "2   32500 4\n",
       "3   37500 4\n",
       "4   40000 1\n",
       "5   45000 1\n",
       "6   47500 3\n",
       "7   50000 2\n",
       "8   52500 4\n",
       "9   55000 2\n",
       "10  57500 6\n",
       "11  60000 3\n",
       "12  62500 5\n",
       "13  65000 3\n",
       "14  67500 4\n",
       "15  68000 1\n",
       "16  70000 2\n",
       "17  72500 2\n",
       "18  75000 3\n",
       "19  77500 4\n",
       "20  80000 3\n",
       "21  82500 1\n",
       "22  85000 5\n",
       "23  87500 4\n",
       "24  90000 4\n",
       "25  92500 3\n",
       "26  95000 4\n",
       "27  97500 2\n",
       "28 100000 4\n",
       "29 105000 5\n",
       "30 110000 4\n",
       "31 112500 2\n",
       "32 115000 1\n",
       "33 117500 2\n",
       "34 120000 1\n",
       "35 122500 2\n",
       "36 125000 3\n",
       "37 130000 4\n",
       "38 135000 1\n",
       "39 137500 1\n",
       "40 140000 1\n",
       "41 142500 1\n",
       "42 145000 1\n",
       "43 150000 2\n",
       "44 155000 2\n",
       "45 160000 1\n",
       "46 162500 1"
      ]
     },
     "metadata": {},
     "output_type": "display_data"
    }
   ],
   "source": [
    "library(tidymodels)\n",
    "cs_split <- initial_split(clean_cs_data, prop = 0.75, strata = credit_score)  #splitting the data into training and testing data\n",
    "cs_training <- training(cs_split)\n",
    "cs_testing <- testing(cs_split)\n",
    "\n",
    "summary_table_1 <- cs_training |>  #displaying the count of each pre-existing class in the training data \n",
    "    count(credit_score)\n",
    "\n",
    "summary_table_1\n",
    "\n",
    "summary_table_2 <- cs_training |>  #displaying the count of the education predictor variables, also showing the types of educations \n",
    "    count(education)\n",
    "\n",
    "summary_table_2\n",
    "\n",
    "summary_table_3 <- cs_training |>  #displaying the count of the income predictor variables, showing the different income types and values  \n",
    "    count(income)\n",
    "\n",
    "summary_table_3\n",
    "\n"
   ]
  },
  {
   "cell_type": "code",
   "execution_count": null,
   "id": "bb213a96-a970-4b11-9d6b-3f06d1703baf",
   "metadata": {},
   "outputs": [],
   "source": []
  }
 ],
 "metadata": {
  "kernelspec": {
   "display_name": "R",
   "language": "R",
   "name": "ir"
  },
  "language_info": {
   "codemirror_mode": "r",
   "file_extension": ".r",
   "mimetype": "text/x-r-source",
   "name": "R",
   "pygments_lexer": "r",
   "version": "4.2.2"
  }
 },
 "nbformat": 4,
 "nbformat_minor": 5
}

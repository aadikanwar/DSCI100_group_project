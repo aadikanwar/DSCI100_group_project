{
 "cells": [
  {
   "cell_type": "markdown",
   "id": "b0ba0226-9ef8-4ecd-9e27-f716273b435f",
   "metadata": {},
   "source": [
    "# DSCI 100 Group Project -- Classifying an E-Mail as Spam or Not Spam 📧"
   ]
  },
  {
   "cell_type": "markdown",
   "id": "6ed29d44-aaad-433b-908e-9f1626297d0e",
   "metadata": {},
   "source": [
    "## Developed by Aadi Kanwar, Stella Williams, Satvika Suresha, and Julian Piezas (Group 21)"
   ]
  },
  {
   "cell_type": "markdown",
   "id": "2137bda7-1d1b-4556-8abc-c4eb5d2e1322",
   "metadata": {},
   "source": [
    "## Introduction"
   ]
  },
  {
   "cell_type": "markdown",
   "id": "31700eba-d963-4df4-8a68-df5b1cee9021",
   "metadata": {},
   "source": [
    "E-Mails can contain viruses which can harm one's computer system and their identity [(CISA, 2023)](\"https://www.cisa.gov/news-events/news/virus-basics\"). These \"malicious\" E-Mails are often categorized as spam, whereas \"benevolent\" E-Mails are categorized as \"not-spam\". Our group looks to explore this binary classification of E-Mail through the Spambase Dataset [(UCI ML Repo, 1999)](\"https://archive.ics.uci.edu/dataset/94/spambase\"). This dataset contains many variables regarding the frequency of strings in the E-Mails, which can be used to classify these E-Mails. Our predictive question therefore becomes: \"Can we use some of the features (namely character frequencies and length of sequences of capital letters) provided to us to predict whether a future E-Mail (unknown classification) is spam or not spam?\". \n",
    "\n",
    "Word Count: 101 Words"
   ]
  },
  {
   "cell_type": "markdown",
   "id": "53c85ddd-dfde-450d-a4f0-e09f52b17b0f",
   "metadata": {},
   "source": [
    "## Preliminary Exploratory Data Analysis "
   ]
  },
  {
   "cell_type": "markdown",
   "id": "3e246058-4f06-4ac9-b3ca-a9072c39e278",
   "metadata": {},
   "source": [
    "### Reading the dataset into R from the web (this data is raw, next step is cleaning!)"
   ]
  },
  {
   "cell_type": "code",
   "execution_count": 2,
   "id": "30481a7c-0328-4429-82a0-32f3a15bd582",
   "metadata": {
    "tags": []
   },
   "outputs": [
    {
     "name": "stderr",
     "output_type": "stream",
     "text": [
      "── \u001b[1mAttaching packages\u001b[22m ─────────────────────────────────────── tidyverse 1.3.2 ──\n",
      "\u001b[32m✔\u001b[39m \u001b[34mggplot2\u001b[39m 3.4.2     \u001b[32m✔\u001b[39m \u001b[34mpurrr  \u001b[39m 1.0.1\n",
      "\u001b[32m✔\u001b[39m \u001b[34mtibble \u001b[39m 3.2.1     \u001b[32m✔\u001b[39m \u001b[34mdplyr  \u001b[39m 1.1.1\n",
      "\u001b[32m✔\u001b[39m \u001b[34mtidyr  \u001b[39m 1.3.0     \u001b[32m✔\u001b[39m \u001b[34mstringr\u001b[39m 1.5.0\n",
      "\u001b[32m✔\u001b[39m \u001b[34mreadr  \u001b[39m 2.1.3     \u001b[32m✔\u001b[39m \u001b[34mforcats\u001b[39m 0.5.2\n",
      "── \u001b[1mConflicts\u001b[22m ────────────────────────────────────────── tidyverse_conflicts() ──\n",
      "\u001b[31m✖\u001b[39m \u001b[34mdplyr\u001b[39m::\u001b[32mfilter()\u001b[39m masks \u001b[34mstats\u001b[39m::filter()\n",
      "\u001b[31m✖\u001b[39m \u001b[34mdplyr\u001b[39m::\u001b[32mlag()\u001b[39m    masks \u001b[34mstats\u001b[39m::lag()\n",
      "\u001b[1mRows: \u001b[22m\u001b[34m4601\u001b[39m \u001b[1mColumns: \u001b[22m\u001b[34m58\u001b[39m\n",
      "\u001b[36m──\u001b[39m \u001b[1mColumn specification\u001b[22m \u001b[36m────────────────────────────────────────────────────────\u001b[39m\n",
      "\u001b[1mDelimiter:\u001b[22m \",\"\n",
      "\u001b[32mdbl\u001b[39m (58): X1, X2, X3, X4, X5, X6, X7, X8, X9, X10, X11, X12, X13, X14, X15, ...\n",
      "\n",
      "\u001b[36mℹ\u001b[39m Use `spec()` to retrieve the full column specification for this data.\n",
      "\u001b[36mℹ\u001b[39m Specify the column types or set `show_col_types = FALSE` to quiet this message.\n"
     ]
    },
    {
     "data": {
      "text/html": [
       "<table class=\"dataframe\">\n",
       "<caption>A tibble: 6 × 58</caption>\n",
       "<thead>\n",
       "\t<tr><th scope=col>X1</th><th scope=col>X2</th><th scope=col>X3</th><th scope=col>X4</th><th scope=col>X5</th><th scope=col>X6</th><th scope=col>X7</th><th scope=col>X8</th><th scope=col>X9</th><th scope=col>X10</th><th scope=col>⋯</th><th scope=col>X49</th><th scope=col>X50</th><th scope=col>X51</th><th scope=col>X52</th><th scope=col>X53</th><th scope=col>X54</th><th scope=col>X55</th><th scope=col>X56</th><th scope=col>X57</th><th scope=col>X58</th></tr>\n",
       "\t<tr><th scope=col>&lt;dbl&gt;</th><th scope=col>&lt;dbl&gt;</th><th scope=col>&lt;dbl&gt;</th><th scope=col>&lt;dbl&gt;</th><th scope=col>&lt;dbl&gt;</th><th scope=col>&lt;dbl&gt;</th><th scope=col>&lt;dbl&gt;</th><th scope=col>&lt;dbl&gt;</th><th scope=col>&lt;dbl&gt;</th><th scope=col>&lt;dbl&gt;</th><th scope=col>⋯</th><th scope=col>&lt;dbl&gt;</th><th scope=col>&lt;dbl&gt;</th><th scope=col>&lt;dbl&gt;</th><th scope=col>&lt;dbl&gt;</th><th scope=col>&lt;dbl&gt;</th><th scope=col>&lt;dbl&gt;</th><th scope=col>&lt;dbl&gt;</th><th scope=col>&lt;dbl&gt;</th><th scope=col>&lt;dbl&gt;</th><th scope=col>&lt;dbl&gt;</th></tr>\n",
       "</thead>\n",
       "<tbody>\n",
       "\t<tr><td>0.00</td><td>0.64</td><td>0.64</td><td>0</td><td>0.32</td><td>0.00</td><td>0.00</td><td>0.00</td><td>0.00</td><td>0.00</td><td>⋯</td><td>0.00</td><td>0.000</td><td>0</td><td>0.778</td><td>0.000</td><td>0.000</td><td>3.756</td><td> 61</td><td> 278</td><td>1</td></tr>\n",
       "\t<tr><td>0.21</td><td>0.28</td><td>0.50</td><td>0</td><td>0.14</td><td>0.28</td><td>0.21</td><td>0.07</td><td>0.00</td><td>0.94</td><td>⋯</td><td>0.00</td><td>0.132</td><td>0</td><td>0.372</td><td>0.180</td><td>0.048</td><td>5.114</td><td>101</td><td>1028</td><td>1</td></tr>\n",
       "\t<tr><td>0.06</td><td>0.00</td><td>0.71</td><td>0</td><td>1.23</td><td>0.19</td><td>0.19</td><td>0.12</td><td>0.64</td><td>0.25</td><td>⋯</td><td>0.01</td><td>0.143</td><td>0</td><td>0.276</td><td>0.184</td><td>0.010</td><td>9.821</td><td>485</td><td>2259</td><td>1</td></tr>\n",
       "\t<tr><td>0.00</td><td>0.00</td><td>0.00</td><td>0</td><td>0.63</td><td>0.00</td><td>0.31</td><td>0.63</td><td>0.31</td><td>0.63</td><td>⋯</td><td>0.00</td><td>0.137</td><td>0</td><td>0.137</td><td>0.000</td><td>0.000</td><td>3.537</td><td> 40</td><td> 191</td><td>1</td></tr>\n",
       "\t<tr><td>0.00</td><td>0.00</td><td>0.00</td><td>0</td><td>0.63</td><td>0.00</td><td>0.31</td><td>0.63</td><td>0.31</td><td>0.63</td><td>⋯</td><td>0.00</td><td>0.135</td><td>0</td><td>0.135</td><td>0.000</td><td>0.000</td><td>3.537</td><td> 40</td><td> 191</td><td>1</td></tr>\n",
       "\t<tr><td>0.00</td><td>0.00</td><td>0.00</td><td>0</td><td>1.85</td><td>0.00</td><td>0.00</td><td>1.85</td><td>0.00</td><td>0.00</td><td>⋯</td><td>0.00</td><td>0.223</td><td>0</td><td>0.000</td><td>0.000</td><td>0.000</td><td>3.000</td><td> 15</td><td>  54</td><td>1</td></tr>\n",
       "</tbody>\n",
       "</table>\n"
      ],
      "text/latex": [
       "A tibble: 6 × 58\n",
       "\\begin{tabular}{lllllllllllllllllllll}\n",
       " X1 & X2 & X3 & X4 & X5 & X6 & X7 & X8 & X9 & X10 & ⋯ & X49 & X50 & X51 & X52 & X53 & X54 & X55 & X56 & X57 & X58\\\\\n",
       " <dbl> & <dbl> & <dbl> & <dbl> & <dbl> & <dbl> & <dbl> & <dbl> & <dbl> & <dbl> & ⋯ & <dbl> & <dbl> & <dbl> & <dbl> & <dbl> & <dbl> & <dbl> & <dbl> & <dbl> & <dbl>\\\\\n",
       "\\hline\n",
       "\t 0.00 & 0.64 & 0.64 & 0 & 0.32 & 0.00 & 0.00 & 0.00 & 0.00 & 0.00 & ⋯ & 0.00 & 0.000 & 0 & 0.778 & 0.000 & 0.000 & 3.756 &  61 &  278 & 1\\\\\n",
       "\t 0.21 & 0.28 & 0.50 & 0 & 0.14 & 0.28 & 0.21 & 0.07 & 0.00 & 0.94 & ⋯ & 0.00 & 0.132 & 0 & 0.372 & 0.180 & 0.048 & 5.114 & 101 & 1028 & 1\\\\\n",
       "\t 0.06 & 0.00 & 0.71 & 0 & 1.23 & 0.19 & 0.19 & 0.12 & 0.64 & 0.25 & ⋯ & 0.01 & 0.143 & 0 & 0.276 & 0.184 & 0.010 & 9.821 & 485 & 2259 & 1\\\\\n",
       "\t 0.00 & 0.00 & 0.00 & 0 & 0.63 & 0.00 & 0.31 & 0.63 & 0.31 & 0.63 & ⋯ & 0.00 & 0.137 & 0 & 0.137 & 0.000 & 0.000 & 3.537 &  40 &  191 & 1\\\\\n",
       "\t 0.00 & 0.00 & 0.00 & 0 & 0.63 & 0.00 & 0.31 & 0.63 & 0.31 & 0.63 & ⋯ & 0.00 & 0.135 & 0 & 0.135 & 0.000 & 0.000 & 3.537 &  40 &  191 & 1\\\\\n",
       "\t 0.00 & 0.00 & 0.00 & 0 & 1.85 & 0.00 & 0.00 & 1.85 & 0.00 & 0.00 & ⋯ & 0.00 & 0.223 & 0 & 0.000 & 0.000 & 0.000 & 3.000 &  15 &   54 & 1\\\\\n",
       "\\end{tabular}\n"
      ],
      "text/markdown": [
       "\n",
       "A tibble: 6 × 58\n",
       "\n",
       "| X1 &lt;dbl&gt; | X2 &lt;dbl&gt; | X3 &lt;dbl&gt; | X4 &lt;dbl&gt; | X5 &lt;dbl&gt; | X6 &lt;dbl&gt; | X7 &lt;dbl&gt; | X8 &lt;dbl&gt; | X9 &lt;dbl&gt; | X10 &lt;dbl&gt; | ⋯ ⋯ | X49 &lt;dbl&gt; | X50 &lt;dbl&gt; | X51 &lt;dbl&gt; | X52 &lt;dbl&gt; | X53 &lt;dbl&gt; | X54 &lt;dbl&gt; | X55 &lt;dbl&gt; | X56 &lt;dbl&gt; | X57 &lt;dbl&gt; | X58 &lt;dbl&gt; |\n",
       "|---|---|---|---|---|---|---|---|---|---|---|---|---|---|---|---|---|---|---|---|---|\n",
       "| 0.00 | 0.64 | 0.64 | 0 | 0.32 | 0.00 | 0.00 | 0.00 | 0.00 | 0.00 | ⋯ | 0.00 | 0.000 | 0 | 0.778 | 0.000 | 0.000 | 3.756 |  61 |  278 | 1 |\n",
       "| 0.21 | 0.28 | 0.50 | 0 | 0.14 | 0.28 | 0.21 | 0.07 | 0.00 | 0.94 | ⋯ | 0.00 | 0.132 | 0 | 0.372 | 0.180 | 0.048 | 5.114 | 101 | 1028 | 1 |\n",
       "| 0.06 | 0.00 | 0.71 | 0 | 1.23 | 0.19 | 0.19 | 0.12 | 0.64 | 0.25 | ⋯ | 0.01 | 0.143 | 0 | 0.276 | 0.184 | 0.010 | 9.821 | 485 | 2259 | 1 |\n",
       "| 0.00 | 0.00 | 0.00 | 0 | 0.63 | 0.00 | 0.31 | 0.63 | 0.31 | 0.63 | ⋯ | 0.00 | 0.137 | 0 | 0.137 | 0.000 | 0.000 | 3.537 |  40 |  191 | 1 |\n",
       "| 0.00 | 0.00 | 0.00 | 0 | 0.63 | 0.00 | 0.31 | 0.63 | 0.31 | 0.63 | ⋯ | 0.00 | 0.135 | 0 | 0.135 | 0.000 | 0.000 | 3.537 |  40 |  191 | 1 |\n",
       "| 0.00 | 0.00 | 0.00 | 0 | 1.85 | 0.00 | 0.00 | 1.85 | 0.00 | 0.00 | ⋯ | 0.00 | 0.223 | 0 | 0.000 | 0.000 | 0.000 | 3.000 |  15 |   54 | 1 |\n",
       "\n"
      ],
      "text/plain": [
       "  X1   X2   X3   X4 X5   X6   X7   X8   X9   X10  ⋯ X49  X50   X51 X52   X53  \n",
       "1 0.00 0.64 0.64 0  0.32 0.00 0.00 0.00 0.00 0.00 ⋯ 0.00 0.000 0   0.778 0.000\n",
       "2 0.21 0.28 0.50 0  0.14 0.28 0.21 0.07 0.00 0.94 ⋯ 0.00 0.132 0   0.372 0.180\n",
       "3 0.06 0.00 0.71 0  1.23 0.19 0.19 0.12 0.64 0.25 ⋯ 0.01 0.143 0   0.276 0.184\n",
       "4 0.00 0.00 0.00 0  0.63 0.00 0.31 0.63 0.31 0.63 ⋯ 0.00 0.137 0   0.137 0.000\n",
       "5 0.00 0.00 0.00 0  0.63 0.00 0.31 0.63 0.31 0.63 ⋯ 0.00 0.135 0   0.135 0.000\n",
       "6 0.00 0.00 0.00 0  1.85 0.00 0.00 1.85 0.00 0.00 ⋯ 0.00 0.223 0   0.000 0.000\n",
       "  X54   X55   X56 X57  X58\n",
       "1 0.000 3.756  61  278 1  \n",
       "2 0.048 5.114 101 1028 1  \n",
       "3 0.010 9.821 485 2259 1  \n",
       "4 0.000 3.537  40  191 1  \n",
       "5 0.000 3.537  40  191 1  \n",
       "6 0.000 3.000  15   54 1  "
      ]
     },
     "metadata": {},
     "output_type": "display_data"
    }
   ],
   "source": [
    "library(tidyverse)  # loading the tidyverse package for reading our data \n",
    "url1 <- \"https://raw.githubusercontent.com/aadikanwar/DSCI100_group_project/main/spambase.data\"  # URL for the raw dataset, taken from the uploaded data set from our GitHub repo\n",
    "spam_df <- read_csv(url1, col_names = FALSE) #reading the file into the notebook \n",
    "head(spam_df)\n",
    "# this is a representation of the RAW data used for this project, we will clean in the upcoming cell \n"
   ]
  },
  {
   "cell_type": "markdown",
   "id": "dc3e9142-39c0-44b8-a432-24caec8b443f",
   "metadata": {},
   "source": [
    "### Cleaning and Wrangling the Data "
   ]
  },
  {
   "cell_type": "code",
   "execution_count": 3,
   "id": "c464ed5d-3cbf-451a-a131-0312eadee804",
   "metadata": {
    "tags": []
   },
   "outputs": [
    {
     "name": "stderr",
     "output_type": "stream",
     "text": [
      "\u001b[1mRows: \u001b[22m\u001b[34m4601\u001b[39m \u001b[1mColumns: \u001b[22m\u001b[34m58\u001b[39m\n",
      "\u001b[36m──\u001b[39m \u001b[1mColumn specification\u001b[22m \u001b[36m────────────────────────────────────────────────────────\u001b[39m\n",
      "\u001b[1mDelimiter:\u001b[22m \",\"\n",
      "\u001b[32mdbl\u001b[39m (58): X1, X2, X3, X4, X5, X6, X7, X8, X9, X10, X11, X12, X13, X14, X15, ...\n",
      "\n",
      "\u001b[36mℹ\u001b[39m Use `spec()` to retrieve the full column specification for this data.\n",
      "\u001b[36mℹ\u001b[39m Specify the column types or set `show_col_types = FALSE` to quiet this message.\n"
     ]
    },
    {
     "data": {
      "text/html": [
       "<table class=\"dataframe\">\n",
       "<caption>A tibble: 6 × 8</caption>\n",
       "<thead>\n",
       "\t<tr><th scope=col>char_freq_semicolon</th><th scope=col>char_freq_paren</th><th scope=col>char_freq_brack</th><th scope=col>char_freq_excl</th><th scope=col>char_freq_mon</th><th scope=col>char_freq_hash</th><th scope=col>capital_run_length_average</th><th scope=col>spam_or_not_spam</th></tr>\n",
       "\t<tr><th scope=col>&lt;dbl&gt;</th><th scope=col>&lt;dbl&gt;</th><th scope=col>&lt;dbl&gt;</th><th scope=col>&lt;dbl&gt;</th><th scope=col>&lt;dbl&gt;</th><th scope=col>&lt;dbl&gt;</th><th scope=col>&lt;dbl&gt;</th><th scope=col>&lt;fct&gt;</th></tr>\n",
       "</thead>\n",
       "<tbody>\n",
       "\t<tr><td>0.00</td><td>0.000</td><td>0</td><td>0.778</td><td>0.000</td><td>0.000</td><td>3.756</td><td>spam</td></tr>\n",
       "\t<tr><td>0.00</td><td>0.132</td><td>0</td><td>0.372</td><td>0.180</td><td>0.048</td><td>5.114</td><td>spam</td></tr>\n",
       "\t<tr><td>0.01</td><td>0.143</td><td>0</td><td>0.276</td><td>0.184</td><td>0.010</td><td>9.821</td><td>spam</td></tr>\n",
       "\t<tr><td>0.00</td><td>0.137</td><td>0</td><td>0.137</td><td>0.000</td><td>0.000</td><td>3.537</td><td>spam</td></tr>\n",
       "\t<tr><td>0.00</td><td>0.135</td><td>0</td><td>0.135</td><td>0.000</td><td>0.000</td><td>3.537</td><td>spam</td></tr>\n",
       "\t<tr><td>0.00</td><td>0.223</td><td>0</td><td>0.000</td><td>0.000</td><td>0.000</td><td>3.000</td><td>spam</td></tr>\n",
       "</tbody>\n",
       "</table>\n"
      ],
      "text/latex": [
       "A tibble: 6 × 8\n",
       "\\begin{tabular}{llllllll}\n",
       " char\\_freq\\_semicolon & char\\_freq\\_paren & char\\_freq\\_brack & char\\_freq\\_excl & char\\_freq\\_mon & char\\_freq\\_hash & capital\\_run\\_length\\_average & spam\\_or\\_not\\_spam\\\\\n",
       " <dbl> & <dbl> & <dbl> & <dbl> & <dbl> & <dbl> & <dbl> & <fct>\\\\\n",
       "\\hline\n",
       "\t 0.00 & 0.000 & 0 & 0.778 & 0.000 & 0.000 & 3.756 & spam\\\\\n",
       "\t 0.00 & 0.132 & 0 & 0.372 & 0.180 & 0.048 & 5.114 & spam\\\\\n",
       "\t 0.01 & 0.143 & 0 & 0.276 & 0.184 & 0.010 & 9.821 & spam\\\\\n",
       "\t 0.00 & 0.137 & 0 & 0.137 & 0.000 & 0.000 & 3.537 & spam\\\\\n",
       "\t 0.00 & 0.135 & 0 & 0.135 & 0.000 & 0.000 & 3.537 & spam\\\\\n",
       "\t 0.00 & 0.223 & 0 & 0.000 & 0.000 & 0.000 & 3.000 & spam\\\\\n",
       "\\end{tabular}\n"
      ],
      "text/markdown": [
       "\n",
       "A tibble: 6 × 8\n",
       "\n",
       "| char_freq_semicolon &lt;dbl&gt; | char_freq_paren &lt;dbl&gt; | char_freq_brack &lt;dbl&gt; | char_freq_excl &lt;dbl&gt; | char_freq_mon &lt;dbl&gt; | char_freq_hash &lt;dbl&gt; | capital_run_length_average &lt;dbl&gt; | spam_or_not_spam &lt;fct&gt; |\n",
       "|---|---|---|---|---|---|---|---|\n",
       "| 0.00 | 0.000 | 0 | 0.778 | 0.000 | 0.000 | 3.756 | spam |\n",
       "| 0.00 | 0.132 | 0 | 0.372 | 0.180 | 0.048 | 5.114 | spam |\n",
       "| 0.01 | 0.143 | 0 | 0.276 | 0.184 | 0.010 | 9.821 | spam |\n",
       "| 0.00 | 0.137 | 0 | 0.137 | 0.000 | 0.000 | 3.537 | spam |\n",
       "| 0.00 | 0.135 | 0 | 0.135 | 0.000 | 0.000 | 3.537 | spam |\n",
       "| 0.00 | 0.223 | 0 | 0.000 | 0.000 | 0.000 | 3.000 | spam |\n",
       "\n"
      ],
      "text/plain": [
       "  char_freq_semicolon char_freq_paren char_freq_brack char_freq_excl\n",
       "1 0.00                0.000           0               0.778         \n",
       "2 0.00                0.132           0               0.372         \n",
       "3 0.01                0.143           0               0.276         \n",
       "4 0.00                0.137           0               0.137         \n",
       "5 0.00                0.135           0               0.135         \n",
       "6 0.00                0.223           0               0.000         \n",
       "  char_freq_mon char_freq_hash capital_run_length_average spam_or_not_spam\n",
       "1 0.000         0.000          3.756                      spam            \n",
       "2 0.180         0.048          5.114                      spam            \n",
       "3 0.184         0.010          9.821                      spam            \n",
       "4 0.000         0.000          3.537                      spam            \n",
       "5 0.000         0.000          3.537                      spam            \n",
       "6 0.000         0.000          3.000                      spam            "
      ]
     },
     "metadata": {},
     "output_type": "display_data"
    },
    {
     "data": {
      "text/html": [
       "<table class=\"dataframe\">\n",
       "<caption>A tibble: 6 × 8</caption>\n",
       "<thead>\n",
       "\t<tr><th scope=col>char_freq_semicolon</th><th scope=col>char_freq_paren</th><th scope=col>char_freq_brack</th><th scope=col>char_freq_excl</th><th scope=col>char_freq_mon</th><th scope=col>char_freq_hash</th><th scope=col>capital_run_length_average</th><th scope=col>spam_or_not_spam</th></tr>\n",
       "\t<tr><th scope=col>&lt;dbl&gt;</th><th scope=col>&lt;dbl&gt;</th><th scope=col>&lt;dbl&gt;</th><th scope=col>&lt;dbl&gt;</th><th scope=col>&lt;dbl&gt;</th><th scope=col>&lt;dbl&gt;</th><th scope=col>&lt;dbl&gt;</th><th scope=col>&lt;fct&gt;</th></tr>\n",
       "</thead>\n",
       "<tbody>\n",
       "\t<tr><td>0.000</td><td>0.000</td><td>0</td><td>0.000</td><td>0</td><td>0</td><td>1.000</td><td>not_spam</td></tr>\n",
       "\t<tr><td>0.000</td><td>0.232</td><td>0</td><td>0.000</td><td>0</td><td>0</td><td>1.142</td><td>not_spam</td></tr>\n",
       "\t<tr><td>0.000</td><td>0.000</td><td>0</td><td>0.353</td><td>0</td><td>0</td><td>1.555</td><td>not_spam</td></tr>\n",
       "\t<tr><td>0.102</td><td>0.718</td><td>0</td><td>0.000</td><td>0</td><td>0</td><td>1.404</td><td>not_spam</td></tr>\n",
       "\t<tr><td>0.000</td><td>0.057</td><td>0</td><td>0.000</td><td>0</td><td>0</td><td>1.147</td><td>not_spam</td></tr>\n",
       "\t<tr><td>0.000</td><td>0.000</td><td>0</td><td>0.125</td><td>0</td><td>0</td><td>1.250</td><td>not_spam</td></tr>\n",
       "</tbody>\n",
       "</table>\n"
      ],
      "text/latex": [
       "A tibble: 6 × 8\n",
       "\\begin{tabular}{llllllll}\n",
       " char\\_freq\\_semicolon & char\\_freq\\_paren & char\\_freq\\_brack & char\\_freq\\_excl & char\\_freq\\_mon & char\\_freq\\_hash & capital\\_run\\_length\\_average & spam\\_or\\_not\\_spam\\\\\n",
       " <dbl> & <dbl> & <dbl> & <dbl> & <dbl> & <dbl> & <dbl> & <fct>\\\\\n",
       "\\hline\n",
       "\t 0.000 & 0.000 & 0 & 0.000 & 0 & 0 & 1.000 & not\\_spam\\\\\n",
       "\t 0.000 & 0.232 & 0 & 0.000 & 0 & 0 & 1.142 & not\\_spam\\\\\n",
       "\t 0.000 & 0.000 & 0 & 0.353 & 0 & 0 & 1.555 & not\\_spam\\\\\n",
       "\t 0.102 & 0.718 & 0 & 0.000 & 0 & 0 & 1.404 & not\\_spam\\\\\n",
       "\t 0.000 & 0.057 & 0 & 0.000 & 0 & 0 & 1.147 & not\\_spam\\\\\n",
       "\t 0.000 & 0.000 & 0 & 0.125 & 0 & 0 & 1.250 & not\\_spam\\\\\n",
       "\\end{tabular}\n"
      ],
      "text/markdown": [
       "\n",
       "A tibble: 6 × 8\n",
       "\n",
       "| char_freq_semicolon &lt;dbl&gt; | char_freq_paren &lt;dbl&gt; | char_freq_brack &lt;dbl&gt; | char_freq_excl &lt;dbl&gt; | char_freq_mon &lt;dbl&gt; | char_freq_hash &lt;dbl&gt; | capital_run_length_average &lt;dbl&gt; | spam_or_not_spam &lt;fct&gt; |\n",
       "|---|---|---|---|---|---|---|---|\n",
       "| 0.000 | 0.000 | 0 | 0.000 | 0 | 0 | 1.000 | not_spam |\n",
       "| 0.000 | 0.232 | 0 | 0.000 | 0 | 0 | 1.142 | not_spam |\n",
       "| 0.000 | 0.000 | 0 | 0.353 | 0 | 0 | 1.555 | not_spam |\n",
       "| 0.102 | 0.718 | 0 | 0.000 | 0 | 0 | 1.404 | not_spam |\n",
       "| 0.000 | 0.057 | 0 | 0.000 | 0 | 0 | 1.147 | not_spam |\n",
       "| 0.000 | 0.000 | 0 | 0.125 | 0 | 0 | 1.250 | not_spam |\n",
       "\n"
      ],
      "text/plain": [
       "  char_freq_semicolon char_freq_paren char_freq_brack char_freq_excl\n",
       "1 0.000               0.000           0               0.000         \n",
       "2 0.000               0.232           0               0.000         \n",
       "3 0.000               0.000           0               0.353         \n",
       "4 0.102               0.718           0               0.000         \n",
       "5 0.000               0.057           0               0.000         \n",
       "6 0.000               0.000           0               0.125         \n",
       "  char_freq_mon char_freq_hash capital_run_length_average spam_or_not_spam\n",
       "1 0             0              1.000                      not_spam        \n",
       "2 0             0              1.142                      not_spam        \n",
       "3 0             0              1.555                      not_spam        \n",
       "4 0             0              1.404                      not_spam        \n",
       "5 0             0              1.147                      not_spam        \n",
       "6 0             0              1.250                      not_spam        "
      ]
     },
     "metadata": {},
     "output_type": "display_data"
    }
   ],
   "source": [
    "set.seed(200)\n",
    "## we can pre-select some columns instead of naming all 58 columns, as the column names are described in the dataset location (DOI)\n",
    "spam_data <- read_csv(url1, col_names = FALSE) |>\n",
    "    select(49: 55, X58) |>\n",
    "    rename(\"char_freq_semicolon\" = \"X49\", \"char_freq_paren\" = \"X50\", \"char_freq_brack\" = \"X51\", \"char_freq_excl\" = \"X52\", \"char_freq_mon\" = \"X53\", \"char_freq_hash\" = \"X54\", \"capital_run_length_average\" = \"X55\", \"spam_or_not_spam\" = \"X58\") ## renaming the column names to proper names\n",
    "    \n",
    "spam_data <- spam_data |>\n",
    "    mutate(spam_or_not_spam = as_factor(spam_or_not_spam))\n",
    "\n",
    "spam_data <- spam_data |>\n",
    "    mutate(spam_or_not_spam = fct_recode(spam_or_not_spam, \"spam\" = \"1\", \"not_spam\" = \"0\"))\n",
    "\n",
    "head(spam_data)\n",
    "tail(spam_data)\n"
   ]
  },
  {
   "cell_type": "markdown",
   "id": "aafa10ea-c7cb-41e9-bedb-dc4e88a45fbb",
   "metadata": {},
   "source": [
    "The data is clean and wrangled. Each row is a singular observation, each column is a singular variable, and each cell contains a singular value, and so this data is tidy. Names were added to the columns, the class column was converted to a factor and recoded to \"spam\" or \"not_spam\" from 1 and 0. \n",
    "\n",
    "Word Count: 55 Words"
   ]
  },
  {
   "cell_type": "markdown",
   "id": "817de8cc-f030-4f38-a3d5-819149c18fe7",
   "metadata": {},
   "source": [
    "### Creating Summary Tables using Training Data"
   ]
  },
  {
   "cell_type": "markdown",
   "id": "72157a92-999e-4d07-bfc2-62f4d3137e2b",
   "metadata": {},
   "source": [
    "### Table 1: Determining the Mean of All Predictor Variables, and Count of NAs in Training Data"
   ]
  },
  {
   "cell_type": "code",
   "execution_count": 4,
   "id": "cc28cff9-4b8e-4cf7-97a2-5306a6773b2e",
   "metadata": {
    "tags": []
   },
   "outputs": [
    {
     "name": "stderr",
     "output_type": "stream",
     "text": [
      "── \u001b[1mAttaching packages\u001b[22m ────────────────────────────────────── tidymodels 1.0.0 ──\n",
      "\n",
      "\u001b[32m✔\u001b[39m \u001b[34mbroom       \u001b[39m 1.0.2     \u001b[32m✔\u001b[39m \u001b[34mrsample     \u001b[39m 1.1.1\n",
      "\u001b[32m✔\u001b[39m \u001b[34mdials       \u001b[39m 1.1.0     \u001b[32m✔\u001b[39m \u001b[34mtune        \u001b[39m 1.0.1\n",
      "\u001b[32m✔\u001b[39m \u001b[34minfer       \u001b[39m 1.0.4     \u001b[32m✔\u001b[39m \u001b[34mworkflows   \u001b[39m 1.1.2\n",
      "\u001b[32m✔\u001b[39m \u001b[34mmodeldata   \u001b[39m 1.0.1     \u001b[32m✔\u001b[39m \u001b[34mworkflowsets\u001b[39m 1.0.0\n",
      "\u001b[32m✔\u001b[39m \u001b[34mparsnip     \u001b[39m 1.0.3     \u001b[32m✔\u001b[39m \u001b[34myardstick   \u001b[39m 1.1.0\n",
      "\u001b[32m✔\u001b[39m \u001b[34mrecipes     \u001b[39m 1.0.4     \n",
      "\n",
      "── \u001b[1mConflicts\u001b[22m ───────────────────────────────────────── tidymodels_conflicts() ──\n",
      "\u001b[31m✖\u001b[39m \u001b[34mscales\u001b[39m::\u001b[32mdiscard()\u001b[39m masks \u001b[34mpurrr\u001b[39m::discard()\n",
      "\u001b[31m✖\u001b[39m \u001b[34mdplyr\u001b[39m::\u001b[32mfilter()\u001b[39m   masks \u001b[34mstats\u001b[39m::filter()\n",
      "\u001b[31m✖\u001b[39m \u001b[34mrecipes\u001b[39m::\u001b[32mfixed()\u001b[39m  masks \u001b[34mstringr\u001b[39m::fixed()\n",
      "\u001b[31m✖\u001b[39m \u001b[34mdplyr\u001b[39m::\u001b[32mlag()\u001b[39m      masks \u001b[34mstats\u001b[39m::lag()\n",
      "\u001b[31m✖\u001b[39m \u001b[34myardstick\u001b[39m::\u001b[32mspec()\u001b[39m masks \u001b[34mreadr\u001b[39m::spec()\n",
      "\u001b[31m✖\u001b[39m \u001b[34mrecipes\u001b[39m::\u001b[32mstep()\u001b[39m   masks \u001b[34mstats\u001b[39m::step()\n",
      "\u001b[34m•\u001b[39m Learn how to get started at \u001b[32mhttps://www.tidymodels.org/start/\u001b[39m\n",
      "\n",
      "\n",
      "Attaching package: ‘dbplyr’\n",
      "\n",
      "\n",
      "The following objects are masked from ‘package:dplyr’:\n",
      "\n",
      "    ident, sql\n",
      "\n",
      "\n"
     ]
    },
    {
     "data": {
      "text/html": [
       "<table class=\"dataframe\">\n",
       "<caption>A tibble: 1 × 8</caption>\n",
       "<thead>\n",
       "\t<tr><th scope=col>mean_;_freq</th><th scope=col>mean_(_freq</th><th scope=col>mean_[_freq</th><th scope=col>mean_!_freq</th><th scope=col>mean_$_freq</th><th scope=col>mean_#_freq</th><th scope=col>mean_capital_run</th><th scope=col>num_of_na</th></tr>\n",
       "\t<tr><th scope=col>&lt;dbl&gt;</th><th scope=col>&lt;dbl&gt;</th><th scope=col>&lt;dbl&gt;</th><th scope=col>&lt;dbl&gt;</th><th scope=col>&lt;dbl&gt;</th><th scope=col>&lt;dbl&gt;</th><th scope=col>&lt;dbl&gt;</th><th scope=col>&lt;int&gt;</th></tr>\n",
       "</thead>\n",
       "<tbody>\n",
       "\t<tr><td>0.04564625</td><td>0.1422573</td><td>0.01715839</td><td>0.288884</td><td>0.0764875</td><td>0.04550127</td><td>4.945219</td><td>0</td></tr>\n",
       "</tbody>\n",
       "</table>\n"
      ],
      "text/latex": [
       "A tibble: 1 × 8\n",
       "\\begin{tabular}{llllllll}\n",
       " mean\\_;\\_freq & mean\\_(\\_freq & mean\\_{[}\\_freq & mean\\_!\\_freq & mean\\_\\$\\_freq & mean\\_\\#\\_freq & mean\\_capital\\_run & num\\_of\\_na\\\\\n",
       " <dbl> & <dbl> & <dbl> & <dbl> & <dbl> & <dbl> & <dbl> & <int>\\\\\n",
       "\\hline\n",
       "\t 0.04564625 & 0.1422573 & 0.01715839 & 0.288884 & 0.0764875 & 0.04550127 & 4.945219 & 0\\\\\n",
       "\\end{tabular}\n"
      ],
      "text/markdown": [
       "\n",
       "A tibble: 1 × 8\n",
       "\n",
       "| mean_;_freq &lt;dbl&gt; | mean_(_freq &lt;dbl&gt; | mean_[_freq &lt;dbl&gt; | mean_!_freq &lt;dbl&gt; | mean_$_freq &lt;dbl&gt; | mean_#_freq &lt;dbl&gt; | mean_capital_run &lt;dbl&gt; | num_of_na &lt;int&gt; |\n",
       "|---|---|---|---|---|---|---|---|\n",
       "| 0.04564625 | 0.1422573 | 0.01715839 | 0.288884 | 0.0764875 | 0.04550127 | 4.945219 | 0 |\n",
       "\n"
      ],
      "text/plain": [
       "  mean_;_freq mean_(_freq mean_[_freq mean_!_freq mean_$_freq mean_#_freq\n",
       "1 0.04564625  0.1422573   0.01715839  0.288884    0.0764875   0.04550127 \n",
       "  mean_capital_run num_of_na\n",
       "1 4.945219         0        "
      ]
     },
     "metadata": {},
     "output_type": "display_data"
    }
   ],
   "source": [
    "library(tidymodels) # for training and testing split \n",
    "library(dbplyr) # for the rename function \n",
    "set.seed(200) # to fix the randomization to one randomization\n",
    "spam_split <- initial_split(spam_data, prop = 0.6, strata = spam_or_not_spam)  #splitting the data into training and testing data\n",
    "spam_training <- training(spam_split)\n",
    "spam_testing <- testing(spam_split)\n",
    "\n",
    "summary_table_1 <- spam_training |>\n",
    "    select(-spam_or_not_spam) |>              # computes the averages of variables in data, along with the number of NA's in data\n",
    "    map_df(mean, na.rm = TRUE) |>\n",
    "    mutate(num_of_na = sum(is.na(spam_training)))\n",
    "\n",
    "summary_table_1 <- summary_table_1 |>  # renaming the names in the aforementioned table \n",
    "    rename(\"mean_;_freq\" = \"char_freq_semicolon\", \"mean_(_freq\" = \"char_freq_paren\", \"mean_[_freq\" = \"char_freq_brack\", \"mean_!_freq\" = \"char_freq_excl\", \"mean_$_freq\" = \"char_freq_mon\", \"mean_#_freq\" = \"char_freq_hash\", \"mean_capital_run\" = \"capital_run_length_average\") \n",
    "\n",
    "summary_table_1\n",
    "\n",
    "\n",
    "## it is important to recognize that scaling and centering WILL BE DONE after the proposal and during the actual classification"
   ]
  },
  {
   "cell_type": "markdown",
   "id": "73fce636-95a1-4733-82b6-c6b08b4f3b74",
   "metadata": {},
   "source": [
    "### Table 2: Determining the Dimensions of Rows and Columns in Training Data"
   ]
  },
  {
   "cell_type": "code",
   "execution_count": 5,
   "id": "c2b8dfd3-96ca-489f-8fd8-434ec41dc787",
   "metadata": {
    "tags": []
   },
   "outputs": [
    {
     "data": {
      "text/html": [
       "<table class=\"dataframe\">\n",
       "<caption>A tibble: 2 × 1</caption>\n",
       "<thead>\n",
       "\t<tr><th scope=col>dim_of_training_rows_then_cols</th></tr>\n",
       "\t<tr><th scope=col>&lt;int&gt;</th></tr>\n",
       "</thead>\n",
       "<tbody>\n",
       "\t<tr><td>2759</td></tr>\n",
       "\t<tr><td>   8</td></tr>\n",
       "</tbody>\n",
       "</table>\n"
      ],
      "text/latex": [
       "A tibble: 2 × 1\n",
       "\\begin{tabular}{l}\n",
       " dim\\_of\\_training\\_rows\\_then\\_cols\\\\\n",
       " <int>\\\\\n",
       "\\hline\n",
       "\t 2759\\\\\n",
       "\t    8\\\\\n",
       "\\end{tabular}\n"
      ],
      "text/markdown": [
       "\n",
       "A tibble: 2 × 1\n",
       "\n",
       "| dim_of_training_rows_then_cols &lt;int&gt; |\n",
       "|---|\n",
       "| 2759 |\n",
       "|    8 |\n",
       "\n"
      ],
      "text/plain": [
       "  dim_of_training_rows_then_cols\n",
       "1 2759                          \n",
       "2    8                          "
      ]
     },
     "metadata": {},
     "output_type": "display_data"
    }
   ],
   "source": [
    "summary_table_2 <- tibble(dim(spam_training)) |>  \n",
    "    rename(\"dim_of_training_rows_then_cols\" = \"dim(spam_training)\") #dimensions of the training data\n",
    "\n",
    "summary_table_2"
   ]
  },
  {
   "cell_type": "markdown",
   "id": "2c0991d2-1273-4559-8fd6-25d4f7e5e25e",
   "metadata": {},
   "source": [
    "### Table 3: Determining the Dimensions of Rows and Columns in Testing Data"
   ]
  },
  {
   "cell_type": "code",
   "execution_count": 6,
   "id": "384ace85-eff5-4ef4-9e63-bb8cc2f2b7e8",
   "metadata": {
    "tags": []
   },
   "outputs": [
    {
     "data": {
      "text/html": [
       "<table class=\"dataframe\">\n",
       "<caption>A tibble: 2 × 1</caption>\n",
       "<thead>\n",
       "\t<tr><th scope=col>dim_of_testing_rows_then_cols</th></tr>\n",
       "\t<tr><th scope=col>&lt;int&gt;</th></tr>\n",
       "</thead>\n",
       "<tbody>\n",
       "\t<tr><td>1842</td></tr>\n",
       "\t<tr><td>   8</td></tr>\n",
       "</tbody>\n",
       "</table>\n"
      ],
      "text/latex": [
       "A tibble: 2 × 1\n",
       "\\begin{tabular}{l}\n",
       " dim\\_of\\_testing\\_rows\\_then\\_cols\\\\\n",
       " <int>\\\\\n",
       "\\hline\n",
       "\t 1842\\\\\n",
       "\t    8\\\\\n",
       "\\end{tabular}\n"
      ],
      "text/markdown": [
       "\n",
       "A tibble: 2 × 1\n",
       "\n",
       "| dim_of_testing_rows_then_cols &lt;int&gt; |\n",
       "|---|\n",
       "| 1842 |\n",
       "|    8 |\n",
       "\n"
      ],
      "text/plain": [
       "  dim_of_testing_rows_then_cols\n",
       "1 1842                         \n",
       "2    8                         "
      ]
     },
     "metadata": {},
     "output_type": "display_data"
    }
   ],
   "source": [
    "summary_table_3 <- tibble(dim(spam_testing)) |>\n",
    "    rename(\"dim_of_testing_rows_then_cols\" = \"dim(spam_testing)\")   #dimensions of the testing data\n",
    "\n",
    "summary_table_3"
   ]
  },
  {
   "cell_type": "markdown",
   "id": "42eb891a-82fc-4923-b190-52f3679bdc05",
   "metadata": {},
   "source": [
    "### Table 4: Determining Count of Classes, Along with Percentage of Each Class in Testing Data"
   ]
  },
  {
   "cell_type": "code",
   "execution_count": 7,
   "id": "c45150f4-5aa9-4fc0-9ca9-99c9c6acef02",
   "metadata": {
    "tags": []
   },
   "outputs": [
    {
     "data": {
      "text/html": [
       "<table class=\"dataframe\">\n",
       "<caption>A tibble: 2 × 3</caption>\n",
       "<thead>\n",
       "\t<tr><th scope=col>classes</th><th scope=col>count</th><th scope=col>percentage</th></tr>\n",
       "\t<tr><th scope=col>&lt;fct&gt;</th><th scope=col>&lt;int&gt;</th><th scope=col>&lt;dbl&gt;</th></tr>\n",
       "</thead>\n",
       "<tbody>\n",
       "\t<tr><td>not_spam</td><td>1116</td><td>60.58632</td></tr>\n",
       "\t<tr><td>spam    </td><td> 726</td><td>39.41368</td></tr>\n",
       "</tbody>\n",
       "</table>\n"
      ],
      "text/latex": [
       "A tibble: 2 × 3\n",
       "\\begin{tabular}{lll}\n",
       " classes & count & percentage\\\\\n",
       " <fct> & <int> & <dbl>\\\\\n",
       "\\hline\n",
       "\t not\\_spam & 1116 & 60.58632\\\\\n",
       "\t spam     &  726 & 39.41368\\\\\n",
       "\\end{tabular}\n"
      ],
      "text/markdown": [
       "\n",
       "A tibble: 2 × 3\n",
       "\n",
       "| classes &lt;fct&gt; | count &lt;int&gt; | percentage &lt;dbl&gt; |\n",
       "|---|---|---|\n",
       "| not_spam | 1116 | 60.58632 |\n",
       "| spam     |  726 | 39.41368 |\n",
       "\n"
      ],
      "text/plain": [
       "  classes  count percentage\n",
       "1 not_spam 1116  60.58632  \n",
       "2 spam      726  39.41368  "
      ]
     },
     "metadata": {},
     "output_type": "display_data"
    }
   ],
   "source": [
    "number_of_obs <- nrow(spam_testing)\n",
    "\n",
    "summary_table_4 <- spam_testing |>  ## showing the percentage distribution of the classes spam and not spam\n",
    "    group_by(spam_or_not_spam) |>   \n",
    "    summarize(count = n(), percentage = n()/ number_of_obs * 100)\n",
    "\n",
    "summary_table_4 <- summary_table_4 |>\n",
    "    rename(\"classes\" = \"spam_or_not_spam\")\n",
    "summary_table_4\n"
   ]
  },
  {
   "cell_type": "markdown",
   "id": "dde3a1a5-2b6e-4b12-ba12-b4065669b2ae",
   "metadata": {},
   "source": [
    "### Table 5: Determining Standard Deviation of Predictors in Training Data"
   ]
  },
  {
   "cell_type": "code",
   "execution_count": 8,
   "id": "7584821d-0fdd-4adc-917f-dfe552675325",
   "metadata": {
    "tags": []
   },
   "outputs": [
    {
     "data": {
      "text/html": [
       "<table class=\"dataframe\">\n",
       "<caption>A tibble: 1 × 7</caption>\n",
       "<thead>\n",
       "\t<tr><th scope=col>sd_;_freq</th><th scope=col>sd_(_freq</th><th scope=col>sd_[_freq</th><th scope=col>sd_!_freq</th><th scope=col>sd_$_freq</th><th scope=col>sd_#_freq</th><th scope=col>sd_capital_run</th></tr>\n",
       "\t<tr><th scope=col>&lt;dbl&gt;</th><th scope=col>&lt;dbl&gt;</th><th scope=col>&lt;dbl&gt;</th><th scope=col>&lt;dbl&gt;</th><th scope=col>&lt;dbl&gt;</th><th scope=col>&lt;dbl&gt;</th><th scope=col>&lt;dbl&gt;</th></tr>\n",
       "</thead>\n",
       "<tbody>\n",
       "\t<tr><td>0.2940466</td><td>0.2820605</td><td>0.1148197</td><td>0.9660054</td><td>0.2401114</td><td>0.4367491</td><td>25.12168</td></tr>\n",
       "</tbody>\n",
       "</table>\n"
      ],
      "text/latex": [
       "A tibble: 1 × 7\n",
       "\\begin{tabular}{lllllll}\n",
       " sd\\_;\\_freq & sd\\_(\\_freq & sd\\_{[}\\_freq & sd\\_!\\_freq & sd\\_\\$\\_freq & sd\\_\\#\\_freq & sd\\_capital\\_run\\\\\n",
       " <dbl> & <dbl> & <dbl> & <dbl> & <dbl> & <dbl> & <dbl>\\\\\n",
       "\\hline\n",
       "\t 0.2940466 & 0.2820605 & 0.1148197 & 0.9660054 & 0.2401114 & 0.4367491 & 25.12168\\\\\n",
       "\\end{tabular}\n"
      ],
      "text/markdown": [
       "\n",
       "A tibble: 1 × 7\n",
       "\n",
       "| sd_;_freq &lt;dbl&gt; | sd_(_freq &lt;dbl&gt; | sd_[_freq &lt;dbl&gt; | sd_!_freq &lt;dbl&gt; | sd_$_freq &lt;dbl&gt; | sd_#_freq &lt;dbl&gt; | sd_capital_run &lt;dbl&gt; |\n",
       "|---|---|---|---|---|---|---|\n",
       "| 0.2940466 | 0.2820605 | 0.1148197 | 0.9660054 | 0.2401114 | 0.4367491 | 25.12168 |\n",
       "\n"
      ],
      "text/plain": [
       "  sd_;_freq sd_(_freq sd_[_freq sd_!_freq sd_$_freq sd_#_freq sd_capital_run\n",
       "1 0.2940466 0.2820605 0.1148197 0.9660054 0.2401114 0.4367491 25.12168      "
      ]
     },
     "metadata": {},
     "output_type": "display_data"
    }
   ],
   "source": [
    "summary_table_5 <- spam_training |>\n",
    "    select(-spam_or_not_spam) |>\n",
    "    map_df(sd, na.rm = TRUE) \n",
    "\n",
    "summary_table_5 <- summary_table_5 |>\n",
    "    rename(\"sd_;_freq\" = \"char_freq_semicolon\", \"sd_(_freq\" = \"char_freq_paren\", \"sd_[_freq\" = \"char_freq_brack\", \"sd_!_freq\" = \"char_freq_excl\", \"sd_$_freq\" = \"char_freq_mon\", \"sd_#_freq\" = \"char_freq_hash\", \"sd_capital_run\" = \"capital_run_length_average\")\n",
    "\n",
    "summary_table_5"
   ]
  },
  {
   "cell_type": "markdown",
   "id": "68777ec5-69f5-477f-9e22-edf477601398",
   "metadata": {},
   "source": [
    "### Table 6: Determining Median of Predictors in Training Data"
   ]
  },
  {
   "cell_type": "code",
   "execution_count": 12,
   "id": "4ad0b259-1c24-4863-839c-7679b8ce9020",
   "metadata": {
    "tags": []
   },
   "outputs": [
    {
     "data": {
      "text/html": [
       "<table class=\"dataframe\">\n",
       "<caption>A tibble: 1 × 7</caption>\n",
       "<thead>\n",
       "\t<tr><th scope=col>med_;_freq</th><th scope=col>med_(_freq</th><th scope=col>med_[_freq</th><th scope=col>med_!_freq</th><th scope=col>med_$_freq</th><th scope=col>med_#_freq</th><th scope=col>med_capital_run</th></tr>\n",
       "\t<tr><th scope=col>&lt;dbl&gt;</th><th scope=col>&lt;dbl&gt;</th><th scope=col>&lt;dbl&gt;</th><th scope=col>&lt;dbl&gt;</th><th scope=col>&lt;dbl&gt;</th><th scope=col>&lt;dbl&gt;</th><th scope=col>&lt;dbl&gt;</th></tr>\n",
       "</thead>\n",
       "<tbody>\n",
       "\t<tr><td>0</td><td>0.066</td><td>0</td><td>0</td><td>0</td><td>0</td><td>2.306</td></tr>\n",
       "</tbody>\n",
       "</table>\n"
      ],
      "text/latex": [
       "A tibble: 1 × 7\n",
       "\\begin{tabular}{lllllll}\n",
       " med\\_;\\_freq & med\\_(\\_freq & med\\_{[}\\_freq & med\\_!\\_freq & med\\_\\$\\_freq & med\\_\\#\\_freq & med\\_capital\\_run\\\\\n",
       " <dbl> & <dbl> & <dbl> & <dbl> & <dbl> & <dbl> & <dbl>\\\\\n",
       "\\hline\n",
       "\t 0 & 0.066 & 0 & 0 & 0 & 0 & 2.306\\\\\n",
       "\\end{tabular}\n"
      ],
      "text/markdown": [
       "\n",
       "A tibble: 1 × 7\n",
       "\n",
       "| med_;_freq &lt;dbl&gt; | med_(_freq &lt;dbl&gt; | med_[_freq &lt;dbl&gt; | med_!_freq &lt;dbl&gt; | med_$_freq &lt;dbl&gt; | med_#_freq &lt;dbl&gt; | med_capital_run &lt;dbl&gt; |\n",
       "|---|---|---|---|---|---|---|\n",
       "| 0 | 0.066 | 0 | 0 | 0 | 0 | 2.306 |\n",
       "\n"
      ],
      "text/plain": [
       "  med_;_freq med_(_freq med_[_freq med_!_freq med_$_freq med_#_freq\n",
       "1 0          0.066      0          0          0          0         \n",
       "  med_capital_run\n",
       "1 2.306          "
      ]
     },
     "metadata": {},
     "output_type": "display_data"
    }
   ],
   "source": [
    "summary_table_6 <- spam_training |>\n",
    "    select(-spam_or_not_spam) |>\n",
    "    map_df(median, na.rm = TRUE) \n",
    "\n",
    "summary_table_6 <- summary_table_6 |>\n",
    "    rename(\"med_;_freq\" = \"char_freq_semicolon\", \"med_(_freq\" = \"char_freq_paren\", \"med_[_freq\" = \"char_freq_brack\", \"med_!_freq\" = \"char_freq_excl\", \"med_$_freq\" = \"char_freq_mon\", \"med_#_freq\" = \"char_freq_hash\", \"med_capital_run\" = \"capital_run_length_average\")\n",
    "\n",
    "summary_table_6"
   ]
  },
  {
   "cell_type": "code",
   "execution_count": 10,
   "id": "19fea8f4-ba3c-4746-a027-da62359728ae",
   "metadata": {
    "tags": []
   },
   "outputs": [
    {
     "name": "stderr",
     "output_type": "stream",
     "text": [
      "Updating HTML index of packages in '.Library'\n",
      "\n",
      "Making 'packages.html' ...\n",
      " done\n",
      "\n"
     ]
    },
    {
     "data": {
      "text/html": [
       "<table class=\"dataframe\">\n",
       "<caption>A tibble: 2 × 3</caption>\n",
       "<thead>\n",
       "\t<tr><th scope=col>.metric</th><th scope=col>.estimator</th><th scope=col>.estimate</th></tr>\n",
       "\t<tr><th scope=col>&lt;chr&gt;</th><th scope=col>&lt;chr&gt;</th><th scope=col>&lt;dbl&gt;</th></tr>\n",
       "</thead>\n",
       "<tbody>\n",
       "\t<tr><td>accuracy</td><td>binary</td><td>0.8822037</td></tr>\n",
       "\t<tr><td>kap     </td><td>binary</td><td>0.7489946</td></tr>\n",
       "</tbody>\n",
       "</table>\n"
      ],
      "text/latex": [
       "A tibble: 2 × 3\n",
       "\\begin{tabular}{lll}\n",
       " .metric & .estimator & .estimate\\\\\n",
       " <chr> & <chr> & <dbl>\\\\\n",
       "\\hline\n",
       "\t accuracy & binary & 0.8822037\\\\\n",
       "\t kap      & binary & 0.7489946\\\\\n",
       "\\end{tabular}\n"
      ],
      "text/markdown": [
       "\n",
       "A tibble: 2 × 3\n",
       "\n",
       "| .metric &lt;chr&gt; | .estimator &lt;chr&gt; | .estimate &lt;dbl&gt; |\n",
       "|---|---|---|\n",
       "| accuracy | binary | 0.8822037 |\n",
       "| kap      | binary | 0.7489946 |\n",
       "\n"
      ],
      "text/plain": [
       "  .metric  .estimator .estimate\n",
       "1 accuracy binary     0.8822037\n",
       "2 kap      binary     0.7489946"
      ]
     },
     "metadata": {},
     "output_type": "display_data"
    },
    {
     "data": {
      "text/plain": [
       "          Truth\n",
       "Prediction not_spam spam\n",
       "  not_spam     1563  216\n",
       "  spam          109  871"
      ]
     },
     "metadata": {},
     "output_type": "display_data"
    },
    {
     "data": {
      "text/html": [
       "<table class=\"dataframe\">\n",
       "<caption>A tibble: 1 × 1</caption>\n",
       "<thead>\n",
       "\t<tr><th scope=col>.pred_class</th></tr>\n",
       "\t<tr><th scope=col>&lt;fct&gt;</th></tr>\n",
       "</thead>\n",
       "<tbody>\n",
       "\t<tr><td>spam</td></tr>\n",
       "</tbody>\n",
       "</table>\n"
      ],
      "text/latex": [
       "A tibble: 1 × 1\n",
       "\\begin{tabular}{l}\n",
       " .pred\\_class\\\\\n",
       " <fct>\\\\\n",
       "\\hline\n",
       "\t spam\\\\\n",
       "\\end{tabular}\n"
      ],
      "text/markdown": [
       "\n",
       "A tibble: 1 × 1\n",
       "\n",
       "| .pred_class &lt;fct&gt; |\n",
       "|---|\n",
       "| spam |\n",
       "\n"
      ],
      "text/plain": [
       "  .pred_class\n",
       "1 spam       "
      ]
     },
     "metadata": {},
     "output_type": "display_data"
    },
    {
     "data": {
      "application/pdf": "[encoded data removed]",
      "image/jpeg": "[encoded data removed]",
      "image/png": "[encoded data removed]",
      "image/svg+xml": [
       "<?xml version=\"1.0\" encoding=\"UTF-8\"?>\n",
       "<svg xmlns=\"http://www.w3.org/2000/svg\" xmlns:xlink=\"http://www.w3.org/1999/xlink\" width=\"504pt\" height=\"504pt\" viewBox=\"0 0 504 504\" version=\"1.1\">\n",
       "<defs>\n",
       "<g>\n",
       "<symbol overflow=\"visible\" id=\"glyph0-0\">\n",
       "<path style=\"stroke:none;\" d=\"M 0.296875 0 L 0.296875 -5.859375 L 2.625 -5.859375 L 2.625 0 Z M 0.578125 -0.296875 L 2.34375 -0.296875 L 2.34375 -5.578125 L 0.578125 -5.578125 Z M 0.578125 -0.296875 \"/>\n",
       "</symbol>\n",
       "<symbol overflow=\"visible\" id=\"glyph0-1\">\n",
       "<path style=\"stroke:none;\" d=\"M 4.546875 -3.03125 C 4.546875 -2.445312 4.488281 -1.957031 4.375 -1.5625 C 4.269531 -1.164062 4.117188 -0.84375 3.921875 -0.59375 C 3.734375 -0.351562 3.507812 -0.179688 3.25 -0.078125 C 3 0.0234375 2.726562 0.078125 2.4375 0.078125 C 2.144531 0.078125 1.867188 0.0234375 1.609375 -0.078125 C 1.359375 -0.179688 1.140625 -0.351562 0.953125 -0.59375 C 0.765625 -0.84375 0.613281 -1.164062 0.5 -1.5625 C 0.394531 -1.957031 0.34375 -2.445312 0.34375 -3.03125 C 0.34375 -3.632812 0.394531 -4.132812 0.5 -4.53125 C 0.613281 -4.9375 0.765625 -5.257812 0.953125 -5.5 C 1.140625 -5.738281 1.359375 -5.90625 1.609375 -6 C 1.867188 -6.09375 2.15625 -6.140625 2.46875 -6.140625 C 2.75 -6.140625 3.015625 -6.09375 3.265625 -6 C 3.523438 -5.90625 3.75 -5.738281 3.9375 -5.5 C 4.125 -5.257812 4.269531 -4.9375 4.375 -4.53125 C 4.488281 -4.132812 4.546875 -3.632812 4.546875 -3.03125 Z M 3.765625 -3.03125 C 3.765625 -3.507812 3.734375 -3.90625 3.671875 -4.21875 C 3.617188 -4.539062 3.535156 -4.796875 3.421875 -4.984375 C 3.304688 -5.179688 3.164062 -5.316406 3 -5.390625 C 2.84375 -5.472656 2.664062 -5.515625 2.46875 -5.515625 C 2.25 -5.515625 2.054688 -5.472656 1.890625 -5.390625 C 1.722656 -5.316406 1.582031 -5.179688 1.46875 -4.984375 C 1.351562 -4.796875 1.265625 -4.539062 1.203125 -4.21875 C 1.148438 -3.90625 1.125 -3.507812 1.125 -3.03125 C 1.125 -2.5625 1.148438 -2.164062 1.203125 -1.84375 C 1.265625 -1.53125 1.351562 -1.273438 1.46875 -1.078125 C 1.582031 -0.890625 1.71875 -0.753906 1.875 -0.671875 C 2.039062 -0.585938 2.226562 -0.546875 2.4375 -0.546875 C 2.644531 -0.546875 2.828125 -0.585938 2.984375 -0.671875 C 3.148438 -0.753906 3.289062 -0.890625 3.40625 -1.078125 C 3.519531 -1.273438 3.609375 -1.53125 3.671875 -1.84375 C 3.734375 -2.164062 3.765625 -2.5625 3.765625 -3.03125 Z M 3.765625 -3.03125 \"/>\n",
       "</symbol>\n",
       "<symbol overflow=\"visible\" id=\"glyph0-2\">\n",
       "<path style=\"stroke:none;\" d=\"M 0.796875 0 L 0.796875 -0.9375 L 1.640625 -0.9375 L 1.640625 0 Z M 0.796875 0 \"/>\n",
       "</symbol>\n",
       "<symbol overflow=\"visible\" id=\"glyph0-3\">\n",
       "<path style=\"stroke:none;\" d=\"M 4.515625 -1.6875 C 4.515625 -1.425781 4.472656 -1.1875 4.390625 -0.96875 C 4.304688 -0.757812 4.179688 -0.578125 4.015625 -0.421875 C 3.847656 -0.265625 3.632812 -0.140625 3.375 -0.046875 C 3.113281 0.0351562 2.804688 0.078125 2.453125 0.078125 C 2.097656 0.078125 1.789062 0.0351562 1.53125 -0.046875 C 1.269531 -0.140625 1.050781 -0.265625 0.875 -0.421875 C 0.707031 -0.578125 0.582031 -0.757812 0.5 -0.96875 C 0.414062 -1.1875 0.375 -1.421875 0.375 -1.671875 C 0.375 -1.898438 0.40625 -2.097656 0.46875 -2.265625 C 0.539062 -2.441406 0.632812 -2.59375 0.75 -2.71875 C 0.863281 -2.84375 0.992188 -2.941406 1.140625 -3.015625 C 1.285156 -3.085938 1.4375 -3.140625 1.59375 -3.171875 L 1.59375 -3.1875 C 1.414062 -3.226562 1.257812 -3.289062 1.125 -3.375 C 1 -3.46875 0.890625 -3.578125 0.796875 -3.703125 C 0.710938 -3.828125 0.644531 -3.960938 0.59375 -4.109375 C 0.550781 -4.265625 0.53125 -4.425781 0.53125 -4.59375 C 0.53125 -4.800781 0.566406 -5 0.640625 -5.1875 C 0.722656 -5.375 0.84375 -5.535156 1 -5.671875 C 1.164062 -5.816406 1.367188 -5.929688 1.609375 -6.015625 C 1.847656 -6.097656 2.125 -6.140625 2.4375 -6.140625 C 2.757812 -6.140625 3.039062 -6.097656 3.28125 -6.015625 C 3.53125 -5.929688 3.734375 -5.816406 3.890625 -5.671875 C 4.046875 -5.535156 4.160156 -5.375 4.234375 -5.1875 C 4.316406 -5 4.359375 -4.796875 4.359375 -4.578125 C 4.359375 -4.410156 4.332031 -4.25 4.28125 -4.09375 C 4.238281 -3.945312 4.171875 -3.8125 4.078125 -3.6875 C 3.992188 -3.5625 3.882812 -3.457031 3.75 -3.375 C 3.613281 -3.289062 3.457031 -3.226562 3.28125 -3.1875 L 3.28125 -3.171875 C 3.457031 -3.140625 3.617188 -3.085938 3.765625 -3.015625 C 3.921875 -2.941406 4.050781 -2.84375 4.15625 -2.71875 C 4.269531 -2.59375 4.359375 -2.441406 4.421875 -2.265625 C 4.484375 -2.097656 4.515625 -1.90625 4.515625 -1.6875 Z M 3.5625 -4.546875 C 3.5625 -4.691406 3.539062 -4.828125 3.5 -4.953125 C 3.457031 -5.078125 3.390625 -5.1875 3.296875 -5.28125 C 3.210938 -5.375 3.097656 -5.441406 2.953125 -5.484375 C 2.816406 -5.535156 2.644531 -5.5625 2.4375 -5.5625 C 2.226562 -5.5625 2.050781 -5.535156 1.90625 -5.484375 C 1.769531 -5.441406 1.65625 -5.375 1.5625 -5.28125 C 1.476562 -5.1875 1.414062 -5.078125 1.375 -4.953125 C 1.332031 -4.828125 1.3125 -4.691406 1.3125 -4.546875 C 1.3125 -4.421875 1.328125 -4.296875 1.359375 -4.171875 C 1.390625 -4.046875 1.445312 -3.929688 1.53125 -3.828125 C 1.613281 -3.722656 1.726562 -3.632812 1.875 -3.5625 C 2.019531 -3.5 2.207031 -3.46875 2.4375 -3.46875 C 2.6875 -3.46875 2.882812 -3.5 3.03125 -3.5625 C 3.175781 -3.632812 3.285156 -3.722656 3.359375 -3.828125 C 3.441406 -3.929688 3.492188 -4.046875 3.515625 -4.171875 C 3.546875 -4.296875 3.5625 -4.421875 3.5625 -4.546875 Z M 3.703125 -1.765625 C 3.703125 -1.910156 3.679688 -2.050781 3.640625 -2.1875 C 3.609375 -2.320312 3.539062 -2.441406 3.4375 -2.546875 C 3.34375 -2.648438 3.210938 -2.734375 3.046875 -2.796875 C 2.878906 -2.859375 2.675781 -2.890625 2.4375 -2.890625 C 2.207031 -2.890625 2.007812 -2.859375 1.84375 -2.796875 C 1.6875 -2.734375 1.554688 -2.648438 1.453125 -2.546875 C 1.359375 -2.441406 1.289062 -2.316406 1.25 -2.171875 C 1.207031 -2.035156 1.1875 -1.894531 1.1875 -1.75 C 1.1875 -1.5625 1.207031 -1.390625 1.25 -1.234375 C 1.289062 -1.078125 1.363281 -0.941406 1.46875 -0.828125 C 1.570312 -0.722656 1.703125 -0.640625 1.859375 -0.578125 C 2.023438 -0.523438 2.222656 -0.5 2.453125 -0.5 C 2.691406 -0.5 2.890625 -0.523438 3.046875 -0.578125 C 3.210938 -0.640625 3.34375 -0.722656 3.4375 -0.828125 C 3.53125 -0.941406 3.597656 -1.078125 3.640625 -1.234375 C 3.679688 -1.390625 3.703125 -1.566406 3.703125 -1.765625 Z M 3.703125 -1.765625 \"/>\n",
       "</symbol>\n",
       "<symbol overflow=\"visible\" id=\"glyph0-4\">\n",
       "<path style=\"stroke:none;\" d=\"M 0.4375 0 L 0.4375 -0.546875 C 0.582031 -0.878906 0.757812 -1.171875 0.96875 -1.421875 C 1.1875 -1.679688 1.410156 -1.914062 1.640625 -2.125 C 1.867188 -2.332031 2.097656 -2.523438 2.328125 -2.703125 C 2.554688 -2.878906 2.757812 -3.054688 2.9375 -3.234375 C 3.125 -3.410156 3.273438 -3.597656 3.390625 -3.796875 C 3.503906 -3.992188 3.5625 -4.210938 3.5625 -4.453125 C 3.5625 -4.628906 3.535156 -4.78125 3.484375 -4.90625 C 3.429688 -5.039062 3.351562 -5.148438 3.25 -5.234375 C 3.15625 -5.328125 3.039062 -5.394531 2.90625 -5.4375 C 2.769531 -5.476562 2.617188 -5.5 2.453125 -5.5 C 2.296875 -5.5 2.148438 -5.476562 2.015625 -5.4375 C 1.878906 -5.394531 1.757812 -5.332031 1.65625 -5.25 C 1.550781 -5.164062 1.460938 -5.054688 1.390625 -4.921875 C 1.328125 -4.796875 1.285156 -4.648438 1.265625 -4.484375 L 0.484375 -4.5625 C 0.503906 -4.78125 0.5625 -4.984375 0.65625 -5.171875 C 0.75 -5.359375 0.878906 -5.523438 1.046875 -5.671875 C 1.210938 -5.816406 1.410156 -5.929688 1.640625 -6.015625 C 1.878906 -6.097656 2.148438 -6.140625 2.453125 -6.140625 C 2.753906 -6.140625 3.019531 -6.101562 3.25 -6.03125 C 3.488281 -5.957031 3.6875 -5.847656 3.84375 -5.703125 C 4.007812 -5.566406 4.132812 -5.394531 4.21875 -5.1875 C 4.3125 -4.988281 4.359375 -4.753906 4.359375 -4.484375 C 4.359375 -4.273438 4.320312 -4.078125 4.25 -3.890625 C 4.175781 -3.710938 4.078125 -3.539062 3.953125 -3.375 C 3.828125 -3.207031 3.6875 -3.046875 3.53125 -2.890625 C 3.375 -2.742188 3.207031 -2.59375 3.03125 -2.4375 C 2.851562 -2.289062 2.675781 -2.144531 2.5 -2 C 2.320312 -1.863281 2.15625 -1.722656 2 -1.578125 C 1.84375 -1.429688 1.703125 -1.28125 1.578125 -1.125 C 1.453125 -0.976562 1.359375 -0.820312 1.296875 -0.65625 L 4.453125 -0.65625 L 4.453125 0 Z M 0.4375 0 \"/>\n",
       "</symbol>\n",
       "<symbol overflow=\"visible\" id=\"glyph0-5\">\n",
       "<path style=\"stroke:none;\" d=\"M 3.78125 -1.375 L 3.78125 0 L 3.046875 0 L 3.046875 -1.375 L 0.203125 -1.375 L 0.203125 -1.96875 L 2.96875 -6.046875 L 3.78125 -6.046875 L 3.78125 -1.984375 L 4.640625 -1.984375 L 4.640625 -1.375 Z M 3.046875 -5.1875 C 3.046875 -5.164062 3.035156 -5.132812 3.015625 -5.09375 C 2.992188 -5.050781 2.96875 -5.003906 2.9375 -4.953125 C 2.90625 -4.898438 2.875 -4.847656 2.84375 -4.796875 C 2.8125 -4.742188 2.785156 -4.703125 2.765625 -4.671875 L 1.21875 -2.390625 C 1.195312 -2.359375 1.171875 -2.320312 1.140625 -2.28125 C 1.117188 -2.25 1.09375 -2.210938 1.0625 -2.171875 C 1.039062 -2.140625 1.015625 -2.101562 0.984375 -2.0625 C 0.953125 -2.03125 0.929688 -2.003906 0.921875 -1.984375 L 3.046875 -1.984375 Z M 3.046875 -5.1875 \"/>\n",
       "</symbol>\n",
       "<symbol overflow=\"visible\" id=\"glyph0-6\">\n",
       "<path style=\"stroke:none;\" d=\"M 4.5 -1.984375 C 4.5 -1.679688 4.457031 -1.398438 4.375 -1.140625 C 4.289062 -0.890625 4.164062 -0.671875 4 -0.484375 C 3.84375 -0.304688 3.640625 -0.164062 3.390625 -0.0625 C 3.148438 0.03125 2.867188 0.078125 2.546875 0.078125 C 2.191406 0.078125 1.882812 0.015625 1.625 -0.109375 C 1.363281 -0.242188 1.144531 -0.4375 0.96875 -0.6875 C 0.789062 -0.945312 0.660156 -1.257812 0.578125 -1.625 C 0.492188 -2 0.453125 -2.421875 0.453125 -2.890625 C 0.453125 -3.421875 0.5 -3.890625 0.59375 -4.296875 C 0.695312 -4.703125 0.835938 -5.039062 1.015625 -5.3125 C 1.203125 -5.59375 1.429688 -5.800781 1.703125 -5.9375 C 1.972656 -6.070312 2.273438 -6.140625 2.609375 -6.140625 C 2.816406 -6.140625 3.007812 -6.117188 3.1875 -6.078125 C 3.375 -6.035156 3.539062 -5.960938 3.6875 -5.859375 C 3.832031 -5.765625 3.957031 -5.640625 4.0625 -5.484375 C 4.175781 -5.328125 4.269531 -5.132812 4.34375 -4.90625 L 3.59375 -4.78125 C 3.519531 -5.039062 3.394531 -5.226562 3.21875 -5.34375 C 3.039062 -5.457031 2.835938 -5.515625 2.609375 -5.515625 C 2.390625 -5.515625 2.191406 -5.460938 2.015625 -5.359375 C 1.847656 -5.265625 1.703125 -5.117188 1.578125 -4.921875 C 1.460938 -4.722656 1.375 -4.472656 1.3125 -4.171875 C 1.25 -3.867188 1.21875 -3.515625 1.21875 -3.109375 C 1.351562 -3.367188 1.546875 -3.566406 1.796875 -3.703125 C 2.054688 -3.835938 2.351562 -3.90625 2.6875 -3.90625 C 2.957031 -3.90625 3.203125 -3.859375 3.421875 -3.765625 C 3.648438 -3.679688 3.84375 -3.554688 4 -3.390625 C 4.164062 -3.222656 4.289062 -3.019531 4.375 -2.78125 C 4.457031 -2.539062 4.5 -2.273438 4.5 -1.984375 Z M 3.71875 -1.953125 C 3.71875 -2.160156 3.691406 -2.347656 3.640625 -2.515625 C 3.585938 -2.679688 3.507812 -2.820312 3.40625 -2.9375 C 3.300781 -3.0625 3.171875 -3.15625 3.015625 -3.21875 C 2.867188 -3.28125 2.695312 -3.3125 2.5 -3.3125 C 2.363281 -3.3125 2.222656 -3.289062 2.078125 -3.25 C 1.929688 -3.207031 1.800781 -3.140625 1.6875 -3.046875 C 1.570312 -2.953125 1.476562 -2.828125 1.40625 -2.671875 C 1.332031 -2.523438 1.296875 -2.34375 1.296875 -2.125 C 1.296875 -1.90625 1.320312 -1.695312 1.375 -1.5 C 1.4375 -1.3125 1.519531 -1.144531 1.625 -1 C 1.726562 -0.851562 1.851562 -0.738281 2 -0.65625 C 2.15625 -0.570312 2.332031 -0.53125 2.53125 -0.53125 C 2.71875 -0.53125 2.882812 -0.5625 3.03125 -0.625 C 3.175781 -0.695312 3.300781 -0.789062 3.40625 -0.90625 C 3.507812 -1.03125 3.585938 -1.179688 3.640625 -1.359375 C 3.691406 -1.535156 3.71875 -1.734375 3.71875 -1.953125 Z M 3.71875 -1.953125 \"/>\n",
       "</symbol>\n",
       "<symbol overflow=\"visible\" id=\"glyph0-7\">\n",
       "<path style=\"stroke:none;\" d=\"M 4.5 -1.671875 C 4.5 -1.390625 4.453125 -1.140625 4.359375 -0.921875 C 4.273438 -0.703125 4.144531 -0.519531 3.96875 -0.375 C 3.800781 -0.226562 3.585938 -0.113281 3.328125 -0.03125 C 3.078125 0.0390625 2.785156 0.078125 2.453125 0.078125 C 2.078125 0.078125 1.757812 0.0351562 1.5 -0.046875 C 1.25 -0.140625 1.039062 -0.265625 0.875 -0.421875 C 0.707031 -0.578125 0.582031 -0.75 0.5 -0.9375 C 0.414062 -1.132812 0.359375 -1.34375 0.328125 -1.5625 L 1.140625 -1.625 C 1.160156 -1.46875 1.203125 -1.320312 1.265625 -1.1875 C 1.328125 -1.0625 1.410156 -0.945312 1.515625 -0.84375 C 1.617188 -0.75 1.75 -0.675781 1.90625 -0.625 C 2.0625 -0.570312 2.242188 -0.546875 2.453125 -0.546875 C 2.835938 -0.546875 3.140625 -0.640625 3.359375 -0.828125 C 3.585938 -1.023438 3.703125 -1.316406 3.703125 -1.703125 C 3.703125 -1.921875 3.648438 -2.097656 3.546875 -2.234375 C 3.453125 -2.367188 3.332031 -2.472656 3.1875 -2.546875 C 3.039062 -2.628906 2.878906 -2.679688 2.703125 -2.703125 C 2.523438 -2.734375 2.363281 -2.75 2.21875 -2.75 L 1.78125 -2.75 L 1.78125 -3.421875 L 2.203125 -3.421875 C 2.347656 -3.421875 2.5 -3.429688 2.65625 -3.453125 C 2.820312 -3.484375 2.96875 -3.535156 3.09375 -3.609375 C 3.226562 -3.691406 3.335938 -3.800781 3.421875 -3.9375 C 3.503906 -4.070312 3.546875 -4.242188 3.546875 -4.453125 C 3.546875 -4.773438 3.445312 -5.03125 3.25 -5.21875 C 3.0625 -5.40625 2.78125 -5.5 2.40625 -5.5 C 2.070312 -5.5 1.796875 -5.410156 1.578125 -5.234375 C 1.367188 -5.066406 1.25 -4.820312 1.21875 -4.5 L 0.4375 -4.5625 C 0.46875 -4.832031 0.539062 -5.066406 0.65625 -5.265625 C 0.769531 -5.460938 0.914062 -5.625 1.09375 -5.75 C 1.269531 -5.882812 1.46875 -5.984375 1.6875 -6.046875 C 1.914062 -6.109375 2.160156 -6.140625 2.421875 -6.140625 C 2.753906 -6.140625 3.039062 -6.097656 3.28125 -6.015625 C 3.53125 -5.929688 3.734375 -5.816406 3.890625 -5.671875 C 4.046875 -5.523438 4.160156 -5.351562 4.234375 -5.15625 C 4.304688 -4.96875 4.34375 -4.765625 4.34375 -4.546875 C 4.34375 -4.367188 4.316406 -4.203125 4.265625 -4.046875 C 4.210938 -3.890625 4.132812 -3.75 4.03125 -3.625 C 3.9375 -3.5 3.804688 -3.390625 3.640625 -3.296875 C 3.484375 -3.210938 3.296875 -3.148438 3.078125 -3.109375 L 3.078125 -3.09375 C 3.316406 -3.0625 3.523438 -3.003906 3.703125 -2.921875 C 3.890625 -2.835938 4.039062 -2.734375 4.15625 -2.609375 C 4.269531 -2.484375 4.351562 -2.335938 4.40625 -2.171875 C 4.46875 -2.015625 4.5 -1.847656 4.5 -1.671875 Z M 4.5 -1.671875 \"/>\n",
       "</symbol>\n",
       "<symbol overflow=\"visible\" id=\"glyph0-8\">\n",
       "<path style=\"stroke:none;\" d=\"M 4.515625 -1.96875 C 4.515625 -1.664062 4.46875 -1.390625 4.375 -1.140625 C 4.289062 -0.890625 4.15625 -0.671875 3.96875 -0.484375 C 3.789062 -0.304688 3.566406 -0.164062 3.296875 -0.0625 C 3.035156 0.03125 2.726562 0.078125 2.375 0.078125 C 2.0625 0.078125 1.785156 0.0390625 1.546875 -0.03125 C 1.304688 -0.101562 1.101562 -0.203125 0.9375 -0.328125 C 0.78125 -0.460938 0.648438 -0.613281 0.546875 -0.78125 C 0.453125 -0.957031 0.390625 -1.148438 0.359375 -1.359375 L 1.140625 -1.4375 C 1.171875 -1.320312 1.210938 -1.210938 1.265625 -1.109375 C 1.328125 -1.003906 1.40625 -0.910156 1.5 -0.828125 C 1.601562 -0.742188 1.722656 -0.675781 1.859375 -0.625 C 2.003906 -0.570312 2.179688 -0.546875 2.390625 -0.546875 C 2.585938 -0.546875 2.769531 -0.578125 2.9375 -0.640625 C 3.101562 -0.703125 3.242188 -0.789062 3.359375 -0.90625 C 3.472656 -1.03125 3.5625 -1.175781 3.625 -1.34375 C 3.6875 -1.519531 3.71875 -1.722656 3.71875 -1.953125 C 3.71875 -2.140625 3.6875 -2.3125 3.625 -2.46875 C 3.570312 -2.625 3.488281 -2.757812 3.375 -2.875 C 3.257812 -2.988281 3.117188 -3.078125 2.953125 -3.140625 C 2.796875 -3.203125 2.613281 -3.234375 2.40625 -3.234375 C 2.28125 -3.234375 2.160156 -3.21875 2.046875 -3.1875 C 1.941406 -3.164062 1.84375 -3.132812 1.75 -3.09375 C 1.65625 -3.0625 1.570312 -3.015625 1.5 -2.953125 C 1.425781 -2.898438 1.351562 -2.847656 1.28125 -2.796875 L 0.53125 -2.796875 L 0.734375 -6.046875 L 4.171875 -6.046875 L 4.171875 -5.390625 L 1.4375 -5.390625 L 1.3125 -3.46875 C 1.457031 -3.582031 1.628906 -3.675781 1.828125 -3.75 C 2.035156 -3.820312 2.28125 -3.859375 2.5625 -3.859375 C 2.863281 -3.859375 3.132812 -3.8125 3.375 -3.71875 C 3.613281 -3.632812 3.816406 -3.503906 3.984375 -3.328125 C 4.160156 -3.160156 4.289062 -2.960938 4.375 -2.734375 C 4.46875 -2.503906 4.515625 -2.25 4.515625 -1.96875 Z M 4.515625 -1.96875 \"/>\n",
       "</symbol>\n",
       "<symbol overflow=\"visible\" id=\"glyph0-9\">\n",
       "<path style=\"stroke:none;\" d=\"M 4.453125 -5.421875 C 4.148438 -4.960938 3.867188 -4.515625 3.609375 -4.078125 C 3.359375 -3.648438 3.140625 -3.21875 2.953125 -2.78125 C 2.773438 -2.351562 2.632812 -1.910156 2.53125 -1.453125 C 2.425781 -0.992188 2.375 -0.507812 2.375 0 L 1.5625 0 C 1.5625 -0.476562 1.617188 -0.953125 1.734375 -1.421875 C 1.847656 -1.890625 2.003906 -2.347656 2.203125 -2.796875 C 2.398438 -3.242188 2.625 -3.679688 2.875 -4.109375 C 3.132812 -4.546875 3.410156 -4.972656 3.703125 -5.390625 L 0.453125 -5.390625 L 0.453125 -6.046875 L 4.453125 -6.046875 Z M 4.453125 -5.421875 \"/>\n",
       "</symbol>\n",
       "<symbol overflow=\"visible\" id=\"glyph0-10\">\n",
       "<path style=\"stroke:none;\" d=\"M 4.46875 -3.15625 C 4.46875 -2.613281 4.414062 -2.140625 4.3125 -1.734375 C 4.21875 -1.328125 4.078125 -0.988281 3.890625 -0.71875 C 3.703125 -0.445312 3.472656 -0.242188 3.203125 -0.109375 C 2.929688 0.015625 2.625 0.078125 2.28125 0.078125 C 2.050781 0.078125 1.84375 0.0507812 1.65625 0 C 1.46875 -0.0390625 1.300781 -0.109375 1.15625 -0.203125 C 1.007812 -0.304688 0.882812 -0.4375 0.78125 -0.59375 C 0.675781 -0.757812 0.59375 -0.953125 0.53125 -1.171875 L 1.28125 -1.296875 C 1.351562 -1.035156 1.472656 -0.84375 1.640625 -0.71875 C 1.816406 -0.59375 2.035156 -0.53125 2.296875 -0.53125 C 2.503906 -0.53125 2.691406 -0.578125 2.859375 -0.671875 C 3.035156 -0.773438 3.1875 -0.925781 3.3125 -1.125 C 3.4375 -1.320312 3.53125 -1.566406 3.59375 -1.859375 C 3.664062 -2.160156 3.707031 -2.515625 3.71875 -2.921875 C 3.65625 -2.785156 3.570312 -2.664062 3.46875 -2.5625 C 3.363281 -2.457031 3.242188 -2.367188 3.109375 -2.296875 C 2.972656 -2.222656 2.828125 -2.164062 2.671875 -2.125 C 2.515625 -2.082031 2.359375 -2.0625 2.203125 -2.0625 C 1.929688 -2.0625 1.679688 -2.109375 1.453125 -2.203125 C 1.234375 -2.304688 1.046875 -2.445312 0.890625 -2.625 C 0.742188 -2.800781 0.625 -3.015625 0.53125 -3.265625 C 0.445312 -3.515625 0.40625 -3.796875 0.40625 -4.109375 C 0.40625 -4.421875 0.453125 -4.703125 0.546875 -4.953125 C 0.640625 -5.203125 0.769531 -5.414062 0.9375 -5.59375 C 1.113281 -5.769531 1.328125 -5.90625 1.578125 -6 C 1.828125 -6.09375 2.109375 -6.140625 2.421875 -6.140625 C 3.097656 -6.140625 3.609375 -5.890625 3.953125 -5.390625 C 4.296875 -4.890625 4.46875 -4.144531 4.46875 -3.15625 Z M 3.640625 -3.890625 C 3.640625 -4.117188 3.609375 -4.332031 3.546875 -4.53125 C 3.492188 -4.726562 3.414062 -4.898438 3.3125 -5.046875 C 3.207031 -5.191406 3.078125 -5.304688 2.921875 -5.390625 C 2.773438 -5.472656 2.601562 -5.515625 2.40625 -5.515625 C 2.21875 -5.515625 2.046875 -5.476562 1.890625 -5.40625 C 1.742188 -5.34375 1.617188 -5.25 1.515625 -5.125 C 1.410156 -5.007812 1.332031 -4.863281 1.28125 -4.6875 C 1.226562 -4.507812 1.203125 -4.316406 1.203125 -4.109375 C 1.203125 -3.898438 1.222656 -3.707031 1.265625 -3.53125 C 1.316406 -3.363281 1.394531 -3.210938 1.5 -3.078125 C 1.601562 -2.953125 1.726562 -2.851562 1.875 -2.78125 C 2.019531 -2.707031 2.191406 -2.671875 2.390625 -2.671875 C 2.535156 -2.671875 2.679688 -2.695312 2.828125 -2.75 C 2.972656 -2.800781 3.101562 -2.875 3.21875 -2.96875 C 3.34375 -3.070312 3.441406 -3.195312 3.515625 -3.34375 C 3.597656 -3.5 3.640625 -3.679688 3.640625 -3.890625 Z M 3.640625 -3.890625 \"/>\n",
       "</symbol>\n",
       "<symbol overflow=\"visible\" id=\"glyph0-11\">\n",
       "<path style=\"stroke:none;\" d=\"M 0.671875 0 L 0.671875 -0.65625 L 2.21875 -0.65625 L 2.21875 -5.3125 L 0.84375 -4.34375 L 0.84375 -5.0625 L 2.28125 -6.046875 L 2.984375 -6.046875 L 2.984375 -0.65625 L 4.46875 -0.65625 L 4.46875 0 Z M 0.671875 0 \"/>\n",
       "</symbol>\n",
       "<symbol overflow=\"visible\" id=\"glyph1-0\">\n",
       "<path style=\"stroke:none;\" d=\"M 0.359375 0 L 0.359375 -7.328125 L 3.28125 -7.328125 L 3.28125 0 Z M 0.734375 -0.359375 L 2.921875 -0.359375 L 2.921875 -6.96875 L 0.734375 -6.96875 Z M 0.734375 -0.359375 \"/>\n",
       "</symbol>\n",
       "<symbol overflow=\"visible\" id=\"glyph1-1\">\n",
       "<path style=\"stroke:none;\" d=\"M 5.8125 0 L 1.765625 -6.453125 C 1.765625 -6.273438 1.769531 -6.097656 1.78125 -5.921875 C 1.789062 -5.773438 1.796875 -5.617188 1.796875 -5.453125 C 1.804688 -5.296875 1.8125 -5.15625 1.8125 -5.03125 L 1.8125 0 L 0.90625 0 L 0.90625 -7.5625 L 2.09375 -7.5625 L 6.1875 -1.078125 C 6.175781 -1.253906 6.164062 -1.429688 6.15625 -1.609375 C 6.144531 -1.753906 6.132812 -1.914062 6.125 -2.09375 C 6.125 -2.269531 6.125 -2.441406 6.125 -2.609375 L 6.125 -7.5625 L 7.046875 -7.5625 L 7.046875 0 Z M 5.8125 0 \"/>\n",
       "</symbol>\n",
       "<symbol overflow=\"visible\" id=\"glyph1-2\">\n",
       "<path style=\"stroke:none;\" d=\"M 1.6875 -5.8125 L 1.6875 -2.125 C 1.6875 -1.84375 1.707031 -1.609375 1.75 -1.421875 C 1.789062 -1.234375 1.859375 -1.078125 1.953125 -0.953125 C 2.046875 -0.835938 2.164062 -0.753906 2.3125 -0.703125 C 2.46875 -0.660156 2.660156 -0.640625 2.890625 -0.640625 C 3.117188 -0.640625 3.320312 -0.675781 3.5 -0.75 C 3.6875 -0.832031 3.84375 -0.953125 3.96875 -1.109375 C 4.101562 -1.265625 4.207031 -1.453125 4.28125 -1.671875 C 4.351562 -1.898438 4.390625 -2.15625 4.390625 -2.4375 L 4.390625 -5.8125 L 5.359375 -5.8125 L 5.359375 -1.234375 C 5.359375 -1.117188 5.359375 -0.992188 5.359375 -0.859375 C 5.359375 -0.722656 5.359375 -0.59375 5.359375 -0.46875 C 5.367188 -0.351562 5.375 -0.25 5.375 -0.15625 C 5.375 -0.0703125 5.378906 -0.0195312 5.390625 0 L 4.46875 0 C 4.46875 -0.0195312 4.460938 -0.0664062 4.453125 -0.140625 C 4.453125 -0.222656 4.445312 -0.3125 4.4375 -0.40625 C 4.4375 -0.507812 4.4375 -0.613281 4.4375 -0.71875 C 4.4375 -0.832031 4.4375 -0.925781 4.4375 -1 L 4.421875 -1 C 4.328125 -0.820312 4.222656 -0.664062 4.109375 -0.53125 C 3.992188 -0.394531 3.863281 -0.28125 3.71875 -0.1875 C 3.570312 -0.09375 3.40625 -0.0195312 3.21875 0.03125 C 3.03125 0.0820312 2.8125 0.109375 2.5625 0.109375 C 2.238281 0.109375 1.957031 0.0703125 1.71875 0 C 1.488281 -0.0820312 1.296875 -0.207031 1.140625 -0.375 C 0.992188 -0.539062 0.882812 -0.75 0.8125 -1 C 0.75 -1.257812 0.71875 -1.570312 0.71875 -1.9375 L 0.71875 -5.8125 Z M 1.6875 -5.8125 \"/>\n",
       "</symbol>\n",
       "<symbol overflow=\"visible\" id=\"glyph1-3\">\n",
       "<path style=\"stroke:none;\" d=\"M 4.125 0 L 4.125 -3.6875 C 4.125 -3.96875 4.101562 -4.203125 4.0625 -4.390625 C 4.03125 -4.578125 3.972656 -4.726562 3.890625 -4.84375 C 3.804688 -4.96875 3.695312 -5.050781 3.5625 -5.09375 C 3.425781 -5.144531 3.257812 -5.171875 3.0625 -5.171875 C 2.851562 -5.171875 2.664062 -5.128906 2.5 -5.046875 C 2.34375 -4.972656 2.203125 -4.859375 2.078125 -4.703125 C 1.960938 -4.546875 1.875 -4.351562 1.8125 -4.125 C 1.75 -3.90625 1.71875 -3.65625 1.71875 -3.375 L 1.71875 0 L 0.765625 0 L 0.765625 -4.578125 C 0.765625 -4.691406 0.757812 -4.816406 0.75 -4.953125 C 0.75 -5.085938 0.75 -5.210938 0.75 -5.328125 C 0.75 -5.453125 0.742188 -5.554688 0.734375 -5.640625 C 0.734375 -5.734375 0.734375 -5.789062 0.734375 -5.8125 L 1.640625 -5.8125 C 1.648438 -5.789062 1.65625 -5.738281 1.65625 -5.65625 C 1.65625 -5.582031 1.65625 -5.492188 1.65625 -5.390625 C 1.664062 -5.296875 1.671875 -5.191406 1.671875 -5.078125 C 1.679688 -4.972656 1.6875 -4.882812 1.6875 -4.8125 L 1.703125 -4.8125 C 1.785156 -4.988281 1.875 -5.144531 1.96875 -5.28125 C 2.070312 -5.414062 2.191406 -5.53125 2.328125 -5.625 C 2.460938 -5.71875 2.617188 -5.789062 2.796875 -5.84375 C 2.972656 -5.894531 3.175781 -5.921875 3.40625 -5.921875 C 3.84375 -5.921875 4.1875 -5.832031 4.4375 -5.65625 C 4.695312 -5.476562 4.878906 -5.195312 4.984375 -4.8125 L 5 -4.8125 C 5.082031 -4.988281 5.175781 -5.144531 5.28125 -5.28125 C 5.394531 -5.414062 5.519531 -5.53125 5.65625 -5.625 C 5.800781 -5.71875 5.960938 -5.789062 6.140625 -5.84375 C 6.316406 -5.894531 6.519531 -5.921875 6.75 -5.921875 C 7.050781 -5.921875 7.304688 -5.878906 7.515625 -5.796875 C 7.734375 -5.722656 7.910156 -5.601562 8.046875 -5.4375 C 8.179688 -5.269531 8.28125 -5.054688 8.34375 -4.796875 C 8.40625 -4.535156 8.4375 -4.226562 8.4375 -3.875 L 8.4375 0 L 7.484375 0 L 7.484375 -3.6875 C 7.484375 -3.96875 7.460938 -4.203125 7.421875 -4.390625 C 7.390625 -4.578125 7.332031 -4.726562 7.25 -4.84375 C 7.164062 -4.96875 7.054688 -5.050781 6.921875 -5.09375 C 6.785156 -5.144531 6.617188 -5.171875 6.421875 -5.171875 C 6.210938 -5.171875 6.023438 -5.128906 5.859375 -5.046875 C 5.703125 -4.972656 5.5625 -4.859375 5.4375 -4.703125 C 5.320312 -4.554688 5.234375 -4.367188 5.171875 -4.140625 C 5.109375 -3.921875 5.078125 -3.664062 5.078125 -3.375 L 5.078125 0 Z M 4.125 0 \"/>\n",
       "</symbol>\n",
       "<symbol overflow=\"visible\" id=\"glyph1-4\">\n",
       "<path style=\"stroke:none;\" d=\"M 5.65625 -2.9375 C 5.65625 -0.90625 4.941406 0.109375 3.515625 0.109375 C 3.078125 0.109375 2.710938 0.03125 2.421875 -0.125 C 2.128906 -0.289062 1.890625 -0.550781 1.703125 -0.90625 C 1.703125 -0.8125 1.695312 -0.710938 1.6875 -0.609375 C 1.6875 -0.515625 1.679688 -0.421875 1.671875 -0.328125 C 1.671875 -0.242188 1.664062 -0.171875 1.65625 -0.109375 C 1.65625 -0.046875 1.648438 -0.0078125 1.640625 0 L 0.703125 0 C 0.710938 -0.03125 0.71875 -0.0820312 0.71875 -0.15625 C 0.71875 -0.238281 0.71875 -0.332031 0.71875 -0.4375 C 0.726562 -0.550781 0.734375 -0.671875 0.734375 -0.796875 C 0.734375 -0.921875 0.734375 -1.054688 0.734375 -1.203125 L 0.734375 -7.96875 L 1.703125 -7.96875 L 1.703125 -5.703125 C 1.703125 -5.585938 1.703125 -5.484375 1.703125 -5.390625 C 1.703125 -5.296875 1.703125 -5.207031 1.703125 -5.125 C 1.691406 -5.039062 1.6875 -4.957031 1.6875 -4.875 L 1.703125 -4.875 C 1.890625 -5.25 2.128906 -5.515625 2.421875 -5.671875 C 2.710938 -5.835938 3.078125 -5.921875 3.515625 -5.921875 C 4.253906 -5.921875 4.796875 -5.671875 5.140625 -5.171875 C 5.484375 -4.679688 5.65625 -3.9375 5.65625 -2.9375 Z M 4.640625 -2.90625 C 4.640625 -3.300781 4.613281 -3.640625 4.5625 -3.921875 C 4.507812 -4.210938 4.425781 -4.453125 4.3125 -4.640625 C 4.207031 -4.828125 4.066406 -4.960938 3.890625 -5.046875 C 3.722656 -5.128906 3.515625 -5.171875 3.265625 -5.171875 C 3.015625 -5.171875 2.789062 -5.128906 2.59375 -5.046875 C 2.394531 -4.960938 2.226562 -4.828125 2.09375 -4.640625 C 1.96875 -4.460938 1.867188 -4.222656 1.796875 -3.921875 C 1.734375 -3.628906 1.703125 -3.269531 1.703125 -2.84375 C 1.703125 -2.425781 1.734375 -2.078125 1.796875 -1.796875 C 1.867188 -1.515625 1.96875 -1.285156 2.09375 -1.109375 C 2.226562 -0.929688 2.394531 -0.800781 2.59375 -0.71875 C 2.789062 -0.644531 3.015625 -0.609375 3.265625 -0.609375 C 3.492188 -0.609375 3.691406 -0.648438 3.859375 -0.734375 C 4.035156 -0.816406 4.179688 -0.945312 4.296875 -1.125 C 4.410156 -1.3125 4.492188 -1.550781 4.546875 -1.84375 C 4.609375 -2.132812 4.640625 -2.488281 4.640625 -2.90625 Z M 4.640625 -2.90625 \"/>\n",
       "</symbol>\n",
       "<symbol overflow=\"visible\" id=\"glyph1-5\">\n",
       "<path style=\"stroke:none;\" d=\"M 1.484375 -2.703125 C 1.484375 -2.398438 1.515625 -2.117188 1.578125 -1.859375 C 1.640625 -1.609375 1.734375 -1.390625 1.859375 -1.203125 C 1.992188 -1.015625 2.160156 -0.867188 2.359375 -0.765625 C 2.566406 -0.671875 2.816406 -0.625 3.109375 -0.625 C 3.523438 -0.625 3.859375 -0.707031 4.109375 -0.875 C 4.359375 -1.039062 4.53125 -1.253906 4.625 -1.515625 L 5.46875 -1.265625 C 5.40625 -1.109375 5.316406 -0.945312 5.203125 -0.78125 C 5.097656 -0.613281 4.953125 -0.460938 4.765625 -0.328125 C 4.585938 -0.203125 4.363281 -0.0976562 4.09375 -0.015625 C 3.820312 0.0664062 3.492188 0.109375 3.109375 0.109375 C 2.242188 0.109375 1.585938 -0.144531 1.140625 -0.65625 C 0.691406 -1.164062 0.46875 -1.925781 0.46875 -2.9375 C 0.46875 -3.488281 0.535156 -3.953125 0.671875 -4.328125 C 0.804688 -4.703125 0.988281 -5.007812 1.21875 -5.25 C 1.457031 -5.488281 1.734375 -5.660156 2.046875 -5.765625 C 2.367188 -5.867188 2.707031 -5.921875 3.0625 -5.921875 C 3.550781 -5.921875 3.957031 -5.84375 4.28125 -5.6875 C 4.613281 -5.53125 4.878906 -5.3125 5.078125 -5.03125 C 5.273438 -4.75 5.414062 -4.421875 5.5 -4.046875 C 5.582031 -3.671875 5.625 -3.265625 5.625 -2.828125 L 5.625 -2.703125 Z M 4.625 -3.4375 C 4.570312 -4.050781 4.414062 -4.5 4.15625 -4.78125 C 3.90625 -5.0625 3.535156 -5.203125 3.046875 -5.203125 C 2.890625 -5.203125 2.722656 -5.175781 2.546875 -5.125 C 2.367188 -5.070312 2.203125 -4.976562 2.046875 -4.84375 C 1.898438 -4.71875 1.773438 -4.539062 1.671875 -4.3125 C 1.566406 -4.082031 1.507812 -3.789062 1.5 -3.4375 Z M 4.625 -3.4375 \"/>\n",
       "</symbol>\n",
       "<symbol overflow=\"visible\" id=\"glyph1-6\">\n",
       "<path style=\"stroke:none;\" d=\"M 0.765625 0 L 0.765625 -4.453125 C 0.765625 -4.578125 0.757812 -4.703125 0.75 -4.828125 C 0.75 -4.953125 0.75 -5.070312 0.75 -5.1875 C 0.75 -5.3125 0.742188 -5.425781 0.734375 -5.53125 C 0.734375 -5.632812 0.734375 -5.726562 0.734375 -5.8125 L 1.640625 -5.8125 C 1.648438 -5.726562 1.65625 -5.632812 1.65625 -5.53125 C 1.664062 -5.425781 1.671875 -5.316406 1.671875 -5.203125 C 1.679688 -5.085938 1.6875 -4.976562 1.6875 -4.875 C 1.6875 -4.78125 1.6875 -4.695312 1.6875 -4.625 L 1.703125 -4.625 C 1.773438 -4.84375 1.847656 -5.035156 1.921875 -5.203125 C 2.003906 -5.367188 2.097656 -5.503906 2.203125 -5.609375 C 2.304688 -5.710938 2.425781 -5.789062 2.5625 -5.84375 C 2.707031 -5.894531 2.882812 -5.921875 3.09375 -5.921875 C 3.164062 -5.921875 3.238281 -5.910156 3.3125 -5.890625 C 3.382812 -5.878906 3.441406 -5.867188 3.484375 -5.859375 L 3.484375 -4.984375 C 3.421875 -4.992188 3.34375 -5.003906 3.25 -5.015625 C 3.164062 -5.023438 3.070312 -5.03125 2.96875 -5.03125 C 2.738281 -5.03125 2.546875 -4.976562 2.390625 -4.875 C 2.242188 -4.78125 2.117188 -4.644531 2.015625 -4.46875 C 1.921875 -4.289062 1.847656 -4.078125 1.796875 -3.828125 C 1.753906 -3.585938 1.734375 -3.320312 1.734375 -3.03125 L 1.734375 0 Z M 0.765625 0 \"/>\n",
       "</symbol>\n",
       "<symbol overflow=\"visible\" id=\"glyph1-7\">\n",
       "<path style=\"stroke:none;\" d=\"\"/>\n",
       "</symbol>\n",
       "<symbol overflow=\"visible\" id=\"glyph1-8\">\n",
       "<path style=\"stroke:none;\" d=\"M 5.65625 -2.90625 C 5.65625 -1.894531 5.429688 -1.140625 4.984375 -0.640625 C 4.535156 -0.140625 3.882812 0.109375 3.03125 0.109375 C 2.625 0.109375 2.257812 0.046875 1.9375 -0.078125 C 1.625 -0.203125 1.359375 -0.390625 1.140625 -0.640625 C 0.921875 -0.890625 0.753906 -1.203125 0.640625 -1.578125 C 0.523438 -1.953125 0.46875 -2.394531 0.46875 -2.90625 C 0.46875 -4.914062 1.332031 -5.921875 3.0625 -5.921875 C 3.519531 -5.921875 3.910156 -5.859375 4.234375 -5.734375 C 4.566406 -5.609375 4.835938 -5.421875 5.046875 -5.171875 C 5.253906 -4.921875 5.40625 -4.601562 5.5 -4.21875 C 5.601562 -3.84375 5.65625 -3.40625 5.65625 -2.90625 Z M 4.640625 -2.90625 C 4.640625 -3.363281 4.601562 -3.738281 4.53125 -4.03125 C 4.46875 -4.320312 4.367188 -4.554688 4.234375 -4.734375 C 4.097656 -4.910156 3.929688 -5.03125 3.734375 -5.09375 C 3.546875 -5.164062 3.328125 -5.203125 3.078125 -5.203125 C 2.835938 -5.203125 2.613281 -5.164062 2.40625 -5.09375 C 2.207031 -5.019531 2.039062 -4.894531 1.90625 -4.71875 C 1.769531 -4.539062 1.664062 -4.304688 1.59375 -4.015625 C 1.519531 -3.722656 1.484375 -3.351562 1.484375 -2.90625 C 1.484375 -2.457031 1.519531 -2.082031 1.59375 -1.78125 C 1.675781 -1.488281 1.785156 -1.253906 1.921875 -1.078125 C 2.054688 -0.910156 2.21875 -0.789062 2.40625 -0.71875 C 2.59375 -0.644531 2.800781 -0.609375 3.03125 -0.609375 C 3.269531 -0.609375 3.488281 -0.640625 3.6875 -0.703125 C 3.894531 -0.773438 4.066406 -0.898438 4.203125 -1.078125 C 4.347656 -1.253906 4.457031 -1.488281 4.53125 -1.78125 C 4.601562 -2.082031 4.640625 -2.457031 4.640625 -2.90625 Z M 4.640625 -2.90625 \"/>\n",
       "</symbol>\n",
       "<symbol overflow=\"visible\" id=\"glyph1-9\">\n",
       "<path style=\"stroke:none;\" d=\"M 1.9375 -5.109375 L 1.9375 0 L 0.96875 0 L 0.96875 -5.109375 L 0.15625 -5.109375 L 0.15625 -5.8125 L 0.96875 -5.8125 L 0.96875 -6.46875 C 0.96875 -6.675781 0.988281 -6.867188 1.03125 -7.046875 C 1.070312 -7.234375 1.144531 -7.394531 1.25 -7.53125 C 1.351562 -7.664062 1.492188 -7.769531 1.671875 -7.84375 C 1.859375 -7.914062 2.097656 -7.953125 2.390625 -7.953125 C 2.503906 -7.953125 2.625 -7.945312 2.75 -7.9375 C 2.875 -7.925781 2.984375 -7.910156 3.078125 -7.890625 L 3.078125 -7.15625 C 3.015625 -7.164062 2.941406 -7.175781 2.859375 -7.1875 C 2.773438 -7.195312 2.703125 -7.203125 2.640625 -7.203125 C 2.492188 -7.203125 2.375 -7.179688 2.28125 -7.140625 C 2.195312 -7.097656 2.128906 -7.039062 2.078125 -6.96875 C 2.023438 -6.894531 1.988281 -6.804688 1.96875 -6.703125 C 1.945312 -6.597656 1.9375 -6.472656 1.9375 -6.328125 L 1.9375 -5.8125 L 3.078125 -5.8125 L 3.078125 -5.109375 Z M 1.9375 -5.109375 \"/>\n",
       "</symbol>\n",
       "<symbol overflow=\"visible\" id=\"glyph1-10\">\n",
       "<path style=\"stroke:none;\" d=\"M 0.734375 -7.046875 L 0.734375 -7.96875 L 1.703125 -7.96875 L 1.703125 -7.046875 Z M 0.734375 0 L 0.734375 -5.8125 L 1.703125 -5.8125 L 1.703125 0 Z M 0.734375 0 \"/>\n",
       "</symbol>\n",
       "<symbol overflow=\"visible\" id=\"glyph1-11\">\n",
       "<path style=\"stroke:none;\" d=\"M 2.9375 2.28125 C 2.601562 2.28125 2.304688 2.242188 2.046875 2.171875 C 1.796875 2.109375 1.578125 2.015625 1.390625 1.890625 C 1.210938 1.765625 1.066406 1.613281 0.953125 1.4375 C 0.835938 1.257812 0.753906 1.0625 0.703125 0.84375 L 1.671875 0.703125 C 1.734375 0.972656 1.875 1.179688 2.09375 1.328125 C 2.320312 1.472656 2.613281 1.546875 2.96875 1.546875 C 3.1875 1.546875 3.382812 1.515625 3.5625 1.453125 C 3.738281 1.390625 3.890625 1.289062 4.015625 1.15625 C 4.148438 1.03125 4.25 0.859375 4.3125 0.640625 C 4.382812 0.421875 4.421875 0.160156 4.421875 -0.140625 L 4.421875 -1.078125 L 4.40625 -1.078125 C 4.332031 -0.929688 4.242188 -0.789062 4.140625 -0.65625 C 4.035156 -0.519531 3.90625 -0.398438 3.75 -0.296875 C 3.601562 -0.191406 3.425781 -0.109375 3.21875 -0.046875 C 3.019531 0.015625 2.789062 0.046875 2.53125 0.046875 C 2.164062 0.046875 1.847656 -0.015625 1.578125 -0.140625 C 1.316406 -0.265625 1.101562 -0.445312 0.9375 -0.6875 C 0.769531 -0.9375 0.648438 -1.242188 0.578125 -1.609375 C 0.503906 -1.984375 0.46875 -2.410156 0.46875 -2.890625 C 0.46875 -3.359375 0.503906 -3.773438 0.578125 -4.140625 C 0.648438 -4.515625 0.773438 -4.832031 0.953125 -5.09375 C 1.128906 -5.351562 1.351562 -5.550781 1.625 -5.6875 C 1.90625 -5.832031 2.242188 -5.90625 2.640625 -5.90625 C 3.054688 -5.90625 3.414062 -5.8125 3.71875 -5.625 C 4.019531 -5.4375 4.253906 -5.164062 4.421875 -4.8125 C 4.421875 -4.90625 4.421875 -5.003906 4.421875 -5.109375 C 4.429688 -5.222656 4.4375 -5.328125 4.4375 -5.421875 C 4.445312 -5.523438 4.457031 -5.613281 4.46875 -5.6875 C 4.476562 -5.757812 4.484375 -5.800781 4.484375 -5.8125 L 5.40625 -5.8125 C 5.40625 -5.78125 5.398438 -5.722656 5.390625 -5.640625 C 5.390625 -5.566406 5.382812 -5.472656 5.375 -5.359375 C 5.375 -5.253906 5.375 -5.132812 5.375 -5 C 5.375 -4.875 5.375 -4.742188 5.375 -4.609375 L 5.375 -0.171875 C 5.375 0.640625 5.171875 1.25 4.765625 1.65625 C 4.367188 2.070312 3.757812 2.28125 2.9375 2.28125 Z M 4.421875 -2.90625 C 4.421875 -3.3125 4.375 -3.65625 4.28125 -3.9375 C 4.195312 -4.226562 4.082031 -4.460938 3.9375 -4.640625 C 3.789062 -4.828125 3.625 -4.960938 3.4375 -5.046875 C 3.257812 -5.140625 3.070312 -5.1875 2.875 -5.1875 C 2.632812 -5.1875 2.425781 -5.140625 2.25 -5.046875 C 2.070312 -4.960938 1.921875 -4.828125 1.796875 -4.640625 C 1.679688 -4.460938 1.597656 -4.226562 1.546875 -3.9375 C 1.492188 -3.644531 1.46875 -3.300781 1.46875 -2.90625 C 1.46875 -2.488281 1.492188 -2.132812 1.546875 -1.84375 C 1.597656 -1.5625 1.679688 -1.332031 1.796875 -1.15625 C 1.910156 -0.976562 2.054688 -0.851562 2.234375 -0.78125 C 2.410156 -0.707031 2.617188 -0.671875 2.859375 -0.671875 C 3.054688 -0.671875 3.242188 -0.710938 3.421875 -0.796875 C 3.609375 -0.878906 3.773438 -1.007812 3.921875 -1.1875 C 4.066406 -1.363281 4.1875 -1.59375 4.28125 -1.875 C 4.375 -2.15625 4.421875 -2.5 4.421875 -2.90625 Z M 4.421875 -2.90625 \"/>\n",
       "</symbol>\n",
       "<symbol overflow=\"visible\" id=\"glyph1-12\">\n",
       "<path style=\"stroke:none;\" d=\"M 1.703125 -4.8125 C 1.804688 -5.007812 1.921875 -5.175781 2.046875 -5.3125 C 2.171875 -5.457031 2.304688 -5.570312 2.453125 -5.65625 C 2.609375 -5.75 2.773438 -5.816406 2.953125 -5.859375 C 3.140625 -5.898438 3.34375 -5.921875 3.5625 -5.921875 C 3.9375 -5.921875 4.238281 -5.867188 4.46875 -5.765625 C 4.707031 -5.671875 4.894531 -5.53125 5.03125 -5.34375 C 5.175781 -5.164062 5.273438 -4.953125 5.328125 -4.703125 C 5.378906 -4.453125 5.40625 -4.175781 5.40625 -3.875 L 5.40625 0 L 4.4375 0 L 4.4375 -3.6875 C 4.4375 -3.9375 4.421875 -4.148438 4.390625 -4.328125 C 4.359375 -4.515625 4.296875 -4.671875 4.203125 -4.796875 C 4.117188 -4.921875 4 -5.015625 3.84375 -5.078125 C 3.6875 -5.140625 3.484375 -5.171875 3.234375 -5.171875 C 3.003906 -5.171875 2.796875 -5.128906 2.609375 -5.046875 C 2.429688 -4.960938 2.273438 -4.84375 2.140625 -4.6875 C 2.003906 -4.539062 1.898438 -4.359375 1.828125 -4.140625 C 1.765625 -3.929688 1.734375 -3.691406 1.734375 -3.421875 L 1.734375 0 L 0.765625 0 L 0.765625 -7.96875 L 1.734375 -7.96875 L 1.734375 -5.890625 C 1.734375 -5.773438 1.726562 -5.65625 1.71875 -5.53125 C 1.71875 -5.414062 1.710938 -5.304688 1.703125 -5.203125 C 1.703125 -5.109375 1.695312 -5.023438 1.6875 -4.953125 C 1.6875 -4.890625 1.6875 -4.84375 1.6875 -4.8125 Z M 1.703125 -4.8125 \"/>\n",
       "</symbol>\n",
       "<symbol overflow=\"visible\" id=\"glyph1-13\">\n",
       "<path style=\"stroke:none;\" d=\"M 5.109375 -1.609375 C 5.109375 -1.335938 5.050781 -1.09375 4.9375 -0.875 C 4.832031 -0.664062 4.679688 -0.488281 4.484375 -0.34375 C 4.285156 -0.195312 4.039062 -0.0820312 3.75 0 C 3.457031 0.0703125 3.125 0.109375 2.75 0.109375 C 2.40625 0.109375 2.097656 0.0820312 1.828125 0.03125 C 1.554688 -0.0195312 1.316406 -0.101562 1.109375 -0.21875 C 0.910156 -0.332031 0.742188 -0.484375 0.609375 -0.671875 C 0.472656 -0.859375 0.375 -1.085938 0.3125 -1.359375 L 1.15625 -1.53125 C 1.238281 -1.21875 1.410156 -0.988281 1.671875 -0.84375 C 1.929688 -0.695312 2.289062 -0.625 2.75 -0.625 C 2.957031 -0.625 3.144531 -0.640625 3.3125 -0.671875 C 3.488281 -0.703125 3.640625 -0.75 3.765625 -0.8125 C 3.890625 -0.882812 3.984375 -0.976562 4.046875 -1.09375 C 4.117188 -1.207031 4.15625 -1.351562 4.15625 -1.53125 C 4.15625 -1.707031 4.113281 -1.847656 4.03125 -1.953125 C 3.957031 -2.066406 3.84375 -2.160156 3.6875 -2.234375 C 3.539062 -2.316406 3.363281 -2.382812 3.15625 -2.4375 C 2.945312 -2.5 2.71875 -2.5625 2.46875 -2.625 C 2.238281 -2.6875 2.007812 -2.753906 1.78125 -2.828125 C 1.550781 -2.898438 1.34375 -3 1.15625 -3.125 C 0.96875 -3.25 0.816406 -3.398438 0.703125 -3.578125 C 0.585938 -3.765625 0.53125 -4 0.53125 -4.28125 C 0.53125 -4.8125 0.71875 -5.210938 1.09375 -5.484375 C 1.476562 -5.765625 2.03125 -5.90625 2.75 -5.90625 C 3.394531 -5.90625 3.90625 -5.789062 4.28125 -5.5625 C 4.65625 -5.332031 4.894531 -4.972656 5 -4.484375 L 4.125 -4.375 C 4.09375 -4.519531 4.035156 -4.644531 3.953125 -4.75 C 3.867188 -4.851562 3.765625 -4.9375 3.640625 -5 C 3.515625 -5.0625 3.375 -5.101562 3.21875 -5.125 C 3.070312 -5.15625 2.914062 -5.171875 2.75 -5.171875 C 2.3125 -5.171875 1.988281 -5.101562 1.78125 -4.96875 C 1.582031 -4.84375 1.484375 -4.644531 1.484375 -4.375 C 1.484375 -4.21875 1.519531 -4.085938 1.59375 -3.984375 C 1.664062 -3.878906 1.769531 -3.789062 1.90625 -3.71875 C 2.050781 -3.65625 2.21875 -3.597656 2.40625 -3.546875 C 2.601562 -3.492188 2.816406 -3.4375 3.046875 -3.375 C 3.203125 -3.332031 3.359375 -3.289062 3.515625 -3.25 C 3.679688 -3.207031 3.835938 -3.15625 3.984375 -3.09375 C 4.140625 -3.03125 4.285156 -2.957031 4.421875 -2.875 C 4.554688 -2.789062 4.671875 -2.6875 4.765625 -2.5625 C 4.867188 -2.445312 4.953125 -2.3125 5.015625 -2.15625 C 5.078125 -2 5.109375 -1.816406 5.109375 -1.609375 Z M 5.109375 -1.609375 \"/>\n",
       "</symbol>\n",
       "<symbol overflow=\"visible\" id=\"glyph2-0\">\n",
       "<path style=\"stroke:none;\" d=\"M 0 -0.359375 L -7.328125 -0.359375 L -7.328125 -3.28125 L 0 -3.28125 Z M -0.359375 -0.734375 L -0.359375 -2.921875 L -6.96875 -2.921875 L -6.96875 -0.734375 Z M -0.359375 -0.734375 \"/>\n",
       "</symbol>\n",
       "<symbol overflow=\"visible\" id=\"glyph2-1\">\n",
       "<path style=\"stroke:none;\" d=\"M 0 -6.265625 L -2.21875 -5.40625 L -2.21875 -1.953125 L 0 -1.078125 L 0 -0.015625 L -7.5625 -3.109375 L -7.5625 -4.28125 L 0 -7.3125 Z M -5.515625 -4.125 C -5.648438 -4.070312 -5.789062 -4.019531 -5.9375 -3.96875 C -6.09375 -3.914062 -6.226562 -3.867188 -6.34375 -3.828125 C -6.46875 -3.785156 -6.566406 -3.75 -6.640625 -3.71875 C -6.722656 -3.695312 -6.773438 -3.679688 -6.796875 -3.671875 C -6.773438 -3.671875 -6.722656 -3.65625 -6.640625 -3.625 C -6.554688 -3.601562 -6.453125 -3.570312 -6.328125 -3.53125 C -6.210938 -3.488281 -6.082031 -3.441406 -5.9375 -3.390625 C -5.789062 -3.335938 -5.644531 -3.285156 -5.5 -3.234375 L -3.015625 -2.265625 L -3.015625 -5.09375 Z M -5.515625 -4.125 \"/>\n",
       "</symbol>\n",
       "<symbol overflow=\"visible\" id=\"glyph2-2\">\n",
       "<path style=\"stroke:none;\" d=\"M -2.9375 -1.484375 C -2.601562 -1.484375 -2.296875 -1.503906 -2.015625 -1.546875 C -1.734375 -1.597656 -1.488281 -1.679688 -1.28125 -1.796875 C -1.082031 -1.910156 -0.925781 -2.0625 -0.8125 -2.25 C -0.707031 -2.4375 -0.65625 -2.664062 -0.65625 -2.9375 C -0.65625 -3.28125 -0.75 -3.566406 -0.9375 -3.796875 C -1.125 -4.035156 -1.410156 -4.179688 -1.796875 -4.234375 L -1.734375 -5.203125 C -1.492188 -5.171875 -1.257812 -5.101562 -1.03125 -5 C -0.8125 -4.894531 -0.617188 -4.75 -0.453125 -4.5625 C -0.285156 -4.375 -0.148438 -4.144531 -0.046875 -3.875 C 0.0546875 -3.613281 0.109375 -3.3125 0.109375 -2.96875 C 0.109375 -2.507812 0.03125 -2.117188 -0.125 -1.796875 C -0.28125 -1.484375 -0.492188 -1.226562 -0.765625 -1.03125 C -1.035156 -0.832031 -1.351562 -0.6875 -1.71875 -0.59375 C -2.082031 -0.507812 -2.476562 -0.46875 -2.90625 -0.46875 C -3.300781 -0.46875 -3.644531 -0.5 -3.9375 -0.5625 C -4.238281 -0.625 -4.5 -0.710938 -4.71875 -0.828125 C -4.945312 -0.953125 -5.132812 -1.09375 -5.28125 -1.25 C -5.4375 -1.40625 -5.5625 -1.570312 -5.65625 -1.75 C -5.75 -1.9375 -5.816406 -2.128906 -5.859375 -2.328125 C -5.898438 -2.535156 -5.921875 -2.742188 -5.921875 -2.953125 C -5.921875 -3.285156 -5.875 -3.578125 -5.78125 -3.828125 C -5.695312 -4.085938 -5.578125 -4.304688 -5.421875 -4.484375 C -5.265625 -4.671875 -5.078125 -4.820312 -4.859375 -4.9375 C -4.648438 -5.050781 -4.425781 -5.128906 -4.1875 -5.171875 L -4.109375 -4.1875 C -4.429688 -4.132812 -4.6875 -4.003906 -4.875 -3.796875 C -5.0625 -3.597656 -5.15625 -3.3125 -5.15625 -2.9375 C -5.15625 -2.65625 -5.109375 -2.421875 -5.015625 -2.234375 C -4.929688 -2.054688 -4.796875 -1.910156 -4.609375 -1.796875 C -4.421875 -1.679688 -4.1875 -1.597656 -3.90625 -1.546875 C -3.632812 -1.503906 -3.3125 -1.484375 -2.9375 -1.484375 Z M -2.9375 -1.484375 \"/>\n",
       "</symbol>\n",
       "<symbol overflow=\"visible\" id=\"glyph2-3\">\n",
       "<path style=\"stroke:none;\" d=\"M -5.8125 -1.6875 L -2.125 -1.6875 C -1.84375 -1.6875 -1.609375 -1.707031 -1.421875 -1.75 C -1.234375 -1.789062 -1.078125 -1.859375 -0.953125 -1.953125 C -0.835938 -2.046875 -0.753906 -2.164062 -0.703125 -2.3125 C -0.660156 -2.46875 -0.640625 -2.660156 -0.640625 -2.890625 C -0.640625 -3.117188 -0.675781 -3.320312 -0.75 -3.5 C -0.832031 -3.6875 -0.953125 -3.84375 -1.109375 -3.96875 C -1.265625 -4.101562 -1.453125 -4.207031 -1.671875 -4.28125 C -1.898438 -4.351562 -2.15625 -4.390625 -2.4375 -4.390625 L -5.8125 -4.390625 L -5.8125 -5.359375 L -1.234375 -5.359375 C -1.117188 -5.359375 -0.992188 -5.359375 -0.859375 -5.359375 C -0.722656 -5.359375 -0.59375 -5.359375 -0.46875 -5.359375 C -0.351562 -5.367188 -0.25 -5.375 -0.15625 -5.375 C -0.0703125 -5.375 -0.0195312 -5.378906 0 -5.390625 L 0 -4.46875 C -0.0195312 -4.46875 -0.0664062 -4.460938 -0.140625 -4.453125 C -0.222656 -4.453125 -0.3125 -4.445312 -0.40625 -4.4375 C -0.507812 -4.4375 -0.613281 -4.4375 -0.71875 -4.4375 C -0.832031 -4.4375 -0.925781 -4.4375 -1 -4.4375 L -1 -4.421875 C -0.820312 -4.328125 -0.664062 -4.222656 -0.53125 -4.109375 C -0.394531 -3.992188 -0.28125 -3.863281 -0.1875 -3.71875 C -0.09375 -3.570312 -0.0195312 -3.40625 0.03125 -3.21875 C 0.0820312 -3.03125 0.109375 -2.8125 0.109375 -2.5625 C 0.109375 -2.238281 0.0703125 -1.957031 0 -1.71875 C -0.0820312 -1.488281 -0.207031 -1.296875 -0.375 -1.140625 C -0.539062 -0.992188 -0.75 -0.882812 -1 -0.8125 C -1.257812 -0.75 -1.570312 -0.71875 -1.9375 -0.71875 L -5.8125 -0.71875 Z M -5.8125 -1.6875 \"/>\n",
       "</symbol>\n",
       "<symbol overflow=\"visible\" id=\"glyph2-4\">\n",
       "<path style=\"stroke:none;\" d=\"M 0 -0.765625 L -4.453125 -0.765625 C -4.578125 -0.765625 -4.703125 -0.757812 -4.828125 -0.75 C -4.953125 -0.75 -5.070312 -0.75 -5.1875 -0.75 C -5.3125 -0.75 -5.425781 -0.742188 -5.53125 -0.734375 C -5.632812 -0.734375 -5.726562 -0.734375 -5.8125 -0.734375 L -5.8125 -1.640625 C -5.726562 -1.648438 -5.632812 -1.65625 -5.53125 -1.65625 C -5.425781 -1.664062 -5.316406 -1.671875 -5.203125 -1.671875 C -5.085938 -1.679688 -4.976562 -1.6875 -4.875 -1.6875 C -4.78125 -1.6875 -4.695312 -1.6875 -4.625 -1.6875 L -4.625 -1.703125 C -4.84375 -1.773438 -5.035156 -1.847656 -5.203125 -1.921875 C -5.367188 -2.003906 -5.503906 -2.097656 -5.609375 -2.203125 C -5.710938 -2.304688 -5.789062 -2.425781 -5.84375 -2.5625 C -5.894531 -2.707031 -5.921875 -2.882812 -5.921875 -3.09375 C -5.921875 -3.164062 -5.910156 -3.238281 -5.890625 -3.3125 C -5.878906 -3.382812 -5.867188 -3.441406 -5.859375 -3.484375 L -4.984375 -3.484375 C -4.992188 -3.421875 -5.003906 -3.34375 -5.015625 -3.25 C -5.023438 -3.164062 -5.03125 -3.070312 -5.03125 -2.96875 C -5.03125 -2.738281 -4.976562 -2.546875 -4.875 -2.390625 C -4.78125 -2.242188 -4.644531 -2.117188 -4.46875 -2.015625 C -4.289062 -1.921875 -4.078125 -1.847656 -3.828125 -1.796875 C -3.585938 -1.753906 -3.320312 -1.734375 -3.03125 -1.734375 L 0 -1.734375 Z M 0 -0.765625 \"/>\n",
       "</symbol>\n",
       "<symbol overflow=\"visible\" id=\"glyph2-5\">\n",
       "<path style=\"stroke:none;\" d=\"M 0.109375 -2.21875 C 0.109375 -1.632812 -0.0390625 -1.195312 -0.34375 -0.90625 C -0.65625 -0.613281 -1.082031 -0.46875 -1.625 -0.46875 C -2.007812 -0.46875 -2.320312 -0.539062 -2.5625 -0.6875 C -2.8125 -0.832031 -3.003906 -1.019531 -3.140625 -1.25 C -3.285156 -1.488281 -3.382812 -1.757812 -3.4375 -2.0625 C -3.488281 -2.363281 -3.519531 -2.664062 -3.53125 -2.96875 L -3.546875 -4.28125 L -3.859375 -4.28125 C -4.097656 -4.28125 -4.300781 -4.253906 -4.46875 -4.203125 C -4.644531 -4.148438 -4.78125 -4.070312 -4.875 -3.96875 C -4.976562 -3.863281 -5.054688 -3.734375 -5.109375 -3.578125 C -5.160156 -3.429688 -5.1875 -3.25 -5.1875 -3.03125 C -5.1875 -2.84375 -5.171875 -2.671875 -5.140625 -2.515625 C -5.117188 -2.367188 -5.070312 -2.238281 -5 -2.125 C -4.925781 -2.019531 -4.828125 -1.929688 -4.703125 -1.859375 C -4.585938 -1.796875 -4.441406 -1.753906 -4.265625 -1.734375 L -4.34375 -0.71875 C -4.570312 -0.757812 -4.78125 -0.828125 -4.96875 -0.921875 C -5.164062 -1.023438 -5.332031 -1.171875 -5.46875 -1.359375 C -5.613281 -1.546875 -5.722656 -1.773438 -5.796875 -2.046875 C -5.878906 -2.328125 -5.921875 -2.664062 -5.921875 -3.0625 C -5.921875 -3.789062 -5.753906 -4.335938 -5.421875 -4.703125 C -5.085938 -5.078125 -4.601562 -5.265625 -3.96875 -5.265625 L -1.46875 -5.265625 C -1.175781 -5.265625 -0.957031 -5.300781 -0.8125 -5.375 C -0.664062 -5.445312 -0.59375 -5.585938 -0.59375 -5.796875 C -0.59375 -5.847656 -0.597656 -5.898438 -0.609375 -5.953125 C -0.617188 -6.015625 -0.628906 -6.070312 -0.640625 -6.125 L -0.03125 -6.125 C 0 -6 0.0195312 -5.875 0.03125 -5.75 C 0.0390625 -5.632812 0.046875 -5.507812 0.046875 -5.375 C 0.046875 -5.1875 0.0234375 -5.023438 -0.015625 -4.890625 C -0.0664062 -4.765625 -0.140625 -4.660156 -0.234375 -4.578125 C -0.335938 -4.492188 -0.460938 -4.429688 -0.609375 -4.390625 C -0.753906 -4.347656 -0.921875 -4.320312 -1.109375 -4.3125 L -1.109375 -4.28125 C -0.921875 -4.175781 -0.75 -4.0625 -0.59375 -3.9375 C -0.445312 -3.8125 -0.320312 -3.664062 -0.21875 -3.5 C -0.113281 -3.34375 -0.0351562 -3.15625 0.015625 -2.9375 C 0.078125 -2.726562 0.109375 -2.488281 0.109375 -2.21875 Z M -0.625 -2.4375 C -0.625 -2.75 -0.675781 -3.019531 -0.78125 -3.25 C -0.894531 -3.476562 -1.039062 -3.671875 -1.21875 -3.828125 C -1.394531 -3.984375 -1.585938 -4.097656 -1.796875 -4.171875 C -2.003906 -4.242188 -2.203125 -4.28125 -2.390625 -4.28125 L -2.875 -4.28125 L -2.84375 -3.21875 C -2.84375 -2.988281 -2.828125 -2.765625 -2.796875 -2.546875 C -2.765625 -2.335938 -2.703125 -2.148438 -2.609375 -1.984375 C -2.523438 -1.828125 -2.398438 -1.703125 -2.234375 -1.609375 C -2.078125 -1.515625 -1.867188 -1.46875 -1.609375 -1.46875 C -1.296875 -1.46875 -1.050781 -1.550781 -0.875 -1.71875 C -0.707031 -1.882812 -0.625 -2.125 -0.625 -2.4375 Z M -0.625 -2.4375 \"/>\n",
       "</symbol>\n",
       "<symbol overflow=\"visible\" id=\"glyph2-6\">\n",
       "<path style=\"stroke:none;\" d=\"M 0 -3.25 C 0.351562 -3.113281 0.671875 -2.972656 0.953125 -2.828125 C 1.234375 -2.679688 1.472656 -2.519531 1.671875 -2.34375 C 1.867188 -2.175781 2.019531 -1.984375 2.125 -1.765625 C 2.226562 -1.546875 2.28125 -1.300781 2.28125 -1.03125 C 2.28125 -0.90625 2.273438 -0.789062 2.265625 -0.6875 C 2.265625 -0.582031 2.25 -0.472656 2.21875 -0.359375 L 1.5 -0.359375 C 1.507812 -0.429688 1.515625 -0.507812 1.515625 -0.59375 C 1.523438 -0.675781 1.53125 -0.75 1.53125 -0.8125 C 1.53125 -1.09375 1.421875 -1.351562 1.203125 -1.59375 C 0.992188 -1.84375 0.660156 -2.054688 0.203125 -2.234375 L -0.03125 -2.328125 L -5.8125 -0.03125 L -5.8125 -1.0625 L -2.59375 -2.28125 C -2.5 -2.320312 -2.367188 -2.367188 -2.203125 -2.421875 C -2.046875 -2.472656 -1.882812 -2.523438 -1.71875 -2.578125 C -1.5625 -2.640625 -1.414062 -2.691406 -1.28125 -2.734375 C -1.15625 -2.773438 -1.078125 -2.800781 -1.046875 -2.8125 C -1.085938 -2.820312 -1.164062 -2.847656 -1.28125 -2.890625 C -1.40625 -2.929688 -1.535156 -2.976562 -1.671875 -3.03125 C -1.816406 -3.082031 -1.960938 -3.132812 -2.109375 -3.1875 C -2.253906 -3.238281 -2.382812 -3.28125 -2.5 -3.3125 L -5.8125 -4.453125 L -5.8125 -5.484375 Z M 0 -3.25 \"/>\n",
       "</symbol>\n",
       "<symbol overflow=\"visible\" id=\"glyph2-7\">\n",
       "<path style=\"stroke:none;\" d=\"\"/>\n",
       "</symbol>\n",
       "<symbol overflow=\"visible\" id=\"glyph2-8\">\n",
       "<path style=\"stroke:none;\" d=\"M 0 -0.90625 L -7.5625 -0.90625 L -7.5625 -6.640625 L -6.734375 -6.640625 L -6.734375 -1.921875 L -4.296875 -1.921875 L -4.296875 -6.328125 L -3.46875 -6.328125 L -3.46875 -1.921875 L -0.84375 -1.921875 L -0.84375 -6.859375 L 0 -6.859375 Z M 0 -0.90625 \"/>\n",
       "</symbol>\n",
       "<symbol overflow=\"visible\" id=\"glyph2-9\">\n",
       "<path style=\"stroke:none;\" d=\"M -1.609375 -5.109375 C -1.335938 -5.109375 -1.09375 -5.050781 -0.875 -4.9375 C -0.664062 -4.832031 -0.488281 -4.679688 -0.34375 -4.484375 C -0.195312 -4.285156 -0.0820312 -4.039062 0 -3.75 C 0.0703125 -3.457031 0.109375 -3.125 0.109375 -2.75 C 0.109375 -2.40625 0.0820312 -2.097656 0.03125 -1.828125 C -0.0195312 -1.554688 -0.101562 -1.316406 -0.21875 -1.109375 C -0.332031 -0.910156 -0.484375 -0.742188 -0.671875 -0.609375 C -0.859375 -0.472656 -1.085938 -0.375 -1.359375 -0.3125 L -1.53125 -1.15625 C -1.21875 -1.238281 -0.988281 -1.410156 -0.84375 -1.671875 C -0.695312 -1.929688 -0.625 -2.289062 -0.625 -2.75 C -0.625 -2.957031 -0.640625 -3.144531 -0.671875 -3.3125 C -0.703125 -3.488281 -0.75 -3.640625 -0.8125 -3.765625 C -0.882812 -3.890625 -0.976562 -3.984375 -1.09375 -4.046875 C -1.207031 -4.117188 -1.351562 -4.15625 -1.53125 -4.15625 C -1.707031 -4.15625 -1.847656 -4.113281 -1.953125 -4.03125 C -2.066406 -3.957031 -2.160156 -3.84375 -2.234375 -3.6875 C -2.316406 -3.539062 -2.382812 -3.363281 -2.4375 -3.15625 C -2.5 -2.945312 -2.5625 -2.71875 -2.625 -2.46875 C -2.6875 -2.238281 -2.753906 -2.007812 -2.828125 -1.78125 C -2.898438 -1.550781 -3 -1.34375 -3.125 -1.15625 C -3.25 -0.96875 -3.398438 -0.816406 -3.578125 -0.703125 C -3.765625 -0.585938 -4 -0.53125 -4.28125 -0.53125 C -4.8125 -0.53125 -5.210938 -0.71875 -5.484375 -1.09375 C -5.765625 -1.476562 -5.90625 -2.03125 -5.90625 -2.75 C -5.90625 -3.394531 -5.789062 -3.90625 -5.5625 -4.28125 C -5.332031 -4.65625 -4.972656 -4.894531 -4.484375 -5 L -4.375 -4.125 C -4.519531 -4.09375 -4.644531 -4.035156 -4.75 -3.953125 C -4.851562 -3.867188 -4.9375 -3.765625 -5 -3.640625 C -5.0625 -3.515625 -5.101562 -3.375 -5.125 -3.21875 C -5.15625 -3.070312 -5.171875 -2.914062 -5.171875 -2.75 C -5.171875 -2.3125 -5.101562 -1.988281 -4.96875 -1.78125 C -4.84375 -1.582031 -4.644531 -1.484375 -4.375 -1.484375 C -4.21875 -1.484375 -4.085938 -1.519531 -3.984375 -1.59375 C -3.878906 -1.664062 -3.789062 -1.769531 -3.71875 -1.90625 C -3.65625 -2.050781 -3.597656 -2.21875 -3.546875 -2.40625 C -3.492188 -2.601562 -3.4375 -2.816406 -3.375 -3.046875 C -3.332031 -3.203125 -3.289062 -3.359375 -3.25 -3.515625 C -3.207031 -3.679688 -3.15625 -3.835938 -3.09375 -3.984375 C -3.03125 -4.140625 -2.957031 -4.285156 -2.875 -4.421875 C -2.789062 -4.554688 -2.6875 -4.671875 -2.5625 -4.765625 C -2.445312 -4.867188 -2.3125 -4.953125 -2.15625 -5.015625 C -2 -5.078125 -1.816406 -5.109375 -1.609375 -5.109375 Z M -1.609375 -5.109375 \"/>\n",
       "</symbol>\n",
       "<symbol overflow=\"visible\" id=\"glyph2-10\">\n",
       "<path style=\"stroke:none;\" d=\"M -0.046875 -2.96875 C -0.00390625 -2.820312 0.0234375 -2.671875 0.046875 -2.515625 C 0.078125 -2.367188 0.09375 -2.195312 0.09375 -2 C 0.09375 -1.226562 -0.347656 -0.84375 -1.234375 -0.84375 L -5.109375 -0.84375 L -5.109375 -0.171875 L -5.8125 -0.171875 L -5.8125 -0.875 L -7.109375 -1.15625 L -7.109375 -1.8125 L -5.8125 -1.8125 L -5.8125 -2.875 L -5.109375 -2.875 L -5.109375 -1.8125 L -1.4375 -1.8125 C -1.15625 -1.8125 -0.957031 -1.851562 -0.84375 -1.9375 C -0.738281 -2.03125 -0.6875 -2.191406 -0.6875 -2.421875 C -0.6875 -2.515625 -0.691406 -2.601562 -0.703125 -2.6875 C -0.710938 -2.769531 -0.726562 -2.863281 -0.75 -2.96875 Z M -0.046875 -2.96875 \"/>\n",
       "</symbol>\n",
       "<symbol overflow=\"visible\" id=\"glyph2-11\">\n",
       "<path style=\"stroke:none;\" d=\"M -7.046875 -0.734375 L -7.96875 -0.734375 L -7.96875 -1.703125 L -7.046875 -1.703125 Z M 0 -0.734375 L -5.8125 -0.734375 L -5.8125 -1.703125 L 0 -1.703125 Z M 0 -0.734375 \"/>\n",
       "</symbol>\n",
       "<symbol overflow=\"visible\" id=\"glyph2-12\">\n",
       "<path style=\"stroke:none;\" d=\"M 0 -4.125 L -3.6875 -4.125 C -3.96875 -4.125 -4.203125 -4.101562 -4.390625 -4.0625 C -4.578125 -4.03125 -4.726562 -3.972656 -4.84375 -3.890625 C -4.96875 -3.804688 -5.050781 -3.695312 -5.09375 -3.5625 C -5.144531 -3.425781 -5.171875 -3.257812 -5.171875 -3.0625 C -5.171875 -2.851562 -5.128906 -2.664062 -5.046875 -2.5 C -4.972656 -2.34375 -4.859375 -2.203125 -4.703125 -2.078125 C -4.546875 -1.960938 -4.351562 -1.875 -4.125 -1.8125 C -3.90625 -1.75 -3.65625 -1.71875 -3.375 -1.71875 L 0 -1.71875 L 0 -0.765625 L -4.578125 -0.765625 C -4.691406 -0.765625 -4.816406 -0.757812 -4.953125 -0.75 C -5.085938 -0.75 -5.210938 -0.75 -5.328125 -0.75 C -5.453125 -0.75 -5.554688 -0.742188 -5.640625 -0.734375 C -5.734375 -0.734375 -5.789062 -0.734375 -5.8125 -0.734375 L -5.8125 -1.640625 C -5.789062 -1.648438 -5.738281 -1.65625 -5.65625 -1.65625 C -5.582031 -1.65625 -5.492188 -1.65625 -5.390625 -1.65625 C -5.296875 -1.664062 -5.191406 -1.671875 -5.078125 -1.671875 C -4.972656 -1.679688 -4.882812 -1.6875 -4.8125 -1.6875 L -4.8125 -1.703125 C -4.988281 -1.785156 -5.144531 -1.875 -5.28125 -1.96875 C -5.414062 -2.070312 -5.53125 -2.191406 -5.625 -2.328125 C -5.71875 -2.460938 -5.789062 -2.617188 -5.84375 -2.796875 C -5.894531 -2.972656 -5.921875 -3.175781 -5.921875 -3.40625 C -5.921875 -3.84375 -5.832031 -4.1875 -5.65625 -4.4375 C -5.476562 -4.695312 -5.195312 -4.878906 -4.8125 -4.984375 L -4.8125 -5 C -4.988281 -5.082031 -5.144531 -5.175781 -5.28125 -5.28125 C -5.414062 -5.394531 -5.53125 -5.519531 -5.625 -5.65625 C -5.71875 -5.800781 -5.789062 -5.960938 -5.84375 -6.140625 C -5.894531 -6.316406 -5.921875 -6.519531 -5.921875 -6.75 C -5.921875 -7.050781 -5.878906 -7.304688 -5.796875 -7.515625 C -5.722656 -7.734375 -5.601562 -7.910156 -5.4375 -8.046875 C -5.269531 -8.179688 -5.054688 -8.28125 -4.796875 -8.34375 C -4.535156 -8.40625 -4.226562 -8.4375 -3.875 -8.4375 L 0 -8.4375 L 0 -7.484375 L -3.6875 -7.484375 C -3.96875 -7.484375 -4.203125 -7.460938 -4.390625 -7.421875 C -4.578125 -7.390625 -4.726562 -7.332031 -4.84375 -7.25 C -4.96875 -7.164062 -5.050781 -7.054688 -5.09375 -6.921875 C -5.144531 -6.785156 -5.171875 -6.617188 -5.171875 -6.421875 C -5.171875 -6.210938 -5.128906 -6.023438 -5.046875 -5.859375 C -4.972656 -5.703125 -4.859375 -5.5625 -4.703125 -5.4375 C -4.554688 -5.320312 -4.367188 -5.234375 -4.140625 -5.171875 C -3.921875 -5.109375 -3.664062 -5.078125 -3.375 -5.078125 L 0 -5.078125 Z M 0 -4.125 \"/>\n",
       "</symbol>\n",
       "<symbol overflow=\"visible\" id=\"glyph2-13\">\n",
       "<path style=\"stroke:none;\" d=\"M -2.703125 -1.484375 C -2.398438 -1.484375 -2.117188 -1.515625 -1.859375 -1.578125 C -1.609375 -1.640625 -1.390625 -1.734375 -1.203125 -1.859375 C -1.015625 -1.992188 -0.867188 -2.160156 -0.765625 -2.359375 C -0.671875 -2.566406 -0.625 -2.816406 -0.625 -3.109375 C -0.625 -3.523438 -0.707031 -3.859375 -0.875 -4.109375 C -1.039062 -4.359375 -1.253906 -4.53125 -1.515625 -4.625 L -1.265625 -5.46875 C -1.109375 -5.40625 -0.945312 -5.316406 -0.78125 -5.203125 C -0.613281 -5.097656 -0.460938 -4.953125 -0.328125 -4.765625 C -0.203125 -4.585938 -0.0976562 -4.363281 -0.015625 -4.09375 C 0.0664062 -3.820312 0.109375 -3.492188 0.109375 -3.109375 C 0.109375 -2.242188 -0.144531 -1.585938 -0.65625 -1.140625 C -1.164062 -0.691406 -1.925781 -0.46875 -2.9375 -0.46875 C -3.488281 -0.46875 -3.953125 -0.535156 -4.328125 -0.671875 C -4.703125 -0.804688 -5.007812 -0.988281 -5.25 -1.21875 C -5.488281 -1.457031 -5.660156 -1.734375 -5.765625 -2.046875 C -5.867188 -2.367188 -5.921875 -2.707031 -5.921875 -3.0625 C -5.921875 -3.550781 -5.84375 -3.957031 -5.6875 -4.28125 C -5.53125 -4.613281 -5.3125 -4.878906 -5.03125 -5.078125 C -4.75 -5.273438 -4.421875 -5.414062 -4.046875 -5.5 C -3.671875 -5.582031 -3.265625 -5.625 -2.828125 -5.625 L -2.703125 -5.625 Z M -3.4375 -4.625 C -4.050781 -4.570312 -4.5 -4.414062 -4.78125 -4.15625 C -5.0625 -3.90625 -5.203125 -3.535156 -5.203125 -3.046875 C -5.203125 -2.890625 -5.175781 -2.722656 -5.125 -2.546875 C -5.070312 -2.367188 -4.976562 -2.203125 -4.84375 -2.046875 C -4.71875 -1.898438 -4.539062 -1.773438 -4.3125 -1.671875 C -4.082031 -1.566406 -3.789062 -1.507812 -3.4375 -1.5 Z M -3.4375 -4.625 \"/>\n",
       "</symbol>\n",
       "<symbol overflow=\"visible\" id=\"glyph2-14\">\n",
       "<path style=\"stroke:none;\" d=\"M -2.9375 -5.65625 C -2.488281 -5.65625 -2.078125 -5.617188 -1.703125 -5.546875 C -1.335938 -5.472656 -1.019531 -5.351562 -0.75 -5.1875 C -0.476562 -5.019531 -0.265625 -4.800781 -0.109375 -4.53125 C 0.0351562 -4.257812 0.109375 -3.921875 0.109375 -3.515625 C 0.109375 -3.097656 0.03125 -2.734375 -0.125 -2.421875 C -0.28125 -2.109375 -0.539062 -1.875 -0.90625 -1.71875 L -0.90625 -1.6875 C -0.894531 -1.6875 -0.859375 -1.6875 -0.796875 -1.6875 C -0.742188 -1.695312 -0.675781 -1.703125 -0.59375 -1.703125 C -0.507812 -1.703125 -0.410156 -1.703125 -0.296875 -1.703125 C -0.191406 -1.703125 -0.0859375 -1.703125 0.015625 -1.703125 L 2.28125 -1.703125 L 2.28125 -0.734375 L -4.625 -0.734375 C -4.757812 -0.734375 -4.890625 -0.734375 -5.015625 -0.734375 C -5.148438 -0.734375 -5.269531 -0.726562 -5.375 -0.71875 C -5.476562 -0.71875 -5.566406 -0.71875 -5.640625 -0.71875 C -5.722656 -0.71875 -5.78125 -0.710938 -5.8125 -0.703125 L -5.8125 -1.640625 C -5.800781 -1.648438 -5.765625 -1.65625 -5.703125 -1.65625 C -5.640625 -1.664062 -5.5625 -1.671875 -5.46875 -1.671875 C -5.375 -1.679688 -5.273438 -1.6875 -5.171875 -1.6875 C -5.066406 -1.695312 -4.96875 -1.703125 -4.875 -1.703125 L -4.875 -1.71875 C -5.0625 -1.8125 -5.21875 -1.914062 -5.34375 -2.03125 C -5.476562 -2.144531 -5.585938 -2.273438 -5.671875 -2.421875 C -5.753906 -2.566406 -5.8125 -2.726562 -5.84375 -2.90625 C -5.882812 -3.09375 -5.90625 -3.296875 -5.90625 -3.515625 C -5.90625 -3.921875 -5.832031 -4.257812 -5.6875 -4.53125 C -5.550781 -4.800781 -5.351562 -5.019531 -5.09375 -5.1875 C -4.832031 -5.351562 -4.519531 -5.472656 -4.15625 -5.546875 C -3.789062 -5.617188 -3.382812 -5.65625 -2.9375 -5.65625 Z M -2.90625 -4.640625 C -3.269531 -4.640625 -3.585938 -4.617188 -3.859375 -4.578125 C -4.140625 -4.535156 -4.375 -4.457031 -4.5625 -4.34375 C -4.757812 -4.238281 -4.910156 -4.097656 -5.015625 -3.921875 C -5.117188 -3.753906 -5.171875 -3.535156 -5.171875 -3.265625 C -5.171875 -3.054688 -5.140625 -2.851562 -5.078125 -2.65625 C -5.015625 -2.46875 -4.894531 -2.300781 -4.71875 -2.15625 C -4.550781 -2.019531 -4.316406 -1.910156 -4.015625 -1.828125 C -3.710938 -1.742188 -3.320312 -1.703125 -2.84375 -1.703125 C -2.425781 -1.703125 -2.070312 -1.734375 -1.78125 -1.796875 C -1.5 -1.867188 -1.269531 -1.96875 -1.09375 -2.09375 C -0.925781 -2.226562 -0.800781 -2.394531 -0.71875 -2.59375 C -0.644531 -2.789062 -0.609375 -3.015625 -0.609375 -3.265625 C -0.609375 -3.523438 -0.660156 -3.742188 -0.765625 -3.921875 C -0.867188 -4.097656 -1.019531 -4.238281 -1.21875 -4.34375 C -1.414062 -4.457031 -1.65625 -4.535156 -1.9375 -4.578125 C -2.21875 -4.617188 -2.539062 -4.640625 -2.90625 -4.640625 Z M -2.90625 -4.640625 \"/>\n",
       "</symbol>\n",
       "<symbol overflow=\"visible\" id=\"glyph2-15\">\n",
       "<path style=\"stroke:none;\" d=\"M 0 -5.8125 L -6.453125 -1.765625 C -6.273438 -1.765625 -6.097656 -1.769531 -5.921875 -1.78125 C -5.773438 -1.789062 -5.617188 -1.796875 -5.453125 -1.796875 C -5.296875 -1.804688 -5.15625 -1.8125 -5.03125 -1.8125 L 0 -1.8125 L 0 -0.90625 L -7.5625 -0.90625 L -7.5625 -2.09375 L -1.078125 -6.1875 C -1.253906 -6.175781 -1.429688 -6.164062 -1.609375 -6.15625 C -1.753906 -6.144531 -1.914062 -6.132812 -2.09375 -6.125 C -2.269531 -6.125 -2.441406 -6.125 -2.609375 -6.125 L -7.5625 -6.125 L -7.5625 -7.046875 L 0 -7.046875 Z M 0 -5.8125 \"/>\n",
       "</symbol>\n",
       "<symbol overflow=\"visible\" id=\"glyph2-16\">\n",
       "<path style=\"stroke:none;\" d=\"M 2.28125 -2.9375 C 2.28125 -2.601562 2.242188 -2.304688 2.171875 -2.046875 C 2.109375 -1.796875 2.015625 -1.578125 1.890625 -1.390625 C 1.765625 -1.210938 1.613281 -1.066406 1.4375 -0.953125 C 1.257812 -0.835938 1.0625 -0.753906 0.84375 -0.703125 L 0.703125 -1.671875 C 0.972656 -1.734375 1.179688 -1.875 1.328125 -2.09375 C 1.472656 -2.320312 1.546875 -2.613281 1.546875 -2.96875 C 1.546875 -3.1875 1.515625 -3.382812 1.453125 -3.5625 C 1.390625 -3.738281 1.289062 -3.890625 1.15625 -4.015625 C 1.03125 -4.148438 0.859375 -4.25 0.640625 -4.3125 C 0.421875 -4.382812 0.160156 -4.421875 -0.140625 -4.421875 L -1.078125 -4.421875 L -1.078125 -4.40625 C -0.929688 -4.332031 -0.789062 -4.242188 -0.65625 -4.140625 C -0.519531 -4.035156 -0.398438 -3.90625 -0.296875 -3.75 C -0.191406 -3.601562 -0.109375 -3.425781 -0.046875 -3.21875 C 0.015625 -3.019531 0.046875 -2.789062 0.046875 -2.53125 C 0.046875 -2.164062 -0.015625 -1.847656 -0.140625 -1.578125 C -0.265625 -1.316406 -0.445312 -1.101562 -0.6875 -0.9375 C -0.9375 -0.769531 -1.242188 -0.648438 -1.609375 -0.578125 C -1.984375 -0.503906 -2.410156 -0.46875 -2.890625 -0.46875 C -3.359375 -0.46875 -3.773438 -0.503906 -4.140625 -0.578125 C -4.515625 -0.648438 -4.832031 -0.773438 -5.09375 -0.953125 C -5.351562 -1.128906 -5.550781 -1.351562 -5.6875 -1.625 C -5.832031 -1.90625 -5.90625 -2.242188 -5.90625 -2.640625 C -5.90625 -3.054688 -5.8125 -3.414062 -5.625 -3.71875 C -5.4375 -4.019531 -5.164062 -4.253906 -4.8125 -4.421875 C -4.90625 -4.421875 -5.003906 -4.421875 -5.109375 -4.421875 C -5.222656 -4.429688 -5.328125 -4.4375 -5.421875 -4.4375 C -5.523438 -4.445312 -5.613281 -4.457031 -5.6875 -4.46875 C -5.757812 -4.476562 -5.800781 -4.484375 -5.8125 -4.484375 L -5.8125 -5.40625 C -5.78125 -5.40625 -5.722656 -5.398438 -5.640625 -5.390625 C -5.566406 -5.390625 -5.472656 -5.382812 -5.359375 -5.375 C -5.253906 -5.375 -5.132812 -5.375 -5 -5.375 C -4.875 -5.375 -4.742188 -5.375 -4.609375 -5.375 L -0.171875 -5.375 C 0.640625 -5.375 1.25 -5.171875 1.65625 -4.765625 C 2.070312 -4.367188 2.28125 -3.757812 2.28125 -2.9375 Z M -2.90625 -4.421875 C -3.3125 -4.421875 -3.65625 -4.375 -3.9375 -4.28125 C -4.226562 -4.195312 -4.460938 -4.082031 -4.640625 -3.9375 C -4.828125 -3.789062 -4.960938 -3.625 -5.046875 -3.4375 C -5.140625 -3.257812 -5.1875 -3.070312 -5.1875 -2.875 C -5.1875 -2.632812 -5.140625 -2.425781 -5.046875 -2.25 C -4.960938 -2.070312 -4.828125 -1.921875 -4.640625 -1.796875 C -4.460938 -1.679688 -4.226562 -1.597656 -3.9375 -1.546875 C -3.644531 -1.492188 -3.300781 -1.46875 -2.90625 -1.46875 C -2.488281 -1.46875 -2.132812 -1.492188 -1.84375 -1.546875 C -1.5625 -1.597656 -1.332031 -1.679688 -1.15625 -1.796875 C -0.976562 -1.910156 -0.851562 -2.054688 -0.78125 -2.234375 C -0.707031 -2.410156 -0.671875 -2.617188 -0.671875 -2.859375 C -0.671875 -3.054688 -0.710938 -3.242188 -0.796875 -3.421875 C -0.878906 -3.609375 -1.007812 -3.773438 -1.1875 -3.921875 C -1.363281 -4.066406 -1.59375 -4.1875 -1.875 -4.28125 C -2.15625 -4.375 -2.5 -4.421875 -2.90625 -4.421875 Z M -2.90625 -4.421875 \"/>\n",
       "</symbol>\n",
       "<symbol overflow=\"visible\" id=\"glyph2-17\">\n",
       "<path style=\"stroke:none;\" d=\"M -4.8125 -1.703125 C -5.007812 -1.804688 -5.175781 -1.921875 -5.3125 -2.046875 C -5.457031 -2.171875 -5.570312 -2.304688 -5.65625 -2.453125 C -5.75 -2.609375 -5.816406 -2.773438 -5.859375 -2.953125 C -5.898438 -3.140625 -5.921875 -3.34375 -5.921875 -3.5625 C -5.921875 -3.9375 -5.867188 -4.238281 -5.765625 -4.46875 C -5.671875 -4.707031 -5.53125 -4.894531 -5.34375 -5.03125 C -5.164062 -5.175781 -4.953125 -5.273438 -4.703125 -5.328125 C -4.453125 -5.378906 -4.175781 -5.40625 -3.875 -5.40625 L 0 -5.40625 L 0 -4.4375 L -3.6875 -4.4375 C -3.9375 -4.4375 -4.148438 -4.421875 -4.328125 -4.390625 C -4.515625 -4.359375 -4.671875 -4.296875 -4.796875 -4.203125 C -4.921875 -4.117188 -5.015625 -4 -5.078125 -3.84375 C -5.140625 -3.6875 -5.171875 -3.484375 -5.171875 -3.234375 C -5.171875 -3.003906 -5.128906 -2.796875 -5.046875 -2.609375 C -4.960938 -2.429688 -4.84375 -2.273438 -4.6875 -2.140625 C -4.539062 -2.003906 -4.359375 -1.898438 -4.140625 -1.828125 C -3.929688 -1.765625 -3.691406 -1.734375 -3.421875 -1.734375 L 0 -1.734375 L 0 -0.765625 L -7.96875 -0.765625 L -7.96875 -1.734375 L -5.890625 -1.734375 C -5.773438 -1.734375 -5.65625 -1.726562 -5.53125 -1.71875 C -5.414062 -1.71875 -5.304688 -1.710938 -5.203125 -1.703125 C -5.109375 -1.703125 -5.023438 -1.695312 -4.953125 -1.6875 C -4.890625 -1.6875 -4.84375 -1.6875 -4.8125 -1.6875 Z M -4.8125 -1.703125 \"/>\n",
       "</symbol>\n",
       "<symbol overflow=\"visible\" id=\"glyph2-18\">\n",
       "<path style=\"stroke:none;\" d=\"M -2.9375 -5.65625 C -0.90625 -5.65625 0.109375 -4.941406 0.109375 -3.515625 C 0.109375 -3.078125 0.03125 -2.710938 -0.125 -2.421875 C -0.289062 -2.128906 -0.550781 -1.890625 -0.90625 -1.703125 C -0.8125 -1.703125 -0.710938 -1.695312 -0.609375 -1.6875 C -0.515625 -1.6875 -0.421875 -1.679688 -0.328125 -1.671875 C -0.242188 -1.671875 -0.171875 -1.664062 -0.109375 -1.65625 C -0.046875 -1.65625 -0.0078125 -1.648438 0 -1.640625 L 0 -0.703125 C -0.03125 -0.710938 -0.0820312 -0.71875 -0.15625 -0.71875 C -0.238281 -0.71875 -0.332031 -0.71875 -0.4375 -0.71875 C -0.550781 -0.726562 -0.671875 -0.734375 -0.796875 -0.734375 C -0.921875 -0.734375 -1.054688 -0.734375 -1.203125 -0.734375 L -7.96875 -0.734375 L -7.96875 -1.703125 L -5.703125 -1.703125 C -5.585938 -1.703125 -5.484375 -1.703125 -5.390625 -1.703125 C -5.296875 -1.703125 -5.207031 -1.703125 -5.125 -1.703125 C -5.039062 -1.691406 -4.957031 -1.6875 -4.875 -1.6875 L -4.875 -1.703125 C -5.25 -1.890625 -5.515625 -2.128906 -5.671875 -2.421875 C -5.835938 -2.710938 -5.921875 -3.078125 -5.921875 -3.515625 C -5.921875 -4.253906 -5.671875 -4.796875 -5.171875 -5.140625 C -4.679688 -5.484375 -3.9375 -5.65625 -2.9375 -5.65625 Z M -2.90625 -4.640625 C -3.300781 -4.640625 -3.640625 -4.613281 -3.921875 -4.5625 C -4.210938 -4.507812 -4.453125 -4.425781 -4.640625 -4.3125 C -4.828125 -4.207031 -4.960938 -4.066406 -5.046875 -3.890625 C -5.128906 -3.722656 -5.171875 -3.515625 -5.171875 -3.265625 C -5.171875 -3.015625 -5.128906 -2.789062 -5.046875 -2.59375 C -4.960938 -2.394531 -4.828125 -2.226562 -4.640625 -2.09375 C -4.460938 -1.96875 -4.222656 -1.867188 -3.921875 -1.796875 C -3.628906 -1.734375 -3.269531 -1.703125 -2.84375 -1.703125 C -2.425781 -1.703125 -2.078125 -1.734375 -1.796875 -1.796875 C -1.515625 -1.867188 -1.285156 -1.96875 -1.109375 -2.09375 C -0.929688 -2.226562 -0.800781 -2.394531 -0.71875 -2.59375 C -0.644531 -2.789062 -0.609375 -3.015625 -0.609375 -3.265625 C -0.609375 -3.492188 -0.648438 -3.691406 -0.734375 -3.859375 C -0.816406 -4.035156 -0.945312 -4.179688 -1.125 -4.296875 C -1.3125 -4.410156 -1.550781 -4.492188 -1.84375 -4.546875 C -2.132812 -4.609375 -2.488281 -4.640625 -2.90625 -4.640625 Z M -2.90625 -4.640625 \"/>\n",
       "</symbol>\n",
       "<symbol overflow=\"visible\" id=\"glyph2-19\">\n",
       "<path style=\"stroke:none;\" d=\"M -2.90625 -5.65625 C -1.894531 -5.65625 -1.140625 -5.429688 -0.640625 -4.984375 C -0.140625 -4.535156 0.109375 -3.882812 0.109375 -3.03125 C 0.109375 -2.625 0.046875 -2.257812 -0.078125 -1.9375 C -0.203125 -1.625 -0.390625 -1.359375 -0.640625 -1.140625 C -0.890625 -0.921875 -1.203125 -0.753906 -1.578125 -0.640625 C -1.953125 -0.523438 -2.394531 -0.46875 -2.90625 -0.46875 C -4.914062 -0.46875 -5.921875 -1.332031 -5.921875 -3.0625 C -5.921875 -3.519531 -5.859375 -3.910156 -5.734375 -4.234375 C -5.609375 -4.566406 -5.421875 -4.835938 -5.171875 -5.046875 C -4.921875 -5.253906 -4.601562 -5.40625 -4.21875 -5.5 C -3.84375 -5.601562 -3.40625 -5.65625 -2.90625 -5.65625 Z M -2.90625 -4.640625 C -3.363281 -4.640625 -3.738281 -4.601562 -4.03125 -4.53125 C -4.320312 -4.46875 -4.554688 -4.367188 -4.734375 -4.234375 C -4.910156 -4.097656 -5.03125 -3.929688 -5.09375 -3.734375 C -5.164062 -3.546875 -5.203125 -3.328125 -5.203125 -3.078125 C -5.203125 -2.835938 -5.164062 -2.613281 -5.09375 -2.40625 C -5.019531 -2.207031 -4.894531 -2.039062 -4.71875 -1.90625 C -4.539062 -1.769531 -4.304688 -1.664062 -4.015625 -1.59375 C -3.722656 -1.519531 -3.351562 -1.484375 -2.90625 -1.484375 C -2.457031 -1.484375 -2.082031 -1.519531 -1.78125 -1.59375 C -1.488281 -1.675781 -1.253906 -1.785156 -1.078125 -1.921875 C -0.910156 -2.054688 -0.789062 -2.21875 -0.71875 -2.40625 C -0.644531 -2.59375 -0.609375 -2.800781 -0.609375 -3.03125 C -0.609375 -3.269531 -0.640625 -3.488281 -0.703125 -3.6875 C -0.773438 -3.894531 -0.898438 -4.066406 -1.078125 -4.203125 C -1.253906 -4.347656 -1.488281 -4.457031 -1.78125 -4.53125 C -2.082031 -4.601562 -2.457031 -4.640625 -2.90625 -4.640625 Z M -2.90625 -4.640625 \"/>\n",
       "</symbol>\n",
       "<symbol overflow=\"visible\" id=\"glyph3-0\">\n",
       "<path style=\"stroke:none;\" d=\"M 0.4375 0 L 0.4375 -8.796875 L 3.953125 -8.796875 L 3.953125 0 Z M 0.875 -0.4375 L 3.5 -0.4375 L 3.5 -8.359375 L 0.875 -8.359375 Z M 0.875 -0.4375 \"/>\n",
       "</symbol>\n",
       "<symbol overflow=\"visible\" id=\"glyph3-1\">\n",
       "<path style=\"stroke:none;\" d=\"M 2.3125 -8.078125 L 2.3125 -4.703125 L 7.375 -4.703125 L 7.375 -3.6875 L 2.3125 -3.6875 L 2.3125 0 L 1.078125 0 L 1.078125 -9.078125 L 7.53125 -9.078125 L 7.53125 -8.078125 Z M 2.3125 -8.078125 \"/>\n",
       "</symbol>\n",
       "<symbol overflow=\"visible\" id=\"glyph3-2\">\n",
       "<path style=\"stroke:none;\" d=\"M 0.890625 -8.453125 L 0.890625 -9.5625 L 2.046875 -9.5625 L 2.046875 -8.453125 Z M 0.890625 0 L 0.890625 -6.96875 L 2.046875 -6.96875 L 2.046875 0 Z M 0.890625 0 \"/>\n",
       "</symbol>\n",
       "<symbol overflow=\"visible\" id=\"glyph3-3\">\n",
       "<path style=\"stroke:none;\" d=\"M 3.53125 2.734375 C 3.132812 2.734375 2.78125 2.691406 2.46875 2.609375 C 2.15625 2.535156 1.890625 2.421875 1.671875 2.265625 C 1.453125 2.109375 1.273438 1.925781 1.140625 1.71875 C 1.003906 1.507812 0.90625 1.273438 0.84375 1.015625 L 2.015625 0.84375 C 2.085938 1.164062 2.253906 1.414062 2.515625 1.59375 C 2.785156 1.769531 3.132812 1.859375 3.5625 1.859375 C 3.820312 1.859375 4.0625 1.820312 4.28125 1.75 C 4.5 1.675781 4.679688 1.554688 4.828125 1.390625 C 4.972656 1.234375 5.085938 1.023438 5.171875 0.765625 C 5.253906 0.503906 5.296875 0.191406 5.296875 -0.171875 L 5.296875 -1.296875 L 5.28125 -1.296875 C 5.195312 -1.117188 5.09375 -0.945312 4.96875 -0.78125 C 4.84375 -0.625 4.6875 -0.484375 4.5 -0.359375 C 4.320312 -0.234375 4.109375 -0.132812 3.859375 -0.0625 C 3.617188 0.0078125 3.347656 0.046875 3.046875 0.046875 C 2.597656 0.046875 2.21875 -0.0234375 1.90625 -0.171875 C 1.59375 -0.316406 1.332031 -0.535156 1.125 -0.828125 C 0.925781 -1.128906 0.78125 -1.5 0.6875 -1.9375 C 0.59375 -2.382812 0.546875 -2.894531 0.546875 -3.46875 C 0.546875 -4.03125 0.59375 -4.535156 0.6875 -4.984375 C 0.78125 -5.429688 0.929688 -5.8125 1.140625 -6.125 C 1.347656 -6.4375 1.617188 -6.671875 1.953125 -6.828125 C 2.285156 -6.992188 2.691406 -7.078125 3.171875 -7.078125 C 3.660156 -7.078125 4.085938 -6.960938 4.453125 -6.734375 C 4.816406 -6.515625 5.097656 -6.195312 5.296875 -5.78125 L 5.3125 -5.78125 C 5.3125 -5.882812 5.3125 -6.003906 5.3125 -6.140625 C 5.320312 -6.273438 5.328125 -6.398438 5.328125 -6.515625 C 5.335938 -6.640625 5.347656 -6.742188 5.359375 -6.828125 C 5.367188 -6.910156 5.378906 -6.957031 5.390625 -6.96875 L 6.484375 -6.96875 C 6.484375 -6.9375 6.476562 -6.875 6.46875 -6.78125 C 6.46875 -6.6875 6.460938 -6.570312 6.453125 -6.4375 C 6.453125 -6.3125 6.453125 -6.171875 6.453125 -6.015625 C 6.453125 -5.859375 6.453125 -5.695312 6.453125 -5.53125 L 6.453125 -0.203125 C 6.453125 0.773438 6.210938 1.507812 5.734375 2 C 5.253906 2.488281 4.519531 2.734375 3.53125 2.734375 Z M 5.296875 -3.484375 C 5.296875 -3.972656 5.242188 -4.390625 5.140625 -4.734375 C 5.035156 -5.078125 4.894531 -5.359375 4.71875 -5.578125 C 4.550781 -5.796875 4.351562 -5.957031 4.125 -6.0625 C 3.90625 -6.164062 3.679688 -6.21875 3.453125 -6.21875 C 3.160156 -6.21875 2.90625 -6.164062 2.6875 -6.0625 C 2.476562 -5.957031 2.300781 -5.796875 2.15625 -5.578125 C 2.019531 -5.359375 1.914062 -5.070312 1.84375 -4.71875 C 1.78125 -4.375 1.75 -3.960938 1.75 -3.484375 C 1.75 -2.984375 1.78125 -2.5625 1.84375 -2.21875 C 1.914062 -1.875 2.019531 -1.597656 2.15625 -1.390625 C 2.289062 -1.179688 2.460938 -1.03125 2.671875 -0.9375 C 2.890625 -0.851562 3.144531 -0.8125 3.4375 -0.8125 C 3.664062 -0.8125 3.890625 -0.859375 4.109375 -0.953125 C 4.335938 -1.054688 4.539062 -1.210938 4.71875 -1.421875 C 4.894531 -1.640625 5.035156 -1.914062 5.140625 -2.25 C 5.242188 -2.59375 5.296875 -3.003906 5.296875 -3.484375 Z M 5.296875 -3.484375 \"/>\n",
       "</symbol>\n",
       "<symbol overflow=\"visible\" id=\"glyph3-4\">\n",
       "<path style=\"stroke:none;\" d=\"M 2.03125 -6.96875 L 2.03125 -2.546875 C 2.03125 -2.210938 2.050781 -1.929688 2.09375 -1.703125 C 2.144531 -1.472656 2.226562 -1.285156 2.34375 -1.140625 C 2.457031 -1.003906 2.601562 -0.90625 2.78125 -0.84375 C 2.96875 -0.789062 3.195312 -0.765625 3.46875 -0.765625 C 3.738281 -0.765625 3.984375 -0.8125 4.203125 -0.90625 C 4.421875 -1.007812 4.609375 -1.148438 4.765625 -1.328125 C 4.929688 -1.515625 5.054688 -1.738281 5.140625 -2 C 5.222656 -2.269531 5.265625 -2.582031 5.265625 -2.9375 L 5.265625 -6.96875 L 6.421875 -6.96875 L 6.421875 -1.484375 C 6.421875 -1.335938 6.421875 -1.179688 6.421875 -1.015625 C 6.429688 -0.859375 6.4375 -0.707031 6.4375 -0.5625 C 6.445312 -0.425781 6.453125 -0.304688 6.453125 -0.203125 C 6.453125 -0.0976562 6.457031 -0.03125 6.46875 0 L 5.375 0 C 5.363281 -0.0195312 5.351562 -0.078125 5.34375 -0.171875 C 5.34375 -0.265625 5.335938 -0.375 5.328125 -0.5 C 5.328125 -0.625 5.320312 -0.75 5.3125 -0.875 C 5.3125 -1 5.3125 -1.101562 5.3125 -1.1875 L 5.296875 -1.1875 C 5.179688 -0.988281 5.054688 -0.804688 4.921875 -0.640625 C 4.796875 -0.484375 4.644531 -0.347656 4.46875 -0.234375 C 4.289062 -0.117188 4.085938 -0.03125 3.859375 0.03125 C 3.628906 0.09375 3.363281 0.125 3.0625 0.125 C 2.675781 0.125 2.34375 0.078125 2.0625 -0.015625 C 1.789062 -0.109375 1.5625 -0.253906 1.375 -0.453125 C 1.195312 -0.648438 1.066406 -0.898438 0.984375 -1.203125 C 0.898438 -1.515625 0.859375 -1.890625 0.859375 -2.328125 L 0.859375 -6.96875 Z M 2.03125 -6.96875 \"/>\n",
       "</symbol>\n",
       "<symbol overflow=\"visible\" id=\"glyph3-5\">\n",
       "<path style=\"stroke:none;\" d=\"M 0.921875 0 L 0.921875 -5.34375 C 0.921875 -5.488281 0.914062 -5.640625 0.90625 -5.796875 C 0.90625 -5.953125 0.898438 -6.097656 0.890625 -6.234375 C 0.890625 -6.378906 0.890625 -6.515625 0.890625 -6.640625 C 0.890625 -6.765625 0.882812 -6.875 0.875 -6.96875 L 1.96875 -6.96875 C 1.976562 -6.875 1.984375 -6.765625 1.984375 -6.640625 C 1.992188 -6.515625 2 -6.382812 2 -6.25 C 2.007812 -6.113281 2.015625 -5.984375 2.015625 -5.859375 C 2.023438 -5.734375 2.03125 -5.628906 2.03125 -5.546875 L 2.046875 -5.546875 C 2.128906 -5.816406 2.21875 -6.046875 2.3125 -6.234375 C 2.40625 -6.429688 2.515625 -6.59375 2.640625 -6.71875 C 2.765625 -6.851562 2.910156 -6.953125 3.078125 -7.015625 C 3.253906 -7.078125 3.460938 -7.109375 3.703125 -7.109375 C 3.796875 -7.109375 3.882812 -7.097656 3.96875 -7.078125 C 4.0625 -7.066406 4.128906 -7.054688 4.171875 -7.046875 L 4.171875 -5.96875 C 4.097656 -6 4.007812 -6.019531 3.90625 -6.03125 C 3.800781 -6.039062 3.6875 -6.046875 3.5625 -6.046875 C 3.289062 -6.046875 3.0625 -5.984375 2.875 -5.859375 C 2.6875 -5.734375 2.535156 -5.566406 2.421875 -5.359375 C 2.304688 -5.148438 2.21875 -4.894531 2.15625 -4.59375 C 2.101562 -4.300781 2.078125 -3.984375 2.078125 -3.640625 L 2.078125 0 Z M 0.921875 0 \"/>\n",
       "</symbol>\n",
       "<symbol overflow=\"visible\" id=\"glyph3-6\">\n",
       "<path style=\"stroke:none;\" d=\"M 1.78125 -3.25 C 1.78125 -2.875 1.816406 -2.53125 1.890625 -2.21875 C 1.960938 -1.914062 2.078125 -1.65625 2.234375 -1.4375 C 2.390625 -1.21875 2.585938 -1.046875 2.828125 -0.921875 C 3.078125 -0.796875 3.375 -0.734375 3.71875 -0.734375 C 4.226562 -0.734375 4.632812 -0.832031 4.9375 -1.03125 C 5.238281 -1.238281 5.441406 -1.5 5.546875 -1.8125 L 6.5625 -1.515625 C 6.488281 -1.328125 6.382812 -1.132812 6.25 -0.9375 C 6.125 -0.738281 5.953125 -0.5625 5.734375 -0.40625 C 5.515625 -0.25 5.238281 -0.117188 4.90625 -0.015625 C 4.582031 0.078125 4.1875 0.125 3.71875 0.125 C 2.6875 0.125 1.898438 -0.179688 1.359375 -0.796875 C 0.828125 -1.410156 0.5625 -2.320312 0.5625 -3.53125 C 0.5625 -4.1875 0.640625 -4.738281 0.796875 -5.1875 C 0.960938 -5.644531 1.1875 -6.015625 1.46875 -6.296875 C 1.757812 -6.578125 2.09375 -6.78125 2.46875 -6.90625 C 2.84375 -7.039062 3.25 -7.109375 3.6875 -7.109375 C 4.269531 -7.109375 4.753906 -7.007812 5.140625 -6.8125 C 5.535156 -6.625 5.851562 -6.363281 6.09375 -6.03125 C 6.332031 -5.695312 6.5 -5.304688 6.59375 -4.859375 C 6.695312 -4.410156 6.75 -3.921875 6.75 -3.390625 L 6.75 -3.25 Z M 5.5625 -4.125 C 5.488281 -4.863281 5.296875 -5.398438 4.984375 -5.734375 C 4.679688 -6.078125 4.238281 -6.25 3.65625 -6.25 C 3.46875 -6.25 3.265625 -6.21875 3.046875 -6.15625 C 2.835938 -6.09375 2.640625 -5.976562 2.453125 -5.8125 C 2.273438 -5.65625 2.125 -5.441406 2 -5.171875 C 1.875 -4.898438 1.804688 -4.550781 1.796875 -4.125 Z M 5.5625 -4.125 \"/>\n",
       "</symbol>\n",
       "<symbol overflow=\"visible\" id=\"glyph3-7\">\n",
       "<path style=\"stroke:none;\" d=\"\"/>\n",
       "</symbol>\n",
       "<symbol overflow=\"visible\" id=\"glyph3-8\">\n",
       "<path style=\"stroke:none;\" d=\"M 1 0 L 1 -0.984375 L 3.3125 -0.984375 L 3.3125 -7.96875 L 1.265625 -6.515625 L 1.265625 -7.609375 L 3.421875 -9.078125 L 4.484375 -9.078125 L 4.484375 -0.984375 L 6.703125 -0.984375 L 6.703125 0 Z M 1 0 \"/>\n",
       "</symbol>\n",
       "<symbol overflow=\"visible\" id=\"glyph3-9\">\n",
       "<path style=\"stroke:none;\" d=\"M 1.203125 -5.640625 L 1.203125 -6.96875 L 2.46875 -6.96875 L 2.46875 -5.640625 Z M 1.203125 0 L 1.203125 -1.328125 L 2.46875 -1.328125 L 2.46875 0 Z M 1.203125 0 \"/>\n",
       "</symbol>\n",
       "<symbol overflow=\"visible\" id=\"glyph3-10\">\n",
       "<path style=\"stroke:none;\" d=\"M 8.109375 -6.34375 C 8.109375 -5.945312 8.039062 -5.578125 7.90625 -5.234375 C 7.78125 -4.898438 7.585938 -4.609375 7.328125 -4.359375 C 7.066406 -4.109375 6.738281 -3.910156 6.34375 -3.765625 C 5.957031 -3.617188 5.503906 -3.546875 4.984375 -3.546875 L 2.3125 -3.546875 L 2.3125 0 L 1.078125 0 L 1.078125 -9.078125 L 4.90625 -9.078125 C 5.445312 -9.078125 5.914062 -9.007812 6.3125 -8.875 C 6.707031 -8.75 7.035156 -8.566406 7.296875 -8.328125 C 7.566406 -8.085938 7.769531 -7.800781 7.90625 -7.46875 C 8.039062 -7.132812 8.109375 -6.757812 8.109375 -6.34375 Z M 6.875 -6.34375 C 6.875 -6.914062 6.695312 -7.347656 6.34375 -7.640625 C 5.988281 -7.941406 5.457031 -8.09375 4.75 -8.09375 L 2.3125 -8.09375 L 2.3125 -4.515625 L 4.8125 -4.515625 C 5.519531 -4.515625 6.039062 -4.671875 6.375 -4.984375 C 6.707031 -5.296875 6.875 -5.75 6.875 -6.34375 Z M 6.875 -6.34375 \"/>\n",
       "</symbol>\n",
       "<symbol overflow=\"visible\" id=\"glyph3-11\">\n",
       "<path style=\"stroke:none;\" d=\"M 0.890625 0 L 0.890625 -9.5625 L 2.046875 -9.5625 L 2.046875 0 Z M 0.890625 0 \"/>\n",
       "</symbol>\n",
       "<symbol overflow=\"visible\" id=\"glyph3-12\">\n",
       "<path style=\"stroke:none;\" d=\"M 6.78125 -3.5 C 6.78125 -2.269531 6.507812 -1.359375 5.96875 -0.765625 C 5.4375 -0.171875 4.660156 0.125 3.640625 0.125 C 3.148438 0.125 2.710938 0.0507812 2.328125 -0.09375 C 1.953125 -0.238281 1.628906 -0.460938 1.359375 -0.765625 C 1.097656 -1.066406 0.894531 -1.441406 0.75 -1.890625 C 0.613281 -2.347656 0.546875 -2.882812 0.546875 -3.5 C 0.546875 -5.90625 1.59375 -7.109375 3.6875 -7.109375 C 4.226562 -7.109375 4.691406 -7.03125 5.078125 -6.875 C 5.472656 -6.726562 5.796875 -6.503906 6.046875 -6.203125 C 6.296875 -5.898438 6.476562 -5.519531 6.59375 -5.0625 C 6.71875 -4.613281 6.78125 -4.09375 6.78125 -3.5 Z M 5.5625 -3.5 C 5.5625 -4.039062 5.519531 -4.484375 5.4375 -4.828125 C 5.351562 -5.179688 5.226562 -5.460938 5.0625 -5.671875 C 4.90625 -5.890625 4.710938 -6.039062 4.484375 -6.125 C 4.253906 -6.207031 3.992188 -6.25 3.703125 -6.25 C 3.398438 -6.25 3.128906 -6.203125 2.890625 -6.109375 C 2.660156 -6.023438 2.457031 -5.875 2.28125 -5.65625 C 2.113281 -5.445312 1.984375 -5.164062 1.890625 -4.8125 C 1.804688 -4.457031 1.765625 -4.019531 1.765625 -3.5 C 1.765625 -2.957031 1.8125 -2.507812 1.90625 -2.15625 C 2.007812 -1.800781 2.140625 -1.515625 2.296875 -1.296875 C 2.460938 -1.085938 2.660156 -0.941406 2.890625 -0.859375 C 3.117188 -0.773438 3.363281 -0.734375 3.625 -0.734375 C 3.925781 -0.734375 4.195312 -0.773438 4.4375 -0.859375 C 4.675781 -0.941406 4.878906 -1.085938 5.046875 -1.296875 C 5.210938 -1.503906 5.335938 -1.785156 5.421875 -2.140625 C 5.515625 -2.503906 5.5625 -2.957031 5.5625 -3.5 Z M 5.5625 -3.5 \"/>\n",
       "</symbol>\n",
       "<symbol overflow=\"visible\" id=\"glyph3-13\">\n",
       "<path style=\"stroke:none;\" d=\"M 3.578125 -0.046875 C 3.398438 -0.00390625 3.21875 0.03125 3.03125 0.0625 C 2.851562 0.09375 2.640625 0.109375 2.390625 0.109375 C 1.460938 0.109375 1 -0.414062 1 -1.46875 L 1 -6.125 L 0.203125 -6.125 L 0.203125 -6.96875 L 1.046875 -6.96875 L 1.390625 -8.53125 L 2.171875 -8.53125 L 2.171875 -6.96875 L 3.453125 -6.96875 L 3.453125 -6.125 L 2.171875 -6.125 L 2.171875 -1.734375 C 2.171875 -1.390625 2.222656 -1.148438 2.328125 -1.015625 C 2.441406 -0.878906 2.632812 -0.8125 2.90625 -0.8125 C 3.007812 -0.8125 3.113281 -0.820312 3.21875 -0.84375 C 3.332031 -0.863281 3.453125 -0.882812 3.578125 -0.90625 Z M 3.578125 -0.046875 \"/>\n",
       "</symbol>\n",
       "<symbol overflow=\"visible\" id=\"glyph3-14\">\n",
       "<path style=\"stroke:none;\" d=\"M 5.3125 0 L 5.3125 -4.421875 C 5.3125 -4.765625 5.285156 -5.046875 5.234375 -5.265625 C 5.191406 -5.492188 5.113281 -5.675781 5 -5.8125 C 4.882812 -5.957031 4.734375 -6.054688 4.546875 -6.109375 C 4.367188 -6.171875 4.144531 -6.203125 3.875 -6.203125 C 3.601562 -6.203125 3.351562 -6.15625 3.125 -6.0625 C 2.90625 -5.96875 2.71875 -5.828125 2.5625 -5.640625 C 2.40625 -5.460938 2.285156 -5.238281 2.203125 -4.96875 C 2.117188 -4.695312 2.078125 -4.390625 2.078125 -4.046875 L 2.078125 0 L 0.921875 0 L 0.921875 -5.484375 C 0.921875 -5.628906 0.914062 -5.78125 0.90625 -5.9375 C 0.90625 -6.101562 0.898438 -6.257812 0.890625 -6.40625 C 0.890625 -6.550781 0.890625 -6.675781 0.890625 -6.78125 C 0.890625 -6.882812 0.882812 -6.945312 0.875 -6.96875 L 1.96875 -6.96875 C 1.976562 -6.945312 1.984375 -6.890625 1.984375 -6.796875 C 1.984375 -6.703125 1.988281 -6.59375 2 -6.46875 C 2.007812 -6.351562 2.015625 -6.226562 2.015625 -6.09375 C 2.023438 -5.96875 2.03125 -5.863281 2.03125 -5.78125 L 2.046875 -5.78125 C 2.160156 -5.976562 2.28125 -6.160156 2.40625 -6.328125 C 2.539062 -6.492188 2.695312 -6.632812 2.875 -6.75 C 3.050781 -6.863281 3.253906 -6.953125 3.484375 -7.015625 C 3.710938 -7.078125 3.976562 -7.109375 4.28125 -7.109375 C 4.664062 -7.109375 4.992188 -7.0625 5.265625 -6.96875 C 5.546875 -6.875 5.773438 -6.726562 5.953125 -6.53125 C 6.140625 -6.332031 6.273438 -6.078125 6.359375 -5.765625 C 6.441406 -5.453125 6.484375 -5.078125 6.484375 -4.640625 L 6.484375 0 Z M 5.3125 0 \"/>\n",
       "</symbol>\n",
       "<symbol overflow=\"visible\" id=\"glyph3-15\">\n",
       "<path style=\"stroke:none;\" d=\"M 2.046875 -5.78125 C 2.171875 -6.019531 2.304688 -6.222656 2.453125 -6.390625 C 2.609375 -6.554688 2.773438 -6.691406 2.953125 -6.796875 C 3.140625 -6.898438 3.335938 -6.976562 3.546875 -7.03125 C 3.765625 -7.082031 4.007812 -7.109375 4.28125 -7.109375 C 4.71875 -7.109375 5.078125 -7.046875 5.359375 -6.921875 C 5.648438 -6.804688 5.878906 -6.640625 6.046875 -6.421875 C 6.210938 -6.203125 6.328125 -5.941406 6.390625 -5.640625 C 6.453125 -5.335938 6.484375 -5.003906 6.484375 -4.640625 L 6.484375 0 L 5.3125 0 L 5.3125 -4.421875 C 5.3125 -4.722656 5.289062 -4.984375 5.25 -5.203125 C 5.21875 -5.421875 5.148438 -5.601562 5.046875 -5.75 C 4.953125 -5.90625 4.804688 -6.019531 4.609375 -6.09375 C 4.421875 -6.164062 4.175781 -6.203125 3.875 -6.203125 C 3.601562 -6.203125 3.351562 -6.148438 3.125 -6.046875 C 2.90625 -5.953125 2.71875 -5.816406 2.5625 -5.640625 C 2.40625 -5.460938 2.285156 -5.242188 2.203125 -4.984375 C 2.117188 -4.722656 2.078125 -4.429688 2.078125 -4.109375 L 2.078125 0 L 0.921875 0 L 0.921875 -9.5625 L 2.078125 -9.5625 L 2.078125 -7.078125 C 2.078125 -6.929688 2.070312 -6.785156 2.0625 -6.640625 C 2.0625 -6.503906 2.054688 -6.375 2.046875 -6.25 C 2.046875 -6.132812 2.039062 -6.035156 2.03125 -5.953125 C 2.03125 -5.867188 2.03125 -5.8125 2.03125 -5.78125 Z M 2.046875 -5.78125 \"/>\n",
       "</symbol>\n",
       "<symbol overflow=\"visible\" id=\"glyph3-16\">\n",
       "<path style=\"stroke:none;\" d=\"M 7.53125 0 L 6.484375 -2.65625 L 2.34375 -2.65625 L 1.296875 0 L 0.03125 0 L 3.734375 -9.078125 L 5.125 -9.078125 L 8.78125 0 Z M 4.953125 -6.609375 C 4.878906 -6.785156 4.8125 -6.960938 4.75 -7.140625 C 4.6875 -7.316406 4.628906 -7.472656 4.578125 -7.609375 C 4.535156 -7.753906 4.5 -7.875 4.46875 -7.96875 C 4.4375 -8.070312 4.421875 -8.132812 4.421875 -8.15625 C 4.410156 -8.132812 4.390625 -8.070312 4.359375 -7.96875 C 4.328125 -7.875 4.285156 -7.753906 4.234375 -7.609375 C 4.191406 -7.460938 4.140625 -7.300781 4.078125 -7.125 C 4.015625 -6.945312 3.945312 -6.773438 3.875 -6.609375 L 2.71875 -3.609375 L 6.125 -3.609375 Z M 4.953125 -6.609375 \"/>\n",
       "</symbol>\n",
       "<symbol overflow=\"visible\" id=\"glyph3-17\">\n",
       "<path style=\"stroke:none;\" d=\"M 1.765625 -3.515625 C 1.765625 -3.117188 1.796875 -2.753906 1.859375 -2.421875 C 1.921875 -2.085938 2.019531 -1.796875 2.15625 -1.546875 C 2.289062 -1.304688 2.46875 -1.117188 2.6875 -0.984375 C 2.914062 -0.847656 3.195312 -0.78125 3.53125 -0.78125 C 3.945312 -0.78125 4.289062 -0.890625 4.5625 -1.109375 C 4.84375 -1.335938 5.015625 -1.6875 5.078125 -2.15625 L 6.25 -2.078125 C 6.21875 -1.785156 6.132812 -1.503906 6 -1.234375 C 5.875 -0.972656 5.695312 -0.738281 5.46875 -0.53125 C 5.25 -0.332031 4.976562 -0.171875 4.65625 -0.046875 C 4.34375 0.0664062 3.976562 0.125 3.5625 0.125 C 3.019531 0.125 2.554688 0.0351562 2.171875 -0.140625 C 1.785156 -0.328125 1.472656 -0.582031 1.234375 -0.90625 C 1.003906 -1.238281 0.832031 -1.625 0.71875 -2.0625 C 0.613281 -2.5 0.5625 -2.976562 0.5625 -3.5 C 0.5625 -3.96875 0.597656 -4.378906 0.671875 -4.734375 C 0.753906 -5.097656 0.863281 -5.410156 1 -5.671875 C 1.144531 -5.941406 1.3125 -6.164062 1.5 -6.34375 C 1.6875 -6.53125 1.890625 -6.675781 2.109375 -6.78125 C 2.328125 -6.894531 2.554688 -6.976562 2.796875 -7.03125 C 3.046875 -7.082031 3.296875 -7.109375 3.546875 -7.109375 C 3.941406 -7.109375 4.289062 -7.050781 4.59375 -6.9375 C 4.894531 -6.832031 5.15625 -6.6875 5.375 -6.5 C 5.601562 -6.3125 5.785156 -6.085938 5.921875 -5.828125 C 6.054688 -5.578125 6.15625 -5.304688 6.21875 -5.015625 L 5.015625 -4.9375 C 4.960938 -5.320312 4.8125 -5.628906 4.5625 -5.859375 C 4.320312 -6.085938 3.972656 -6.203125 3.515625 -6.203125 C 3.191406 -6.203125 2.914062 -6.144531 2.6875 -6.03125 C 2.46875 -5.914062 2.289062 -5.75 2.15625 -5.53125 C 2.019531 -5.3125 1.921875 -5.035156 1.859375 -4.703125 C 1.796875 -4.367188 1.765625 -3.972656 1.765625 -3.515625 Z M 1.765625 -3.515625 \"/>\n",
       "</symbol>\n",
       "<symbol overflow=\"visible\" id=\"glyph3-18\">\n",
       "<path style=\"stroke:none;\" d=\"M 2.671875 0.125 C 1.972656 0.125 1.445312 -0.0546875 1.09375 -0.421875 C 0.738281 -0.796875 0.5625 -1.304688 0.5625 -1.953125 C 0.5625 -2.410156 0.644531 -2.785156 0.8125 -3.078125 C 0.988281 -3.367188 1.21875 -3.597656 1.5 -3.765625 C 1.78125 -3.929688 2.101562 -4.046875 2.46875 -4.109375 C 2.832031 -4.179688 3.203125 -4.222656 3.578125 -4.234375 L 5.140625 -4.25 L 5.140625 -4.640625 C 5.140625 -4.921875 5.109375 -5.160156 5.046875 -5.359375 C 4.984375 -5.566406 4.890625 -5.734375 4.765625 -5.859375 C 4.640625 -5.984375 4.484375 -6.070312 4.296875 -6.125 C 4.109375 -6.1875 3.890625 -6.21875 3.640625 -6.21875 C 3.421875 -6.21875 3.21875 -6.203125 3.03125 -6.171875 C 2.851562 -6.140625 2.695312 -6.082031 2.5625 -6 C 2.425781 -5.914062 2.316406 -5.800781 2.234375 -5.65625 C 2.160156 -5.507812 2.109375 -5.328125 2.078125 -5.109375 L 0.875 -5.21875 C 0.914062 -5.5 0.992188 -5.753906 1.109375 -5.984375 C 1.234375 -6.210938 1.40625 -6.410156 1.625 -6.578125 C 1.84375 -6.742188 2.117188 -6.875 2.453125 -6.96875 C 2.785156 -7.0625 3.191406 -7.109375 3.671875 -7.109375 C 4.546875 -7.109375 5.203125 -6.90625 5.640625 -6.5 C 6.085938 -6.101562 6.3125 -5.519531 6.3125 -4.75 L 6.3125 -1.75 C 6.3125 -1.40625 6.351562 -1.144531 6.4375 -0.96875 C 6.53125 -0.800781 6.707031 -0.71875 6.96875 -0.71875 C 7.03125 -0.71875 7.09375 -0.71875 7.15625 -0.71875 C 7.21875 -0.726562 7.28125 -0.742188 7.34375 -0.765625 L 7.34375 -0.03125 C 7.195312 0 7.050781 0.0195312 6.90625 0.03125 C 6.757812 0.0507812 6.609375 0.0625 6.453125 0.0625 C 6.234375 0.0625 6.039062 0.0351562 5.875 -0.015625 C 5.71875 -0.078125 5.585938 -0.164062 5.484375 -0.28125 C 5.390625 -0.40625 5.316406 -0.550781 5.265625 -0.71875 C 5.222656 -0.894531 5.191406 -1.097656 5.171875 -1.328125 L 5.140625 -1.328125 C 5.015625 -1.109375 4.875 -0.90625 4.71875 -0.71875 C 4.570312 -0.539062 4.398438 -0.390625 4.203125 -0.265625 C 4.003906 -0.140625 3.78125 -0.046875 3.53125 0.015625 C 3.28125 0.0859375 2.992188 0.125 2.671875 0.125 Z M 2.9375 -0.734375 C 3.300781 -0.734375 3.617188 -0.800781 3.890625 -0.9375 C 4.171875 -1.070312 4.40625 -1.242188 4.59375 -1.453125 C 4.78125 -1.671875 4.914062 -1.90625 5 -2.15625 C 5.09375 -2.40625 5.140625 -2.644531 5.140625 -2.875 L 5.140625 -3.4375 L 3.875 -3.421875 C 3.582031 -3.410156 3.304688 -3.382812 3.046875 -3.34375 C 2.796875 -3.3125 2.570312 -3.242188 2.375 -3.140625 C 2.1875 -3.035156 2.035156 -2.882812 1.921875 -2.6875 C 1.804688 -2.488281 1.75 -2.234375 1.75 -1.921875 C 1.75 -1.546875 1.847656 -1.253906 2.046875 -1.046875 C 2.253906 -0.835938 2.550781 -0.734375 2.9375 -0.734375 Z M 2.9375 -0.734375 \"/>\n",
       "</symbol>\n",
       "<symbol overflow=\"visible\" id=\"glyph3-19\">\n",
       "<path style=\"stroke:none;\" d=\"M 3.890625 0 C 3.734375 0.414062 3.566406 0.789062 3.390625 1.125 C 3.222656 1.46875 3.035156 1.757812 2.828125 2 C 2.617188 2.238281 2.382812 2.421875 2.125 2.546875 C 1.863281 2.671875 1.566406 2.734375 1.234375 2.734375 C 1.085938 2.734375 0.953125 2.726562 0.828125 2.71875 C 0.703125 2.71875 0.570312 2.703125 0.4375 2.671875 L 0.4375 1.796875 C 0.507812 1.804688 0.597656 1.816406 0.703125 1.828125 C 0.804688 1.835938 0.894531 1.84375 0.96875 1.84375 C 1.3125 1.84375 1.628906 1.710938 1.921875 1.453125 C 2.210938 1.203125 2.46875 0.800781 2.6875 0.25 L 2.796875 -0.03125 L 0.03125 -6.96875 L 1.265625 -6.96875 L 2.734375 -3.125 C 2.773438 -3.007812 2.828125 -2.851562 2.890625 -2.65625 C 2.960938 -2.457031 3.03125 -2.257812 3.09375 -2.0625 C 3.164062 -1.875 3.226562 -1.703125 3.28125 -1.546875 C 3.332031 -1.398438 3.363281 -1.304688 3.375 -1.265625 C 3.382812 -1.304688 3.414062 -1.394531 3.46875 -1.53125 C 3.519531 -1.675781 3.570312 -1.832031 3.625 -2 C 3.6875 -2.175781 3.75 -2.351562 3.8125 -2.53125 C 3.882812 -2.707031 3.941406 -2.859375 3.984375 -2.984375 L 5.34375 -6.96875 L 6.578125 -6.96875 Z M 3.890625 0 \"/>\n",
       "</symbol>\n",
       "<symbol overflow=\"visible\" id=\"glyph3-20\">\n",
       "<path style=\"stroke:none;\" d=\"M 1.078125 0 L 1.078125 -9.078125 L 7.96875 -9.078125 L 7.96875 -8.078125 L 2.3125 -8.078125 L 2.3125 -5.15625 L 7.59375 -5.15625 L 7.59375 -4.171875 L 2.3125 -4.171875 L 2.3125 -1 L 8.234375 -1 L 8.234375 0 Z M 1.078125 0 \"/>\n",
       "</symbol>\n",
       "<symbol overflow=\"visible\" id=\"glyph3-21\">\n",
       "<path style=\"stroke:none;\" d=\"M 6.125 -1.921875 C 6.125 -1.597656 6.0625 -1.304688 5.9375 -1.046875 C 5.8125 -0.796875 5.625 -0.582031 5.375 -0.40625 C 5.132812 -0.226562 4.835938 -0.09375 4.484375 0 C 4.140625 0.0820312 3.742188 0.125 3.296875 0.125 C 2.890625 0.125 2.523438 0.09375 2.203125 0.03125 C 1.878906 -0.03125 1.59375 -0.128906 1.34375 -0.265625 C 1.101562 -0.398438 0.898438 -0.578125 0.734375 -0.796875 C 0.566406 -1.023438 0.445312 -1.304688 0.375 -1.640625 L 1.390625 -1.84375 C 1.492188 -1.46875 1.695312 -1.191406 2 -1.015625 C 2.3125 -0.835938 2.742188 -0.75 3.296875 -0.75 C 3.546875 -0.75 3.773438 -0.765625 3.984375 -0.796875 C 4.191406 -0.835938 4.367188 -0.898438 4.515625 -0.984375 C 4.671875 -1.066406 4.789062 -1.175781 4.875 -1.3125 C 4.957031 -1.457031 5 -1.632812 5 -1.84375 C 5 -2.050781 4.945312 -2.222656 4.84375 -2.359375 C 4.75 -2.492188 4.613281 -2.601562 4.4375 -2.6875 C 4.257812 -2.78125 4.046875 -2.859375 3.796875 -2.921875 C 3.546875 -2.992188 3.269531 -3.070312 2.96875 -3.15625 C 2.6875 -3.226562 2.40625 -3.304688 2.125 -3.390625 C 1.851562 -3.484375 1.609375 -3.601562 1.390625 -3.75 C 1.171875 -3.90625 0.988281 -4.09375 0.84375 -4.3125 C 0.707031 -4.53125 0.640625 -4.800781 0.640625 -5.125 C 0.640625 -5.757812 0.863281 -6.242188 1.3125 -6.578125 C 1.769531 -6.910156 2.4375 -7.078125 3.3125 -7.078125 C 4.082031 -7.078125 4.691406 -6.941406 5.140625 -6.671875 C 5.597656 -6.398438 5.882812 -5.96875 6 -5.375 L 4.953125 -5.25 C 4.921875 -5.425781 4.851562 -5.578125 4.75 -5.703125 C 4.644531 -5.828125 4.519531 -5.925781 4.375 -6 C 4.226562 -6.070312 4.0625 -6.125 3.875 -6.15625 C 3.695312 -6.1875 3.507812 -6.203125 3.3125 -6.203125 C 2.78125 -6.203125 2.390625 -6.125 2.140625 -5.96875 C 1.890625 -5.8125 1.765625 -5.570312 1.765625 -5.25 C 1.765625 -5.0625 1.8125 -4.90625 1.90625 -4.78125 C 2 -4.65625 2.128906 -4.550781 2.296875 -4.46875 C 2.460938 -4.382812 2.660156 -4.3125 2.890625 -4.25 C 3.128906 -4.1875 3.382812 -4.125 3.65625 -4.0625 C 3.84375 -4.007812 4.03125 -3.957031 4.21875 -3.90625 C 4.414062 -3.851562 4.601562 -3.785156 4.78125 -3.703125 C 4.96875 -3.628906 5.140625 -3.539062 5.296875 -3.4375 C 5.460938 -3.34375 5.601562 -3.222656 5.71875 -3.078125 C 5.84375 -2.941406 5.941406 -2.773438 6.015625 -2.578125 C 6.085938 -2.390625 6.125 -2.171875 6.125 -1.921875 Z M 6.125 -1.921875 \"/>\n",
       "</symbol>\n",
       "<symbol overflow=\"visible\" id=\"glyph3-22\">\n",
       "<path style=\"stroke:none;\" d=\"M 4.953125 0 L 4.953125 -4.421875 C 4.953125 -4.765625 4.929688 -5.046875 4.890625 -5.265625 C 4.847656 -5.492188 4.773438 -5.675781 4.671875 -5.8125 C 4.566406 -5.957031 4.429688 -6.054688 4.265625 -6.109375 C 4.109375 -6.171875 3.910156 -6.203125 3.671875 -6.203125 C 3.429688 -6.203125 3.210938 -6.15625 3.015625 -6.0625 C 2.816406 -5.96875 2.644531 -5.828125 2.5 -5.640625 C 2.363281 -5.460938 2.253906 -5.238281 2.171875 -4.96875 C 2.097656 -4.695312 2.0625 -4.390625 2.0625 -4.046875 L 2.0625 0 L 0.921875 0 L 0.921875 -5.484375 C 0.921875 -5.628906 0.914062 -5.78125 0.90625 -5.9375 C 0.90625 -6.101562 0.898438 -6.257812 0.890625 -6.40625 C 0.890625 -6.550781 0.890625 -6.675781 0.890625 -6.78125 C 0.890625 -6.882812 0.882812 -6.945312 0.875 -6.96875 L 1.96875 -6.96875 C 1.976562 -6.945312 1.984375 -6.890625 1.984375 -6.796875 C 1.984375 -6.703125 1.988281 -6.59375 2 -6.46875 C 2.007812 -6.351562 2.015625 -6.226562 2.015625 -6.09375 C 2.023438 -5.96875 2.03125 -5.863281 2.03125 -5.78125 L 2.046875 -5.78125 C 2.148438 -5.976562 2.257812 -6.160156 2.375 -6.328125 C 2.5 -6.492188 2.640625 -6.632812 2.796875 -6.75 C 2.960938 -6.863281 3.148438 -6.953125 3.359375 -7.015625 C 3.566406 -7.078125 3.804688 -7.109375 4.078125 -7.109375 C 4.609375 -7.109375 5.023438 -7 5.328125 -6.78125 C 5.640625 -6.570312 5.851562 -6.238281 5.96875 -5.78125 L 6 -5.78125 C 6.101562 -5.976562 6.21875 -6.160156 6.34375 -6.328125 C 6.46875 -6.492188 6.613281 -6.632812 6.78125 -6.75 C 6.957031 -6.863281 7.15625 -6.953125 7.375 -7.015625 C 7.59375 -7.078125 7.835938 -7.109375 8.109375 -7.109375 C 8.460938 -7.109375 8.765625 -7.0625 9.015625 -6.96875 C 9.273438 -6.875 9.484375 -6.726562 9.640625 -6.53125 C 9.804688 -6.332031 9.925781 -6.078125 10 -5.765625 C 10.082031 -5.453125 10.125 -5.078125 10.125 -4.640625 L 10.125 0 L 8.984375 0 L 8.984375 -4.421875 C 8.984375 -4.765625 8.957031 -5.046875 8.90625 -5.265625 C 8.863281 -5.492188 8.789062 -5.675781 8.6875 -5.8125 C 8.59375 -5.957031 8.460938 -6.054688 8.296875 -6.109375 C 8.140625 -6.171875 7.941406 -6.203125 7.703125 -6.203125 C 7.460938 -6.203125 7.242188 -6.15625 7.046875 -6.0625 C 6.847656 -5.976562 6.675781 -5.84375 6.53125 -5.65625 C 6.394531 -5.476562 6.285156 -5.253906 6.203125 -4.984375 C 6.128906 -4.710938 6.09375 -4.398438 6.09375 -4.046875 L 6.09375 0 Z M 4.953125 0 \"/>\n",
       "</symbol>\n",
       "<symbol overflow=\"visible\" id=\"glyph3-23\">\n",
       "<path style=\"stroke:none;\" d=\"M 3.953125 0 L 2.578125 0 L 0.046875 -6.96875 L 1.28125 -6.96875 L 2.8125 -2.4375 C 2.84375 -2.34375 2.878906 -2.226562 2.921875 -2.09375 C 2.960938 -1.957031 3.003906 -1.816406 3.046875 -1.671875 C 3.085938 -1.523438 3.125 -1.382812 3.15625 -1.25 C 3.195312 -1.113281 3.234375 -1 3.265625 -0.90625 C 3.285156 -1 3.316406 -1.113281 3.359375 -1.25 C 3.398438 -1.382812 3.441406 -1.519531 3.484375 -1.65625 C 3.523438 -1.800781 3.566406 -1.941406 3.609375 -2.078125 C 3.660156 -2.210938 3.703125 -2.328125 3.734375 -2.421875 L 5.328125 -6.96875 L 6.5625 -6.96875 Z M 3.953125 0 \"/>\n",
       "</symbol>\n",
       "<symbol overflow=\"visible\" id=\"glyph3-24\">\n",
       "<path style=\"stroke:none;\" d=\"M 1.21875 0 L 1.21875 -9.078125 L 2.453125 -9.078125 L 2.453125 0 Z M 1.21875 0 \"/>\n",
       "</symbol>\n",
       "<symbol overflow=\"visible\" id=\"glyph3-25\">\n",
       "<path style=\"stroke:none;\" d=\"M 5.296875 -1.125 C 5.078125 -0.675781 4.789062 -0.351562 4.4375 -0.15625 C 4.082031 0.03125 3.644531 0.125 3.125 0.125 C 2.238281 0.125 1.585938 -0.171875 1.171875 -0.765625 C 0.753906 -1.359375 0.546875 -2.253906 0.546875 -3.453125 C 0.546875 -5.890625 1.40625 -7.109375 3.125 -7.109375 C 3.644531 -7.109375 4.082031 -7.007812 4.4375 -6.8125 C 4.789062 -6.625 5.078125 -6.316406 5.296875 -5.890625 L 5.3125 -5.890625 C 5.3125 -5.929688 5.304688 -6 5.296875 -6.09375 C 5.296875 -6.1875 5.296875 -6.28125 5.296875 -6.375 C 5.296875 -6.476562 5.296875 -6.578125 5.296875 -6.671875 C 5.296875 -6.765625 5.296875 -6.828125 5.296875 -6.859375 L 5.296875 -9.5625 L 6.453125 -9.5625 L 6.453125 -1.4375 C 6.453125 -1.269531 6.453125 -1.109375 6.453125 -0.953125 C 6.453125 -0.796875 6.453125 -0.648438 6.453125 -0.515625 C 6.460938 -0.390625 6.46875 -0.28125 6.46875 -0.1875 C 6.476562 -0.101562 6.484375 -0.0390625 6.484375 0 L 5.390625 0 C 5.378906 -0.0390625 5.367188 -0.0976562 5.359375 -0.171875 C 5.347656 -0.253906 5.335938 -0.347656 5.328125 -0.453125 C 5.328125 -0.554688 5.320312 -0.664062 5.3125 -0.78125 C 5.3125 -0.894531 5.3125 -1.007812 5.3125 -1.125 Z M 1.765625 -3.5 C 1.765625 -3.007812 1.796875 -2.59375 1.859375 -2.25 C 1.921875 -1.90625 2.019531 -1.625 2.15625 -1.40625 C 2.289062 -1.1875 2.457031 -1.023438 2.65625 -0.921875 C 2.863281 -0.816406 3.117188 -0.765625 3.421875 -0.765625 C 3.722656 -0.765625 3.988281 -0.8125 4.21875 -0.90625 C 4.457031 -1.007812 4.65625 -1.171875 4.8125 -1.390625 C 4.96875 -1.617188 5.085938 -1.910156 5.171875 -2.265625 C 5.253906 -2.617188 5.296875 -3.054688 5.296875 -3.578125 C 5.296875 -4.066406 5.253906 -4.484375 5.171875 -4.828125 C 5.085938 -5.171875 4.96875 -5.445312 4.8125 -5.65625 C 4.65625 -5.863281 4.457031 -6.015625 4.21875 -6.109375 C 3.988281 -6.203125 3.726562 -6.25 3.4375 -6.25 C 3.144531 -6.25 2.894531 -6.195312 2.6875 -6.09375 C 2.488281 -6 2.316406 -5.84375 2.171875 -5.625 C 2.035156 -5.40625 1.929688 -5.117188 1.859375 -4.765625 C 1.796875 -4.410156 1.765625 -3.988281 1.765625 -3.5 Z M 1.765625 -3.5 \"/>\n",
       "</symbol>\n",
       "<symbol overflow=\"visible\" id=\"glyph3-26\">\n",
       "<path style=\"stroke:none;\" d=\"M 5.046875 0 L 3.765625 0 L 0.0625 -9.078125 L 1.359375 -9.078125 L 3.875 -2.6875 C 3.9375 -2.488281 4 -2.296875 4.0625 -2.109375 C 4.125 -1.921875 4.179688 -1.75 4.234375 -1.59375 C 4.296875 -1.414062 4.351562 -1.242188 4.40625 -1.078125 C 4.457031 -1.242188 4.515625 -1.410156 4.578125 -1.578125 C 4.628906 -1.734375 4.6875 -1.90625 4.75 -2.09375 C 4.8125 -2.28125 4.878906 -2.476562 4.953125 -2.6875 L 7.453125 -9.078125 L 8.75 -9.078125 Z M 5.046875 0 \"/>\n",
       "</symbol>\n",
       "<symbol overflow=\"visible\" id=\"glyph3-27\">\n",
       "<path style=\"stroke:none;\" d=\"M 2.328125 -6.125 L 2.328125 0 L 1.171875 0 L 1.171875 -6.125 L 0.1875 -6.125 L 0.1875 -6.96875 L 1.171875 -6.96875 L 1.171875 -7.765625 C 1.171875 -8.015625 1.191406 -8.25 1.234375 -8.46875 C 1.285156 -8.6875 1.375 -8.875 1.5 -9.03125 C 1.625 -9.195312 1.796875 -9.320312 2.015625 -9.40625 C 2.234375 -9.5 2.519531 -9.546875 2.875 -9.546875 C 3.007812 -9.546875 3.148438 -9.539062 3.296875 -9.53125 C 3.441406 -9.519531 3.570312 -9.503906 3.6875 -9.484375 L 3.6875 -8.59375 C 3.613281 -8.601562 3.523438 -8.613281 3.421875 -8.625 C 3.328125 -8.632812 3.242188 -8.640625 3.171875 -8.640625 C 2.992188 -8.640625 2.847656 -8.613281 2.734375 -8.5625 C 2.628906 -8.519531 2.546875 -8.453125 2.484375 -8.359375 C 2.421875 -8.273438 2.378906 -8.171875 2.359375 -8.046875 C 2.335938 -7.921875 2.328125 -7.769531 2.328125 -7.59375 L 2.328125 -6.96875 L 3.6875 -6.96875 L 3.6875 -6.125 Z M 2.328125 -6.125 \"/>\n",
       "</symbol>\n",
       "<symbol overflow=\"visible\" id=\"glyph3-28\">\n",
       "<path style=\"stroke:none;\" d=\"M 7.125 0 L 3.5 -4.390625 L 2.3125 -3.484375 L 2.3125 0 L 1.078125 0 L 1.078125 -9.078125 L 2.3125 -9.078125 L 2.3125 -4.53125 L 6.6875 -9.078125 L 8.140625 -9.078125 L 4.28125 -5.140625 L 8.65625 0 Z M 7.125 0 \"/>\n",
       "</symbol>\n",
       "</g>\n",
       "<clipPath id=\"clip1\">\n",
       "  <path d=\"M 40.152344 23.957031 L 498.523438 23.957031 L 498.523438 471.847656 L 40.152344 471.847656 Z M 40.152344 23.957031 \"/>\n",
       "</clipPath>\n",
       "<clipPath id=\"clip2\">\n",
       "  <path d=\"M 40.152344 383 L 498.523438 383 L 498.523438 384 L 40.152344 384 Z M 40.152344 383 \"/>\n",
       "</clipPath>\n",
       "<clipPath id=\"clip3\">\n",
       "  <path d=\"M 40.152344 247 L 498.523438 247 L 498.523438 249 L 40.152344 249 Z M 40.152344 247 \"/>\n",
       "</clipPath>\n",
       "<clipPath id=\"clip4\">\n",
       "  <path d=\"M 40.152344 111 L 498.523438 111 L 498.523438 113 L 40.152344 113 Z M 40.152344 111 \"/>\n",
       "</clipPath>\n",
       "<clipPath id=\"clip5\">\n",
       "  <path d=\"M 43 23.957031 L 44 23.957031 L 44 471.847656 L 43 471.847656 Z M 43 23.957031 \"/>\n",
       "</clipPath>\n",
       "<clipPath id=\"clip6\">\n",
       "  <path d=\"M 78 23.957031 L 79 23.957031 L 79 471.847656 L 78 471.847656 Z M 78 23.957031 \"/>\n",
       "</clipPath>\n",
       "<clipPath id=\"clip7\">\n",
       "  <path d=\"M 112 23.957031 L 114 23.957031 L 114 471.847656 L 112 471.847656 Z M 112 23.957031 \"/>\n",
       "</clipPath>\n",
       "<clipPath id=\"clip8\">\n",
       "  <path d=\"M 147 23.957031 L 149 23.957031 L 149 471.847656 L 147 471.847656 Z M 147 23.957031 \"/>\n",
       "</clipPath>\n",
       "<clipPath id=\"clip9\">\n",
       "  <path d=\"M 182 23.957031 L 183 23.957031 L 183 471.847656 L 182 471.847656 Z M 182 23.957031 \"/>\n",
       "</clipPath>\n",
       "<clipPath id=\"clip10\">\n",
       "  <path d=\"M 216 23.957031 L 218 23.957031 L 218 471.847656 L 216 471.847656 Z M 216 23.957031 \"/>\n",
       "</clipPath>\n",
       "<clipPath id=\"clip11\">\n",
       "  <path d=\"M 251 23.957031 L 253 23.957031 L 253 471.847656 L 251 471.847656 Z M 251 23.957031 \"/>\n",
       "</clipPath>\n",
       "<clipPath id=\"clip12\">\n",
       "  <path d=\"M 286 23.957031 L 287 23.957031 L 287 471.847656 L 286 471.847656 Z M 286 23.957031 \"/>\n",
       "</clipPath>\n",
       "<clipPath id=\"clip13\">\n",
       "  <path d=\"M 321 23.957031 L 322 23.957031 L 322 471.847656 L 321 471.847656 Z M 321 23.957031 \"/>\n",
       "</clipPath>\n",
       "<clipPath id=\"clip14\">\n",
       "  <path d=\"M 355 23.957031 L 357 23.957031 L 357 471.847656 L 355 471.847656 Z M 355 23.957031 \"/>\n",
       "</clipPath>\n",
       "<clipPath id=\"clip15\">\n",
       "  <path d=\"M 390 23.957031 L 392 23.957031 L 392 471.847656 L 390 471.847656 Z M 390 23.957031 \"/>\n",
       "</clipPath>\n",
       "<clipPath id=\"clip16\">\n",
       "  <path d=\"M 425 23.957031 L 426 23.957031 L 426 471.847656 L 425 471.847656 Z M 425 23.957031 \"/>\n",
       "</clipPath>\n",
       "<clipPath id=\"clip17\">\n",
       "  <path d=\"M 460 23.957031 L 461 23.957031 L 461 471.847656 L 460 471.847656 Z M 460 23.957031 \"/>\n",
       "</clipPath>\n",
       "<clipPath id=\"clip18\">\n",
       "  <path d=\"M 494 23.957031 L 496 23.957031 L 496 471.847656 L 494 471.847656 Z M 494 23.957031 \"/>\n",
       "</clipPath>\n",
       "<clipPath id=\"clip19\">\n",
       "  <path d=\"M 40.152344 450 L 498.523438 450 L 498.523438 453 L 40.152344 453 Z M 40.152344 450 \"/>\n",
       "</clipPath>\n",
       "<clipPath id=\"clip20\">\n",
       "  <path d=\"M 40.152344 315 L 498.523438 315 L 498.523438 317 L 40.152344 317 Z M 40.152344 315 \"/>\n",
       "</clipPath>\n",
       "<clipPath id=\"clip21\">\n",
       "  <path d=\"M 40.152344 179 L 498.523438 179 L 498.523438 181 L 40.152344 181 Z M 40.152344 179 \"/>\n",
       "</clipPath>\n",
       "<clipPath id=\"clip22\">\n",
       "  <path d=\"M 40.152344 43 L 498.523438 43 L 498.523438 45 L 40.152344 45 Z M 40.152344 43 \"/>\n",
       "</clipPath>\n",
       "<clipPath id=\"clip23\">\n",
       "  <path d=\"M 60 23.957031 L 62 23.957031 L 62 471.847656 L 60 471.847656 Z M 60 23.957031 \"/>\n",
       "</clipPath>\n",
       "<clipPath id=\"clip24\">\n",
       "  <path d=\"M 95 23.957031 L 97 23.957031 L 97 471.847656 L 95 471.847656 Z M 95 23.957031 \"/>\n",
       "</clipPath>\n",
       "<clipPath id=\"clip25\">\n",
       "  <path d=\"M 129 23.957031 L 131 23.957031 L 131 471.847656 L 129 471.847656 Z M 129 23.957031 \"/>\n",
       "</clipPath>\n",
       "<clipPath id=\"clip26\">\n",
       "  <path d=\"M 164 23.957031 L 166 23.957031 L 166 471.847656 L 164 471.847656 Z M 164 23.957031 \"/>\n",
       "</clipPath>\n",
       "<clipPath id=\"clip27\">\n",
       "  <path d=\"M 199 23.957031 L 201 23.957031 L 201 471.847656 L 199 471.847656 Z M 199 23.957031 \"/>\n",
       "</clipPath>\n",
       "<clipPath id=\"clip28\">\n",
       "  <path d=\"M 234 23.957031 L 236 23.957031 L 236 471.847656 L 234 471.847656 Z M 234 23.957031 \"/>\n",
       "</clipPath>\n",
       "<clipPath id=\"clip29\">\n",
       "  <path d=\"M 268 23.957031 L 270 23.957031 L 270 471.847656 L 268 471.847656 Z M 268 23.957031 \"/>\n",
       "</clipPath>\n",
       "<clipPath id=\"clip30\">\n",
       "  <path d=\"M 303 23.957031 L 305 23.957031 L 305 471.847656 L 303 471.847656 Z M 303 23.957031 \"/>\n",
       "</clipPath>\n",
       "<clipPath id=\"clip31\">\n",
       "  <path d=\"M 338 23.957031 L 340 23.957031 L 340 471.847656 L 338 471.847656 Z M 338 23.957031 \"/>\n",
       "</clipPath>\n",
       "<clipPath id=\"clip32\">\n",
       "  <path d=\"M 372 23.957031 L 375 23.957031 L 375 471.847656 L 372 471.847656 Z M 372 23.957031 \"/>\n",
       "</clipPath>\n",
       "<clipPath id=\"clip33\">\n",
       "  <path d=\"M 407 23.957031 L 409 23.957031 L 409 471.847656 L 407 471.847656 Z M 407 23.957031 \"/>\n",
       "</clipPath>\n",
       "<clipPath id=\"clip34\">\n",
       "  <path d=\"M 442 23.957031 L 444 23.957031 L 444 471.847656 L 442 471.847656 Z M 442 23.957031 \"/>\n",
       "</clipPath>\n",
       "<clipPath id=\"clip35\">\n",
       "  <path d=\"M 477 23.957031 L 479 23.957031 L 479 471.847656 L 477 471.847656 Z M 477 23.957031 \"/>\n",
       "</clipPath>\n",
       "</defs>\n",
       "<g id=\"surface225\">\n",
       "<rect x=\"0\" y=\"0\" width=\"504\" height=\"504\" style=\"fill:rgb(100%,100%,100%);fill-opacity:1;stroke:none;\"/>\n",
       "<rect x=\"0\" y=\"0\" width=\"504\" height=\"504\" style=\"fill:rgb(100%,100%,100%);fill-opacity:1;stroke:none;\"/>\n",
       "<path style=\"fill:none;stroke-width:1.066978;stroke-linecap:round;stroke-linejoin:round;stroke:rgb(100%,100%,100%);stroke-opacity:1;stroke-miterlimit:10;\" d=\"M 0 504 L 504 504 L 504 0 L 0 0 Z M 0 504 \"/>\n",
       "<g clip-path=\"url(#clip1)\" clip-rule=\"nonzero\">\n",
       "<path style=\" stroke:none;fill-rule:nonzero;fill:rgb(92.156863%,92.156863%,92.156863%);fill-opacity:1;\" d=\"M 40.152344 471.847656 L 498.523438 471.847656 L 498.523438 23.957031 L 40.152344 23.957031 Z M 40.152344 471.847656 \"/>\n",
       "</g>\n",
       "<g clip-path=\"url(#clip2)\" clip-rule=\"nonzero\">\n",
       "<path style=\"fill:none;stroke-width:0.533489;stroke-linecap:butt;stroke-linejoin:round;stroke:rgb(100%,100%,100%);stroke-opacity:1;stroke-miterlimit:10;\" d=\"M 40.152344 383.628906 L 498.519531 383.628906 \"/>\n",
       "</g>\n",
       "<g clip-path=\"url(#clip3)\" clip-rule=\"nonzero\">\n",
       "<path style=\"fill:none;stroke-width:0.533489;stroke-linecap:butt;stroke-linejoin:round;stroke:rgb(100%,100%,100%);stroke-opacity:1;stroke-miterlimit:10;\" d=\"M 40.152344 247.902344 L 498.519531 247.902344 \"/>\n",
       "</g>\n",
       "<g clip-path=\"url(#clip4)\" clip-rule=\"nonzero\">\n",
       "<path style=\"fill:none;stroke-width:0.533489;stroke-linecap:butt;stroke-linejoin:round;stroke:rgb(100%,100%,100%);stroke-opacity:1;stroke-miterlimit:10;\" d=\"M 40.152344 112.179688 L 498.519531 112.179688 \"/>\n",
       "</g>\n",
       "<g clip-path=\"url(#clip5)\" clip-rule=\"nonzero\">\n",
       "<path style=\"fill:none;stroke-width:0.533489;stroke-linecap:butt;stroke-linejoin:round;stroke:rgb(100%,100%,100%);stroke-opacity:1;stroke-miterlimit:10;\" d=\"M 43.625 471.847656 L 43.625 23.957031 \"/>\n",
       "</g>\n",
       "<g clip-path=\"url(#clip6)\" clip-rule=\"nonzero\">\n",
       "<path style=\"fill:none;stroke-width:0.533489;stroke-linecap:butt;stroke-linejoin:round;stroke:rgb(100%,100%,100%);stroke-opacity:1;stroke-miterlimit:10;\" d=\"M 78.347656 471.847656 L 78.347656 23.957031 \"/>\n",
       "</g>\n",
       "<g clip-path=\"url(#clip7)\" clip-rule=\"nonzero\">\n",
       "<path style=\"fill:none;stroke-width:0.533489;stroke-linecap:butt;stroke-linejoin:round;stroke:rgb(100%,100%,100%);stroke-opacity:1;stroke-miterlimit:10;\" d=\"M 113.074219 471.847656 L 113.074219 23.957031 \"/>\n",
       "</g>\n",
       "<g clip-path=\"url(#clip8)\" clip-rule=\"nonzero\">\n",
       "<path style=\"fill:none;stroke-width:0.533489;stroke-linecap:butt;stroke-linejoin:round;stroke:rgb(100%,100%,100%);stroke-opacity:1;stroke-miterlimit:10;\" d=\"M 147.796875 471.847656 L 147.796875 23.957031 \"/>\n",
       "</g>\n",
       "<g clip-path=\"url(#clip9)\" clip-rule=\"nonzero\">\n",
       "<path style=\"fill:none;stroke-width:0.533489;stroke-linecap:butt;stroke-linejoin:round;stroke:rgb(100%,100%,100%);stroke-opacity:1;stroke-miterlimit:10;\" d=\"M 182.523438 471.847656 L 182.523438 23.957031 \"/>\n",
       "</g>\n",
       "<g clip-path=\"url(#clip10)\" clip-rule=\"nonzero\">\n",
       "<path style=\"fill:none;stroke-width:0.533489;stroke-linecap:butt;stroke-linejoin:round;stroke:rgb(100%,100%,100%);stroke-opacity:1;stroke-miterlimit:10;\" d=\"M 217.25 471.847656 L 217.25 23.957031 \"/>\n",
       "</g>\n",
       "<g clip-path=\"url(#clip11)\" clip-rule=\"nonzero\">\n",
       "<path style=\"fill:none;stroke-width:0.533489;stroke-linecap:butt;stroke-linejoin:round;stroke:rgb(100%,100%,100%);stroke-opacity:1;stroke-miterlimit:10;\" d=\"M 251.972656 471.847656 L 251.972656 23.957031 \"/>\n",
       "</g>\n",
       "<g clip-path=\"url(#clip12)\" clip-rule=\"nonzero\">\n",
       "<path style=\"fill:none;stroke-width:0.533489;stroke-linecap:butt;stroke-linejoin:round;stroke:rgb(100%,100%,100%);stroke-opacity:1;stroke-miterlimit:10;\" d=\"M 286.699219 471.847656 L 286.699219 23.957031 \"/>\n",
       "</g>\n",
       "<g clip-path=\"url(#clip13)\" clip-rule=\"nonzero\">\n",
       "<path style=\"fill:none;stroke-width:0.533489;stroke-linecap:butt;stroke-linejoin:round;stroke:rgb(100%,100%,100%);stroke-opacity:1;stroke-miterlimit:10;\" d=\"M 321.421875 471.847656 L 321.421875 23.957031 \"/>\n",
       "</g>\n",
       "<g clip-path=\"url(#clip14)\" clip-rule=\"nonzero\">\n",
       "<path style=\"fill:none;stroke-width:0.533489;stroke-linecap:butt;stroke-linejoin:round;stroke:rgb(100%,100%,100%);stroke-opacity:1;stroke-miterlimit:10;\" d=\"M 356.148438 471.847656 L 356.148438 23.957031 \"/>\n",
       "</g>\n",
       "<g clip-path=\"url(#clip15)\" clip-rule=\"nonzero\">\n",
       "<path style=\"fill:none;stroke-width:0.533489;stroke-linecap:butt;stroke-linejoin:round;stroke:rgb(100%,100%,100%);stroke-opacity:1;stroke-miterlimit:10;\" d=\"M 390.875 471.847656 L 390.875 23.957031 \"/>\n",
       "</g>\n",
       "<g clip-path=\"url(#clip16)\" clip-rule=\"nonzero\">\n",
       "<path style=\"fill:none;stroke-width:0.533489;stroke-linecap:butt;stroke-linejoin:round;stroke:rgb(100%,100%,100%);stroke-opacity:1;stroke-miterlimit:10;\" d=\"M 425.597656 471.847656 L 425.597656 23.957031 \"/>\n",
       "</g>\n",
       "<g clip-path=\"url(#clip17)\" clip-rule=\"nonzero\">\n",
       "<path style=\"fill:none;stroke-width:0.533489;stroke-linecap:butt;stroke-linejoin:round;stroke:rgb(100%,100%,100%);stroke-opacity:1;stroke-miterlimit:10;\" d=\"M 460.324219 471.847656 L 460.324219 23.957031 \"/>\n",
       "</g>\n",
       "<g clip-path=\"url(#clip18)\" clip-rule=\"nonzero\">\n",
       "<path style=\"fill:none;stroke-width:0.533489;stroke-linecap:butt;stroke-linejoin:round;stroke:rgb(100%,100%,100%);stroke-opacity:1;stroke-miterlimit:10;\" d=\"M 495.046875 471.847656 L 495.046875 23.957031 \"/>\n",
       "</g>\n",
       "<g clip-path=\"url(#clip19)\" clip-rule=\"nonzero\">\n",
       "<path style=\"fill:none;stroke-width:1.066978;stroke-linecap:butt;stroke-linejoin:round;stroke:rgb(100%,100%,100%);stroke-opacity:1;stroke-miterlimit:10;\" d=\"M 40.152344 451.492188 L 498.519531 451.492188 \"/>\n",
       "</g>\n",
       "<g clip-path=\"url(#clip20)\" clip-rule=\"nonzero\">\n",
       "<path style=\"fill:none;stroke-width:1.066978;stroke-linecap:butt;stroke-linejoin:round;stroke:rgb(100%,100%,100%);stroke-opacity:1;stroke-miterlimit:10;\" d=\"M 40.152344 315.765625 L 498.519531 315.765625 \"/>\n",
       "</g>\n",
       "<g clip-path=\"url(#clip21)\" clip-rule=\"nonzero\">\n",
       "<path style=\"fill:none;stroke-width:1.066978;stroke-linecap:butt;stroke-linejoin:round;stroke:rgb(100%,100%,100%);stroke-opacity:1;stroke-miterlimit:10;\" d=\"M 40.152344 180.042969 L 498.519531 180.042969 \"/>\n",
       "</g>\n",
       "<g clip-path=\"url(#clip22)\" clip-rule=\"nonzero\">\n",
       "<path style=\"fill:none;stroke-width:1.066978;stroke-linecap:butt;stroke-linejoin:round;stroke:rgb(100%,100%,100%);stroke-opacity:1;stroke-miterlimit:10;\" d=\"M 40.152344 44.316406 L 498.519531 44.316406 \"/>\n",
       "</g>\n",
       "<g clip-path=\"url(#clip23)\" clip-rule=\"nonzero\">\n",
       "<path style=\"fill:none;stroke-width:1.066978;stroke-linecap:butt;stroke-linejoin:round;stroke:rgb(100%,100%,100%);stroke-opacity:1;stroke-miterlimit:10;\" d=\"M 60.984375 471.847656 L 60.984375 23.957031 \"/>\n",
       "</g>\n",
       "<g clip-path=\"url(#clip24)\" clip-rule=\"nonzero\">\n",
       "<path style=\"fill:none;stroke-width:1.066978;stroke-linecap:butt;stroke-linejoin:round;stroke:rgb(100%,100%,100%);stroke-opacity:1;stroke-miterlimit:10;\" d=\"M 95.710938 471.847656 L 95.710938 23.957031 \"/>\n",
       "</g>\n",
       "<g clip-path=\"url(#clip25)\" clip-rule=\"nonzero\">\n",
       "<path style=\"fill:none;stroke-width:1.066978;stroke-linecap:butt;stroke-linejoin:round;stroke:rgb(100%,100%,100%);stroke-opacity:1;stroke-miterlimit:10;\" d=\"M 130.4375 471.847656 L 130.4375 23.957031 \"/>\n",
       "</g>\n",
       "<g clip-path=\"url(#clip26)\" clip-rule=\"nonzero\">\n",
       "<path style=\"fill:none;stroke-width:1.066978;stroke-linecap:butt;stroke-linejoin:round;stroke:rgb(100%,100%,100%);stroke-opacity:1;stroke-miterlimit:10;\" d=\"M 165.160156 471.847656 L 165.160156 23.957031 \"/>\n",
       "</g>\n",
       "<g clip-path=\"url(#clip27)\" clip-rule=\"nonzero\">\n",
       "<path style=\"fill:none;stroke-width:1.066978;stroke-linecap:butt;stroke-linejoin:round;stroke:rgb(100%,100%,100%);stroke-opacity:1;stroke-miterlimit:10;\" d=\"M 199.886719 471.847656 L 199.886719 23.957031 \"/>\n",
       "</g>\n",
       "<g clip-path=\"url(#clip28)\" clip-rule=\"nonzero\">\n",
       "<path style=\"fill:none;stroke-width:1.066978;stroke-linecap:butt;stroke-linejoin:round;stroke:rgb(100%,100%,100%);stroke-opacity:1;stroke-miterlimit:10;\" d=\"M 234.609375 471.847656 L 234.609375 23.957031 \"/>\n",
       "</g>\n",
       "<g clip-path=\"url(#clip29)\" clip-rule=\"nonzero\">\n",
       "<path style=\"fill:none;stroke-width:1.066978;stroke-linecap:butt;stroke-linejoin:round;stroke:rgb(100%,100%,100%);stroke-opacity:1;stroke-miterlimit:10;\" d=\"M 269.335938 471.847656 L 269.335938 23.957031 \"/>\n",
       "</g>\n",
       "<g clip-path=\"url(#clip30)\" clip-rule=\"nonzero\">\n",
       "<path style=\"fill:none;stroke-width:1.066978;stroke-linecap:butt;stroke-linejoin:round;stroke:rgb(100%,100%,100%);stroke-opacity:1;stroke-miterlimit:10;\" d=\"M 304.0625 471.847656 L 304.0625 23.957031 \"/>\n",
       "</g>\n",
       "<g clip-path=\"url(#clip31)\" clip-rule=\"nonzero\">\n",
       "<path style=\"fill:none;stroke-width:1.066978;stroke-linecap:butt;stroke-linejoin:round;stroke:rgb(100%,100%,100%);stroke-opacity:1;stroke-miterlimit:10;\" d=\"M 338.785156 471.847656 L 338.785156 23.957031 \"/>\n",
       "</g>\n",
       "<g clip-path=\"url(#clip32)\" clip-rule=\"nonzero\">\n",
       "<path style=\"fill:none;stroke-width:1.066978;stroke-linecap:butt;stroke-linejoin:round;stroke:rgb(100%,100%,100%);stroke-opacity:1;stroke-miterlimit:10;\" d=\"M 373.511719 471.847656 L 373.511719 23.957031 \"/>\n",
       "</g>\n",
       "<g clip-path=\"url(#clip33)\" clip-rule=\"nonzero\">\n",
       "<path style=\"fill:none;stroke-width:1.066978;stroke-linecap:butt;stroke-linejoin:round;stroke:rgb(100%,100%,100%);stroke-opacity:1;stroke-miterlimit:10;\" d=\"M 408.234375 471.847656 L 408.234375 23.957031 \"/>\n",
       "</g>\n",
       "<g clip-path=\"url(#clip34)\" clip-rule=\"nonzero\">\n",
       "<path style=\"fill:none;stroke-width:1.066978;stroke-linecap:butt;stroke-linejoin:round;stroke:rgb(100%,100%,100%);stroke-opacity:1;stroke-miterlimit:10;\" d=\"M 442.960938 471.847656 L 442.960938 23.957031 \"/>\n",
       "</g>\n",
       "<g clip-path=\"url(#clip35)\" clip-rule=\"nonzero\">\n",
       "<path style=\"fill:none;stroke-width:1.066978;stroke-linecap:butt;stroke-linejoin:round;stroke:rgb(100%,100%,100%);stroke-opacity:1;stroke-miterlimit:10;\" d=\"M 477.6875 471.847656 L 477.6875 23.957031 \"/>\n",
       "</g>\n",
       "<path style=\"fill-rule:nonzero;fill:rgb(0%,0%,0%);fill-opacity:1;stroke-width:0.708661;stroke-linecap:round;stroke-linejoin:round;stroke:rgb(0%,0%,0%);stroke-opacity:1;stroke-miterlimit:10;\" d=\"M 62.941406 265.039062 C 62.941406 267.644531 59.03125 267.644531 59.03125 265.039062 C 59.03125 262.429688 62.941406 262.429688 62.941406 265.039062 \"/>\n",
       "<path style=\"fill-rule:nonzero;fill:rgb(0%,0%,0%);fill-opacity:1;stroke-width:0.708661;stroke-linecap:round;stroke-linejoin:round;stroke:rgb(0%,0%,0%);stroke-opacity:1;stroke-miterlimit:10;\" d=\"M 132.390625 144.445312 C 132.390625 147.050781 128.480469 147.050781 128.480469 144.445312 C 128.480469 141.839844 132.390625 141.839844 132.390625 144.445312 \"/>\n",
       "<path style=\"fill-rule:nonzero;fill:rgb(0%,0%,0%);fill-opacity:1;stroke-width:0.708661;stroke-linecap:round;stroke-linejoin:round;stroke:rgb(0%,0%,0%);stroke-opacity:1;stroke-miterlimit:10;\" d=\"M 167.117188 137.109375 C 167.117188 139.714844 163.207031 139.714844 163.207031 137.109375 C 163.207031 134.503906 167.117188 134.503906 167.117188 137.109375 \"/>\n",
       "<path style=\"fill-rule:nonzero;fill:rgb(0%,0%,0%);fill-opacity:1;stroke-width:0.708661;stroke-linecap:round;stroke-linejoin:round;stroke:rgb(0%,0%,0%);stroke-opacity:1;stroke-miterlimit:10;\" d=\"M 236.566406 124.855469 C 236.566406 127.460938 232.65625 127.460938 232.65625 124.855469 C 232.65625 122.25 236.566406 122.25 236.566406 124.855469 \"/>\n",
       "<path style=\"fill-rule:nonzero;fill:rgb(0%,0%,0%);fill-opacity:1;stroke-width:0.708661;stroke-linecap:round;stroke-linejoin:round;stroke:rgb(0%,0%,0%);stroke-opacity:1;stroke-miterlimit:10;\" d=\"M 271.289062 124.855469 C 271.289062 127.460938 267.378906 127.460938 267.378906 124.855469 C 267.378906 122.25 271.289062 122.25 271.289062 124.855469 \"/>\n",
       "<path style=\"fill-rule:nonzero;fill:rgb(0%,0%,0%);fill-opacity:1;stroke-width:0.708661;stroke-linecap:round;stroke-linejoin:round;stroke:rgb(0%,0%,0%);stroke-opacity:1;stroke-miterlimit:10;\" d=\"M 306.015625 159.332031 C 306.015625 161.9375 302.105469 161.9375 302.105469 159.332031 C 302.105469 156.726562 306.015625 156.726562 306.015625 159.332031 \"/>\n",
       "<path style=\"fill-rule:nonzero;fill:rgb(0%,0%,0%);fill-opacity:1;stroke-width:0.708661;stroke-linecap:round;stroke-linejoin:round;stroke:rgb(0%,0%,0%);stroke-opacity:1;stroke-miterlimit:10;\" d=\"M 375.464844 142.152344 C 375.464844 144.757812 371.554688 144.757812 371.554688 142.152344 C 371.554688 139.546875 375.464844 139.546875 375.464844 142.152344 \"/>\n",
       "<path style=\"fill-rule:nonzero;fill:rgb(0%,0%,0%);fill-opacity:1;stroke-width:0.708661;stroke-linecap:round;stroke-linejoin:round;stroke:rgb(0%,0%,0%);stroke-opacity:1;stroke-miterlimit:10;\" d=\"M 410.191406 142.152344 C 410.191406 144.757812 406.28125 144.757812 406.28125 142.152344 C 406.28125 139.546875 410.191406 139.546875 410.191406 142.152344 \"/>\n",
       "<path style=\"fill-rule:nonzero;fill:rgb(0%,0%,0%);fill-opacity:1;stroke-width:0.708661;stroke-linecap:round;stroke-linejoin:round;stroke:rgb(0%,0%,0%);stroke-opacity:1;stroke-miterlimit:10;\" d=\"M 444.914062 164.277344 C 444.914062 166.882812 441.003906 166.882812 441.003906 164.277344 C 441.003906 161.667969 444.914062 161.667969 444.914062 164.277344 \"/>\n",
       "<path style=\"fill-rule:nonzero;fill:rgb(0%,0%,0%);fill-opacity:1;stroke-width:0.708661;stroke-linecap:round;stroke-linejoin:round;stroke:rgb(0%,0%,0%);stroke-opacity:1;stroke-miterlimit:10;\" d=\"M 479.640625 161.820312 C 479.640625 164.429688 475.730469 164.429688 475.730469 161.820312 C 475.730469 159.214844 479.640625 159.214844 479.640625 161.820312 \"/>\n",
       "<path style=\"fill:none;stroke-width:1.066978;stroke-linecap:butt;stroke-linejoin:round;stroke:rgb(0%,0%,0%);stroke-opacity:1;stroke-miterlimit:10;\" d=\"M 60.984375 265.039062 L 130.4375 144.445312 L 165.160156 137.109375 L 234.609375 124.855469 L 269.335938 124.855469 L 304.0625 159.332031 L 373.511719 142.152344 L 408.234375 142.152344 L 442.960938 164.277344 L 477.6875 161.820312 \"/>\n",
       "<g style=\"fill:rgb(30.196078%,30.196078%,30.196078%);fill-opacity:1;\">\n",
       "  <use xlink:href=\"#glyph0-1\" x=\"18.21875\" y=\"454.958008\"/>\n",
       "  <use xlink:href=\"#glyph0-2\" x=\"23.21875\" y=\"454.958008\"/>\n",
       "  <use xlink:href=\"#glyph0-3\" x=\"25.21875\" y=\"454.958008\"/>\n",
       "  <use xlink:href=\"#glyph0-1\" x=\"30.21875\" y=\"454.958008\"/>\n",
       "</g>\n",
       "<g style=\"fill:rgb(30.196078%,30.196078%,30.196078%);fill-opacity:1;\">\n",
       "  <use xlink:href=\"#glyph0-1\" x=\"18.21875\" y=\"319.231445\"/>\n",
       "  <use xlink:href=\"#glyph0-2\" x=\"23.21875\" y=\"319.231445\"/>\n",
       "  <use xlink:href=\"#glyph0-3\" x=\"25.21875\" y=\"319.231445\"/>\n",
       "  <use xlink:href=\"#glyph0-4\" x=\"30.21875\" y=\"319.231445\"/>\n",
       "</g>\n",
       "<g style=\"fill:rgb(30.196078%,30.196078%,30.196078%);fill-opacity:1;\">\n",
       "  <use xlink:href=\"#glyph0-1\" x=\"18.21875\" y=\"183.508789\"/>\n",
       "  <use xlink:href=\"#glyph0-2\" x=\"23.21875\" y=\"183.508789\"/>\n",
       "  <use xlink:href=\"#glyph0-3\" x=\"25.21875\" y=\"183.508789\"/>\n",
       "  <use xlink:href=\"#glyph0-5\" x=\"30.21875\" y=\"183.508789\"/>\n",
       "</g>\n",
       "<g style=\"fill:rgb(30.196078%,30.196078%,30.196078%);fill-opacity:1;\">\n",
       "  <use xlink:href=\"#glyph0-1\" x=\"18.21875\" y=\"47.782227\"/>\n",
       "  <use xlink:href=\"#glyph0-2\" x=\"23.21875\" y=\"47.782227\"/>\n",
       "  <use xlink:href=\"#glyph0-3\" x=\"25.21875\" y=\"47.782227\"/>\n",
       "  <use xlink:href=\"#glyph0-6\" x=\"30.21875\" y=\"47.782227\"/>\n",
       "</g>\n",
       "<path style=\"fill:none;stroke-width:1.066978;stroke-linecap:butt;stroke-linejoin:round;stroke:rgb(20%,20%,20%);stroke-opacity:1;stroke-miterlimit:10;\" d=\"M 37.410156 451.492188 L 40.152344 451.492188 \"/>\n",
       "<path style=\"fill:none;stroke-width:1.066978;stroke-linecap:butt;stroke-linejoin:round;stroke:rgb(20%,20%,20%);stroke-opacity:1;stroke-miterlimit:10;\" d=\"M 37.410156 315.765625 L 40.152344 315.765625 \"/>\n",
       "<path style=\"fill:none;stroke-width:1.066978;stroke-linecap:butt;stroke-linejoin:round;stroke:rgb(20%,20%,20%);stroke-opacity:1;stroke-miterlimit:10;\" d=\"M 37.410156 180.042969 L 40.152344 180.042969 \"/>\n",
       "<path style=\"fill:none;stroke-width:1.066978;stroke-linecap:butt;stroke-linejoin:round;stroke:rgb(20%,20%,20%);stroke-opacity:1;stroke-miterlimit:10;\" d=\"M 37.410156 44.316406 L 40.152344 44.316406 \"/>\n",
       "<path style=\"fill:none;stroke-width:1.066978;stroke-linecap:butt;stroke-linejoin:round;stroke:rgb(20%,20%,20%);stroke-opacity:1;stroke-miterlimit:10;\" d=\"M 60.984375 474.589844 L 60.984375 471.847656 \"/>\n",
       "<path style=\"fill:none;stroke-width:1.066978;stroke-linecap:butt;stroke-linejoin:round;stroke:rgb(20%,20%,20%);stroke-opacity:1;stroke-miterlimit:10;\" d=\"M 95.710938 474.589844 L 95.710938 471.847656 \"/>\n",
       "<path style=\"fill:none;stroke-width:1.066978;stroke-linecap:butt;stroke-linejoin:round;stroke:rgb(20%,20%,20%);stroke-opacity:1;stroke-miterlimit:10;\" d=\"M 130.4375 474.589844 L 130.4375 471.847656 \"/>\n",
       "<path style=\"fill:none;stroke-width:1.066978;stroke-linecap:butt;stroke-linejoin:round;stroke:rgb(20%,20%,20%);stroke-opacity:1;stroke-miterlimit:10;\" d=\"M 165.160156 474.589844 L 165.160156 471.847656 \"/>\n",
       "<path style=\"fill:none;stroke-width:1.066978;stroke-linecap:butt;stroke-linejoin:round;stroke:rgb(20%,20%,20%);stroke-opacity:1;stroke-miterlimit:10;\" d=\"M 199.886719 474.589844 L 199.886719 471.847656 \"/>\n",
       "<path style=\"fill:none;stroke-width:1.066978;stroke-linecap:butt;stroke-linejoin:round;stroke:rgb(20%,20%,20%);stroke-opacity:1;stroke-miterlimit:10;\" d=\"M 234.609375 474.589844 L 234.609375 471.847656 \"/>\n",
       "<path style=\"fill:none;stroke-width:1.066978;stroke-linecap:butt;stroke-linejoin:round;stroke:rgb(20%,20%,20%);stroke-opacity:1;stroke-miterlimit:10;\" d=\"M 269.335938 474.589844 L 269.335938 471.847656 \"/>\n",
       "<path style=\"fill:none;stroke-width:1.066978;stroke-linecap:butt;stroke-linejoin:round;stroke:rgb(20%,20%,20%);stroke-opacity:1;stroke-miterlimit:10;\" d=\"M 304.0625 474.589844 L 304.0625 471.847656 \"/>\n",
       "<path style=\"fill:none;stroke-width:1.066978;stroke-linecap:butt;stroke-linejoin:round;stroke:rgb(20%,20%,20%);stroke-opacity:1;stroke-miterlimit:10;\" d=\"M 338.785156 474.589844 L 338.785156 471.847656 \"/>\n",
       "<path style=\"fill:none;stroke-width:1.066978;stroke-linecap:butt;stroke-linejoin:round;stroke:rgb(20%,20%,20%);stroke-opacity:1;stroke-miterlimit:10;\" d=\"M 373.511719 474.589844 L 373.511719 471.847656 \"/>\n",
       "<path style=\"fill:none;stroke-width:1.066978;stroke-linecap:butt;stroke-linejoin:round;stroke:rgb(20%,20%,20%);stroke-opacity:1;stroke-miterlimit:10;\" d=\"M 408.234375 474.589844 L 408.234375 471.847656 \"/>\n",
       "<path style=\"fill:none;stroke-width:1.066978;stroke-linecap:butt;stroke-linejoin:round;stroke:rgb(20%,20%,20%);stroke-opacity:1;stroke-miterlimit:10;\" d=\"M 442.960938 474.589844 L 442.960938 471.847656 \"/>\n",
       "<path style=\"fill:none;stroke-width:1.066978;stroke-linecap:butt;stroke-linejoin:round;stroke:rgb(20%,20%,20%);stroke-opacity:1;stroke-miterlimit:10;\" d=\"M 477.6875 474.589844 L 477.6875 471.847656 \"/>\n",
       "<g style=\"fill:rgb(30.196078%,30.196078%,30.196078%);fill-opacity:1;\">\n",
       "  <use xlink:href=\"#glyph0-4\" x=\"58.484375\" y=\"483.74707\"/>\n",
       "</g>\n",
       "<g style=\"fill:rgb(30.196078%,30.196078%,30.196078%);fill-opacity:1;\">\n",
       "  <use xlink:href=\"#glyph0-7\" x=\"93.210938\" y=\"483.74707\"/>\n",
       "</g>\n",
       "<g style=\"fill:rgb(30.196078%,30.196078%,30.196078%);fill-opacity:1;\">\n",
       "  <use xlink:href=\"#glyph0-5\" x=\"127.9375\" y=\"483.74707\"/>\n",
       "</g>\n",
       "<g style=\"fill:rgb(30.196078%,30.196078%,30.196078%);fill-opacity:1;\">\n",
       "  <use xlink:href=\"#glyph0-8\" x=\"162.660156\" y=\"483.74707\"/>\n",
       "</g>\n",
       "<g style=\"fill:rgb(30.196078%,30.196078%,30.196078%);fill-opacity:1;\">\n",
       "  <use xlink:href=\"#glyph0-6\" x=\"197.386719\" y=\"483.74707\"/>\n",
       "</g>\n",
       "<g style=\"fill:rgb(30.196078%,30.196078%,30.196078%);fill-opacity:1;\">\n",
       "  <use xlink:href=\"#glyph0-9\" x=\"232.109375\" y=\"483.74707\"/>\n",
       "</g>\n",
       "<g style=\"fill:rgb(30.196078%,30.196078%,30.196078%);fill-opacity:1;\">\n",
       "  <use xlink:href=\"#glyph0-3\" x=\"266.835938\" y=\"483.74707\"/>\n",
       "</g>\n",
       "<g style=\"fill:rgb(30.196078%,30.196078%,30.196078%);fill-opacity:1;\">\n",
       "  <use xlink:href=\"#glyph0-10\" x=\"301.5625\" y=\"483.74707\"/>\n",
       "</g>\n",
       "<g style=\"fill:rgb(30.196078%,30.196078%,30.196078%);fill-opacity:1;\">\n",
       "  <use xlink:href=\"#glyph0-11\" x=\"333.785156\" y=\"483.74707\"/>\n",
       "  <use xlink:href=\"#glyph0-1\" x=\"338.785156\" y=\"483.74707\"/>\n",
       "</g>\n",
       "<g style=\"fill:rgb(30.196078%,30.196078%,30.196078%);fill-opacity:1;\">\n",
       "  <use xlink:href=\"#glyph0-11\" x=\"368.511719\" y=\"483.74707\"/>\n",
       "  <use xlink:href=\"#glyph0-11\" x=\"373.511719\" y=\"483.74707\"/>\n",
       "</g>\n",
       "<g style=\"fill:rgb(30.196078%,30.196078%,30.196078%);fill-opacity:1;\">\n",
       "  <use xlink:href=\"#glyph0-11\" x=\"403.234375\" y=\"483.74707\"/>\n",
       "  <use xlink:href=\"#glyph0-4\" x=\"408.234375\" y=\"483.74707\"/>\n",
       "</g>\n",
       "<g style=\"fill:rgb(30.196078%,30.196078%,30.196078%);fill-opacity:1;\">\n",
       "  <use xlink:href=\"#glyph0-11\" x=\"437.960938\" y=\"483.74707\"/>\n",
       "  <use xlink:href=\"#glyph0-7\" x=\"442.960938\" y=\"483.74707\"/>\n",
       "</g>\n",
       "<g style=\"fill:rgb(30.196078%,30.196078%,30.196078%);fill-opacity:1;\">\n",
       "  <use xlink:href=\"#glyph0-11\" x=\"472.6875\" y=\"483.74707\"/>\n",
       "  <use xlink:href=\"#glyph0-5\" x=\"477.6875\" y=\"483.74707\"/>\n",
       "</g>\n",
       "<g style=\"fill:rgb(0%,0%,0%);fill-opacity:1;\">\n",
       "  <use xlink:href=\"#glyph1-1\" x=\"217.335938\" y=\"496.477539\"/>\n",
       "  <use xlink:href=\"#glyph1-2\" x=\"225.335938\" y=\"496.477539\"/>\n",
       "  <use xlink:href=\"#glyph1-3\" x=\"231.335938\" y=\"496.477539\"/>\n",
       "  <use xlink:href=\"#glyph1-4\" x=\"240.335938\" y=\"496.477539\"/>\n",
       "  <use xlink:href=\"#glyph1-5\" x=\"246.335938\" y=\"496.477539\"/>\n",
       "  <use xlink:href=\"#glyph1-6\" x=\"252.335938\" y=\"496.477539\"/>\n",
       "  <use xlink:href=\"#glyph1-7\" x=\"256.335938\" y=\"496.477539\"/>\n",
       "  <use xlink:href=\"#glyph1-8\" x=\"259.335938\" y=\"496.477539\"/>\n",
       "  <use xlink:href=\"#glyph1-9\" x=\"265.335938\" y=\"496.477539\"/>\n",
       "  <use xlink:href=\"#glyph1-7\" x=\"268.335938\" y=\"496.477539\"/>\n",
       "  <use xlink:href=\"#glyph1-1\" x=\"271.335938\" y=\"496.477539\"/>\n",
       "  <use xlink:href=\"#glyph1-5\" x=\"279.335938\" y=\"496.477539\"/>\n",
       "  <use xlink:href=\"#glyph1-10\" x=\"285.335938\" y=\"496.477539\"/>\n",
       "  <use xlink:href=\"#glyph1-11\" x=\"287.335938\" y=\"496.477539\"/>\n",
       "  <use xlink:href=\"#glyph1-12\" x=\"293.335938\" y=\"496.477539\"/>\n",
       "  <use xlink:href=\"#glyph1-4\" x=\"299.335938\" y=\"496.477539\"/>\n",
       "  <use xlink:href=\"#glyph1-8\" x=\"305.335938\" y=\"496.477539\"/>\n",
       "  <use xlink:href=\"#glyph1-6\" x=\"311.335938\" y=\"496.477539\"/>\n",
       "  <use xlink:href=\"#glyph1-13\" x=\"315.335938\" y=\"496.477539\"/>\n",
       "</g>\n",
       "<g style=\"fill:rgb(0%,0%,0%);fill-opacity:1;\">\n",
       "  <use xlink:href=\"#glyph2-1\" x=\"13.438477\" y=\"329.902344\"/>\n",
       "  <use xlink:href=\"#glyph2-2\" x=\"13.438477\" y=\"322.902344\"/>\n",
       "  <use xlink:href=\"#glyph2-2\" x=\"13.438477\" y=\"316.902344\"/>\n",
       "  <use xlink:href=\"#glyph2-3\" x=\"13.438477\" y=\"310.902344\"/>\n",
       "  <use xlink:href=\"#glyph2-4\" x=\"13.438477\" y=\"304.902344\"/>\n",
       "  <use xlink:href=\"#glyph2-5\" x=\"13.438477\" y=\"300.902344\"/>\n",
       "  <use xlink:href=\"#glyph2-2\" x=\"13.438477\" y=\"294.902344\"/>\n",
       "  <use xlink:href=\"#glyph2-6\" x=\"13.438477\" y=\"288.902344\"/>\n",
       "  <use xlink:href=\"#glyph2-7\" x=\"13.438477\" y=\"282.902344\"/>\n",
       "  <use xlink:href=\"#glyph2-8\" x=\"13.438477\" y=\"279.902344\"/>\n",
       "  <use xlink:href=\"#glyph2-9\" x=\"13.438477\" y=\"272.902344\"/>\n",
       "  <use xlink:href=\"#glyph2-10\" x=\"13.438477\" y=\"266.902344\"/>\n",
       "  <use xlink:href=\"#glyph2-11\" x=\"13.438477\" y=\"263.902344\"/>\n",
       "  <use xlink:href=\"#glyph2-12\" x=\"13.438477\" y=\"261.902344\"/>\n",
       "  <use xlink:href=\"#glyph2-5\" x=\"13.438477\" y=\"252.902344\"/>\n",
       "  <use xlink:href=\"#glyph2-10\" x=\"13.438477\" y=\"246.902344\"/>\n",
       "  <use xlink:href=\"#glyph2-13\" x=\"13.438477\" y=\"243.902344\"/>\n",
       "  <use xlink:href=\"#glyph2-9\" x=\"13.438477\" y=\"237.902344\"/>\n",
       "  <use xlink:href=\"#glyph2-7\" x=\"13.438477\" y=\"231.902344\"/>\n",
       "  <use xlink:href=\"#glyph2-14\" x=\"13.438477\" y=\"228.902344\"/>\n",
       "  <use xlink:href=\"#glyph2-13\" x=\"13.438477\" y=\"222.902344\"/>\n",
       "  <use xlink:href=\"#glyph2-4\" x=\"13.438477\" y=\"216.902344\"/>\n",
       "  <use xlink:href=\"#glyph2-7\" x=\"13.438477\" y=\"212.902344\"/>\n",
       "  <use xlink:href=\"#glyph2-15\" x=\"13.438477\" y=\"209.902344\"/>\n",
       "  <use xlink:href=\"#glyph2-13\" x=\"13.438477\" y=\"201.902344\"/>\n",
       "  <use xlink:href=\"#glyph2-11\" x=\"13.438477\" y=\"195.902344\"/>\n",
       "  <use xlink:href=\"#glyph2-16\" x=\"13.438477\" y=\"193.902344\"/>\n",
       "  <use xlink:href=\"#glyph2-17\" x=\"13.438477\" y=\"187.902344\"/>\n",
       "  <use xlink:href=\"#glyph2-18\" x=\"13.438477\" y=\"181.902344\"/>\n",
       "  <use xlink:href=\"#glyph2-19\" x=\"13.438477\" y=\"175.902344\"/>\n",
       "  <use xlink:href=\"#glyph2-4\" x=\"13.438477\" y=\"169.902344\"/>\n",
       "</g>\n",
       "<g style=\"fill:rgb(0%,0%,0%);fill-opacity:1;\">\n",
       "  <use xlink:href=\"#glyph3-1\" x=\"65.335938\" y=\"15.429688\"/>\n",
       "  <use xlink:href=\"#glyph3-2\" x=\"73.335938\" y=\"15.429688\"/>\n",
       "  <use xlink:href=\"#glyph3-3\" x=\"76.335938\" y=\"15.429688\"/>\n",
       "  <use xlink:href=\"#glyph3-4\" x=\"83.335938\" y=\"15.429688\"/>\n",
       "  <use xlink:href=\"#glyph3-5\" x=\"90.335938\" y=\"15.429688\"/>\n",
       "  <use xlink:href=\"#glyph3-6\" x=\"94.335938\" y=\"15.429688\"/>\n",
       "  <use xlink:href=\"#glyph3-7\" x=\"101.335938\" y=\"15.429688\"/>\n",
       "  <use xlink:href=\"#glyph3-8\" x=\"105.335938\" y=\"15.429688\"/>\n",
       "  <use xlink:href=\"#glyph3-9\" x=\"112.335938\" y=\"15.429688\"/>\n",
       "  <use xlink:href=\"#glyph3-7\" x=\"116.335938\" y=\"15.429688\"/>\n",
       "  <use xlink:href=\"#glyph3-10\" x=\"120.335938\" y=\"15.429688\"/>\n",
       "  <use xlink:href=\"#glyph3-11\" x=\"129.335938\" y=\"15.429688\"/>\n",
       "  <use xlink:href=\"#glyph3-12\" x=\"132.335938\" y=\"15.429688\"/>\n",
       "  <use xlink:href=\"#glyph3-13\" x=\"139.335938\" y=\"15.429688\"/>\n",
       "  <use xlink:href=\"#glyph3-13\" x=\"143.335938\" y=\"15.429688\"/>\n",
       "  <use xlink:href=\"#glyph3-2\" x=\"147.335938\" y=\"15.429688\"/>\n",
       "  <use xlink:href=\"#glyph3-14\" x=\"150.335938\" y=\"15.429688\"/>\n",
       "  <use xlink:href=\"#glyph3-3\" x=\"157.335938\" y=\"15.429688\"/>\n",
       "  <use xlink:href=\"#glyph3-7\" x=\"164.335938\" y=\"15.429688\"/>\n",
       "  <use xlink:href=\"#glyph3-13\" x=\"168.335938\" y=\"15.429688\"/>\n",
       "  <use xlink:href=\"#glyph3-15\" x=\"172.335938\" y=\"15.429688\"/>\n",
       "  <use xlink:href=\"#glyph3-6\" x=\"179.335938\" y=\"15.429688\"/>\n",
       "  <use xlink:href=\"#glyph3-7\" x=\"186.335938\" y=\"15.429688\"/>\n",
       "  <use xlink:href=\"#glyph3-16\" x=\"189.335938\" y=\"15.429688\"/>\n",
       "  <use xlink:href=\"#glyph3-17\" x=\"198.335938\" y=\"15.429688\"/>\n",
       "  <use xlink:href=\"#glyph3-17\" x=\"205.335938\" y=\"15.429688\"/>\n",
       "  <use xlink:href=\"#glyph3-4\" x=\"212.335938\" y=\"15.429688\"/>\n",
       "  <use xlink:href=\"#glyph3-5\" x=\"219.335938\" y=\"15.429688\"/>\n",
       "  <use xlink:href=\"#glyph3-18\" x=\"223.335938\" y=\"15.429688\"/>\n",
       "  <use xlink:href=\"#glyph3-17\" x=\"230.335938\" y=\"15.429688\"/>\n",
       "  <use xlink:href=\"#glyph3-19\" x=\"237.335938\" y=\"15.429688\"/>\n",
       "  <use xlink:href=\"#glyph3-7\" x=\"244.335938\" y=\"15.429688\"/>\n",
       "  <use xlink:href=\"#glyph3-20\" x=\"248.335938\" y=\"15.429688\"/>\n",
       "  <use xlink:href=\"#glyph3-21\" x=\"257.335938\" y=\"15.429688\"/>\n",
       "  <use xlink:href=\"#glyph3-13\" x=\"264.335938\" y=\"15.429688\"/>\n",
       "  <use xlink:href=\"#glyph3-2\" x=\"268.335938\" y=\"15.429688\"/>\n",
       "  <use xlink:href=\"#glyph3-22\" x=\"271.335938\" y=\"15.429688\"/>\n",
       "  <use xlink:href=\"#glyph3-18\" x=\"282.335938\" y=\"15.429688\"/>\n",
       "  <use xlink:href=\"#glyph3-13\" x=\"289.335938\" y=\"15.429688\"/>\n",
       "  <use xlink:href=\"#glyph3-6\" x=\"293.335938\" y=\"15.429688\"/>\n",
       "  <use xlink:href=\"#glyph3-7\" x=\"300.335938\" y=\"15.429688\"/>\n",
       "  <use xlink:href=\"#glyph3-23\" x=\"304.335938\" y=\"15.429688\"/>\n",
       "  <use xlink:href=\"#glyph3-6\" x=\"311.335938\" y=\"15.429688\"/>\n",
       "  <use xlink:href=\"#glyph3-5\" x=\"318.335938\" y=\"15.429688\"/>\n",
       "  <use xlink:href=\"#glyph3-21\" x=\"322.335938\" y=\"15.429688\"/>\n",
       "  <use xlink:href=\"#glyph3-4\" x=\"329.335938\" y=\"15.429688\"/>\n",
       "  <use xlink:href=\"#glyph3-21\" x=\"336.335938\" y=\"15.429688\"/>\n",
       "  <use xlink:href=\"#glyph3-7\" x=\"343.335938\" y=\"15.429688\"/>\n",
       "  <use xlink:href=\"#glyph3-24\" x=\"347.335938\" y=\"15.429688\"/>\n",
       "  <use xlink:href=\"#glyph3-14\" x=\"351.335938\" y=\"15.429688\"/>\n",
       "  <use xlink:href=\"#glyph3-25\" x=\"358.335938\" y=\"15.429688\"/>\n",
       "  <use xlink:href=\"#glyph3-2\" x=\"365.335938\" y=\"15.429688\"/>\n",
       "  <use xlink:href=\"#glyph3-23\" x=\"368.335938\" y=\"15.429688\"/>\n",
       "  <use xlink:href=\"#glyph3-2\" x=\"375.335938\" y=\"15.429688\"/>\n",
       "  <use xlink:href=\"#glyph3-25\" x=\"378.335938\" y=\"15.429688\"/>\n",
       "  <use xlink:href=\"#glyph3-4\" x=\"385.335938\" y=\"15.429688\"/>\n",
       "  <use xlink:href=\"#glyph3-18\" x=\"392.335938\" y=\"15.429688\"/>\n",
       "  <use xlink:href=\"#glyph3-11\" x=\"399.335938\" y=\"15.429688\"/>\n",
       "  <use xlink:href=\"#glyph3-7\" x=\"402.335938\" y=\"15.429688\"/>\n",
       "  <use xlink:href=\"#glyph3-26\" x=\"406.335938\" y=\"15.429688\"/>\n",
       "  <use xlink:href=\"#glyph3-18\" x=\"414.335938\" y=\"15.429688\"/>\n",
       "  <use xlink:href=\"#glyph3-11\" x=\"421.335938\" y=\"15.429688\"/>\n",
       "  <use xlink:href=\"#glyph3-4\" x=\"424.335938\" y=\"15.429688\"/>\n",
       "  <use xlink:href=\"#glyph3-6\" x=\"431.335938\" y=\"15.429688\"/>\n",
       "  <use xlink:href=\"#glyph3-21\" x=\"438.335938\" y=\"15.429688\"/>\n",
       "  <use xlink:href=\"#glyph3-7\" x=\"445.335938\" y=\"15.429688\"/>\n",
       "  <use xlink:href=\"#glyph3-12\" x=\"449.335938\" y=\"15.429688\"/>\n",
       "  <use xlink:href=\"#glyph3-27\" x=\"456.335938\" y=\"15.429688\"/>\n",
       "  <use xlink:href=\"#glyph3-7\" x=\"460.335938\" y=\"15.429688\"/>\n",
       "  <use xlink:href=\"#glyph3-28\" x=\"464.335938\" y=\"15.429688\"/>\n",
       "</g>\n",
       "</g>\n",
       "</svg>\n"
      ],
      "text/plain": [
       "plot without title"
      ]
     },
     "metadata": {
      "application/pdf": {
       "height": 420,
       "width": 420
      },
      "image/jpeg": {
       "height": 420,
       "width": 420
      },
      "image/png": {
       "height": 420,
       "width": 420
      },
      "image/svg+xml": {
       "height": 420,
       "isolated": true,
       "width": 420
      }
     },
     "output_type": "display_data"
    }
   ],
   "source": [
    "set.seed(4321)\n",
    "library(tidymodels)\n",
    "install.packages(\"kknn\")\n",
    "# spam_training\n",
    "\n",
    "spam_vfold <- vfold_cv(spam_training, v = 5, strata = spam_or_not_spam)\n",
    "\n",
    "spam_recipe <- recipe(spam_or_not_spam ~., data = spam_training) |>\n",
    "    step_center(all_predictors()) |>\n",
    "    step_scale(all_predictors())\n",
    "\n",
    "knn_tune <- nearest_neighbor(weight_func = 'rectangular', neighbors = tune()) |>\n",
    "    set_engine(\"kknn\") |>\n",
    "    set_mode(\"classification\") \n",
    "\n",
    "knn_results <- workflow() |>\n",
    "    add_recipe(spam_recipe) |>\n",
    "    add_model(knn_tune) |>\n",
    "    tune_grid(resamples = spam_vfold, grid = 10) |>\n",
    "    collect_metrics()\n",
    "\n",
    "accuracies <- knn_results |>\n",
    "    filter(.metric == 'accuracy')\n",
    "\n",
    "# accuracies\n",
    "\n",
    "accuracy_vs_k <- ggplot(accuracies, aes(x = neighbors, y = mean)) +\n",
    "    geom_point() +\n",
    "    geom_line() +\n",
    "    labs(x = 'Number of Neighbors', y = 'Accuracy Estimates per Neighbor') +\n",
    "    scale_x_continuous(breaks = seq(0, 14, by = 1)) +\n",
    "    scale_y_continuous(limits = c(0.8, 0.86)) +\n",
    "    ggtitle(\"Figure 1: Plotting the Accuracy Estimate versus Individual Values of K\") +\n",
    "    theme(plot.title = element_text(hjust = 0.5))\n",
    "\n",
    "accuracy_vs_k\n",
    "\n",
    "knn_spec <- nearest_neighbor(weight_func = 'rectangular', neighbors = 7) |>\n",
    "    set_engine(\"kknn\") |>\n",
    "    set_mode(\"classification\") \n",
    "\n",
    "spam_fit <- workflow() |>\n",
    "    add_recipe(spam_recipe) |>\n",
    "    add_model(knn_spec) |>\n",
    "    fit(data = spam_training)\n",
    "\n",
    "spam_test_predictions <- predict(spam_fit, spam_training) |>\n",
    "    bind_cols(spam_training)\n",
    "\n",
    "spam_prediction_accuracy <- spam_test_predictions |>\n",
    "    metrics(truth = spam_or_not_spam, estimate = .pred_class)\n",
    "\n",
    "spam_prediction_accuracy\n",
    "\n",
    "spam_matrix <- spam_test_predictions |>\n",
    "    conf_mat(truth = spam_or_not_spam, estimate = .pred_class)\n",
    "\n",
    "spam_matrix\n",
    "\n",
    "new_spam <- tibble(char_freq_semicolon = c(0.001), char_freq_paren = c(0.001), char_freq_brack = c(0.001), \n",
    "                  char_freq_excl = c(1), char_freq_mon = c(0.001), char_freq_hash = c(0.001), capital_run_length_average = c(20))\n",
    "\n",
    "new_pred <- predict(spam_fit, new_spam)\n",
    "new_pred"
   ]
  },
  {
   "cell_type": "markdown",
   "id": "6654127d-857b-499f-bf6a-7c39f4b20d41",
   "metadata": {},
   "source": [
    "## Methods in Conducting Our Analysis "
   ]
  },
  {
   "cell_type": "markdown",
   "id": "aaee858a-6001-4014-803c-316682d3fd15",
   "metadata": {},
   "source": [
    "### Creating Important Plots Comparing Distributions of Predictors and Varying Incomes, via the Training Data"
   ]
  },
  {
   "cell_type": "code",
   "execution_count": null,
   "id": "3ebc2c17-c057-4854-a7f9-906da7a8ec9a",
   "metadata": {
    "tags": []
   },
   "outputs": [
    {
     "name": "stderr",
     "output_type": "stream",
     "text": [
      "Warning message:\n",
      "“\u001b[1m\u001b[22mRemoved 130 rows containing missing values (`geom_point()`).”\n"
     ]
    }
   ],
   "source": [
    "library(repr) # for setting the height and width of the plots \n",
    "\n",
    "options(repr.plot.width = 8, repr.plot.height = 8)\n",
    "\n",
    "spam_plot1 <- spam_training |>\n",
    "    ggplot(aes(x = char_freq_brack, y = char_freq_semicolon, colour = spam_or_not_spam)) +\n",
    "    geom_point(alpha = 0.5) +\n",
    "    labs(x = \"Frequency of Brackets in E-Mail (percentage)\", y = \"Frequency of Semicolons in E-Mail (percentage)\", colour = \"Is the E-Mail Spam?\") +\n",
    "    xlim(c(0, 0.25)) +\n",
    "    ylim(c(0, 0.25)) +\n",
    "    theme(text = element_text(size = 8)) +\n",
    "    ggtitle(\"Plotting Semicolon Frequency versus Bracket Frequency\")\n",
    "\n",
    "spam_plot1\n",
    "## OTHER GRAPHS CAN BE PLOTTED AS SUCH, BUT FOR SIMPLICITY, JUST THIS GRAPH IS PLOTTED FOR THE PROPOSAL\n",
    "\n",
    "## The graphs tells us the relationship between two of the predictor variables, and is coloured by class of spam or not spam\n",
    "## the importance of this graph lies in the fact that as the frequency of brackets and semicolons goes up, it is more likely for the e-mail to be spam\n",
    "## this can lead to interesting conclusions as one may suspect the opposite case (excsessive brackets and semicolons leading to spam e-mail)"
   ]
  },
  {
   "cell_type": "markdown",
   "id": "5b9f8eb2-fbc7-4d19-8728-9f086d3d3e33",
   "metadata": {},
   "source": [
    "### How will we conduct our analysis? What variables will we consider?"
   ]
  },
  {
   "cell_type": "markdown",
   "id": "46e85781-6c9e-4061-b2af-084e582f4e78",
   "metadata": {},
   "source": [
    "We will conduct our analysis via KNN classification, as we are considering a binary classification of \"spam\" or \"not spam\" E-Mails, which are categorical classifications. We will consider the result of our model through accuracy, and also precision/recall, to determine how our model treated positives and negatives. The raw dataset contained 58 features, but for the purpose of this project we consider 7: frequency of characters such as hard and soft brackets, semicolons, money symbols, exclamation points, and hash signs (**all as percentages**), as well as the average length of uninterrupted capital letters (i.e \"AAABSsdA\") has a length of 5 uninterrupted capitals. To choose these we took into account articles such as [(Forbes, 2010)](\"https://www.forbes.com/sites/firewall/2010/03/17/the-most-common-words-in-spam-email/?sh=5f23e8df7d80\"), which consider words that are most frequent in spam e-mails. These words often contain the aforementioned symbols (brackets, exclamations, etc.), and so we believed that it would make for a good classification to use these as our predictors.\n",
    "\n",
    "Word Count: 152 Words"
   ]
  },
  {
   "cell_type": "markdown",
   "id": "367f25d2-c89e-4cc5-be60-e08212dcf1f3",
   "metadata": {},
   "source": [
    "### How will we visualize our results?"
   ]
  },
  {
   "cell_type": "markdown",
   "id": "317e64fd-c4c5-4773-9e02-9e7b1843476f",
   "metadata": {},
   "source": [
    "We will visualize our results via multiple plots as shown above, considering all of the different features and colored by the class of \"spam\" or \"not_spam\". We can then create background fields of the colours of spam or not spam, to indicate how much of the graph would have been classified as spam and how much would have been classified as not spam, considering an arbitrary unknown observation. For our accuracy we will look to plot the K values versus our accuracy to see which K yields the best accuracy. \n",
    "\n",
    "Word Count: 90 Words "
   ]
  },
  {
   "cell_type": "markdown",
   "id": "d4fa27f5-9d30-418b-8294-e3f4b492f9b8",
   "metadata": {},
   "source": [
    "## Expected Outcomes and Significance"
   ]
  },
  {
   "cell_type": "markdown",
   "id": "b27f42f4-8b09-41f5-81ed-1676b3d862be",
   "metadata": {},
   "source": [
    "### What do we expect to find?"
   ]
  },
  {
   "cell_type": "markdown",
   "id": "1eb7e93f-5b7c-4c23-9477-87c17ac759b0",
   "metadata": {
    "tags": []
   },
   "source": [
    "We expect that E-Mails with high frequency of the listed characters and long sequences of uninterrupted capitals will be classified as spam E-Mails, and low frequency and sequences will be classified as \"not spam\". \n",
    "\n",
    "Word Count: 34 Words"
   ]
  },
  {
   "cell_type": "markdown",
   "id": "6dd0903b-6aee-4c8e-90d6-56f1ff4e3d28",
   "metadata": {},
   "source": [
    "### What impact could such findings have?"
   ]
  },
  {
   "cell_type": "markdown",
   "id": "457034c0-dc97-4649-ab0f-3fb7dd3f5415",
   "metadata": {},
   "source": [
    "The findings in this project could aid data scientists to change their pre-existing classifiers for spam E-Mails, as there may be some results that do not align with their hypothesis'.\n",
    "\n",
    "Word Count: 30 Words"
   ]
  },
  {
   "cell_type": "markdown",
   "id": "afe8d2f0-2268-476f-b3bc-2abd383f32f3",
   "metadata": {},
   "source": [
    "### What future questions could this lead to?"
   ]
  },
  {
   "cell_type": "markdown",
   "id": "c784bfa3-eb4d-4fca-964f-d048d89f4913",
   "metadata": {},
   "source": [
    "This project could lead to questions about how E-Mails should/should not be classified as spam; if high frequency characters do **not** lead to spam E-Mail, then data scientists may focus on low frequency characters, and vice versa. \n",
    "\n",
    "Word Count: 38 Words"
   ]
  },
  {
   "cell_type": "markdown",
   "id": "ff125e1a-8d6c-41a7-bc53-35f603dbaf9c",
   "metadata": {},
   "source": [
    "### Total Word Count: 500 Words "
   ]
  },
  {
   "cell_type": "markdown",
   "id": "06045f83-8432-4707-9a0b-ba9cd9cfd050",
   "metadata": {},
   "source": [
    " ## Works Cited"
   ]
  },
  {
   "cell_type": "markdown",
   "id": "83e486c0-01de-485c-9599-f4bb52d37cea",
   "metadata": {
    "tags": []
   },
   "source": [
    "- [UCI Machine Learning Repo, Spambase Dataset, 1999](\"https://archive.ics.uci.edu/dataset/94/spambase\")\n",
    "- [Forbes Article on Frequent Words in Spam Emails, 2010](\"https://www.forbes.com/sites/firewall/2010/03/17/the-most-common-words-in-spam-email/?sh=5f23e8df7d80\")\n",
    "- [Virus Basics from CISA, 2023](\"https://www.cisa.gov/news-events/news/virus-basics\")"
   ]
  },
  {
   "cell_type": "code",
   "execution_count": null,
   "id": "2b8da405-5c44-4c18-adeb-210890b58432",
   "metadata": {},
   "outputs": [],
   "source": []
  }
 ],
 "metadata": {
  "kernelspec": {
   "display_name": "R",
   "language": "R",
   "name": "ir"
  },
  "language_info": {
   "codemirror_mode": "r",
   "file_extension": ".r",
   "mimetype": "text/x-r-source",
   "name": "R",
   "pygments_lexer": "r",
   "version": "4.2.2"
  }
 },
 "nbformat": 4,
 "nbformat_minor": 5
}
